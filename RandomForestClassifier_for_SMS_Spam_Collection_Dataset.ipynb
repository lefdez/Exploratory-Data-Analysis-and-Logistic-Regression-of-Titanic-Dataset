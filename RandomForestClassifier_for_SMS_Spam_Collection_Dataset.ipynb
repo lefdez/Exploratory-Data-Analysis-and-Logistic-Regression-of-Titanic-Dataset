{
  "nbformat": 4,
  "nbformat_minor": 0,
  "metadata": {
    "colab": {
      "provenance": [],
      "authorship_tag": "ABX9TyPR3ZHGnA/kQ5ML94MvOqZ9"
    },
    "kernelspec": {
      "name": "python3",
      "display_name": "Python 3"
    },
    "language_info": {
      "name": "python"
    }
  },
  "cells": [
    {
      "cell_type": "markdown",
      "source": [
        "## Procesamiento del Lenguaje Natural (PLN)\n",
        "\n",
        "\n",
        "El PLN es una rama de la inteligencia artificial que se enfoca en la interacción entre las computadoras y el lenguaje humano. Su objetivo es permitir que las máquinas comprendan, interpreten y generen lenguaje de manera que sea útil para los seres humanos. El PLN abarca varias tareas y técnicas que incluyen:\n",
        "\n",
        "- Análisis sintáctico y semántico: El análisis sintáctico implica descomponer una oración en sus componentes gramaticales para entender su estructura, mientras que el semántico se enfoca en el significado de las palabras y las relaciones entre ellas.\n",
        "\n",
        "- Tokenización: Consiste en dividir un texto en unidades más pequeñas, como palabras o frases, que se pueden procesar más fácilmente.\n",
        "\n",
        "- Etiquetado de partes del discurso (POS tagging): Asigna categorías gramaticales (sustantivo, verbo, adjetivo, etc.) a cada palabra en una oración.\n",
        "\n",
        "- Análisis de sentimientos: Determina la actitud emocional detrás de un texto, ya sea positivo, negativo o neutral.\n",
        "\n",
        "- Traducción automática: Permite traducir texto de un idioma a otro utilizando algoritmos de PLN.\n",
        "\n",
        "- Reconocimiento de entidades nombradas (NER): Identifica y clasifica entidades relevantes en un texto, como nombres de personas, lugares y fechas.\n",
        "\n",
        "- Generación de texto: El PLN también se utiliza para crear texto coherente y relevante, como en la generación automática de resúmenes o respuestas a preguntas.\n",
        "\n",
        "El PLN depende de técnicas como el aprendizaje automático, redes neuronales y modelos de lenguaje para mejorar la precisión de estas tareas, y es fundamental en aplicaciones como chatbots, asistentes virtuales, motores de búsqueda y sistemas de recomendación. Sin embargo, a pesar de sus avances, sigue siendo un campo desafiante debido a la ambigüedad, complejidad y diversidad del lenguaje humano."
      ],
      "metadata": {
        "id": "YkXCWuPhZJlG"
      }
    },
    {
      "cell_type": "code",
      "execution_count": 1,
      "metadata": {
        "colab": {
          "base_uri": "https://localhost:8080/"
        },
        "id": "_IAzWdiQZIw6",
        "outputId": "e4a5d4f9-4f9f-4061-e368-3802c4756816"
      },
      "outputs": [
        {
          "output_type": "stream",
          "name": "stdout",
          "text": [
            "Requirement already satisfied: nltk in /usr/local/lib/python3.10/dist-packages (3.9.1)\n",
            "Requirement already satisfied: click in /usr/local/lib/python3.10/dist-packages (from nltk) (8.1.7)\n",
            "Requirement already satisfied: joblib in /usr/local/lib/python3.10/dist-packages (from nltk) (1.4.2)\n",
            "Requirement already satisfied: regex>=2021.8.3 in /usr/local/lib/python3.10/dist-packages (from nltk) (2024.9.11)\n",
            "Requirement already satisfied: tqdm in /usr/local/lib/python3.10/dist-packages (from nltk) (4.66.6)\n"
          ]
        }
      ],
      "source": [
        "pip install nltk"
      ]
    },
    {
      "cell_type": "code",
      "source": [
        "nltk.download('stopwords')"
      ],
      "metadata": {
        "colab": {
          "base_uri": "https://localhost:8080/"
        },
        "id": "5LWRWNeymmmO",
        "outputId": "2fb11ea7-fc7e-4d1d-80be-9bd430bf2306"
      },
      "execution_count": 104,
      "outputs": [
        {
          "output_type": "stream",
          "name": "stderr",
          "text": [
            "[nltk_data] Downloading package stopwords to /root/nltk_data...\n",
            "[nltk_data]   Unzipping corpora/stopwords.zip.\n"
          ]
        },
        {
          "output_type": "execute_result",
          "data": {
            "text/plain": [
              "True"
            ]
          },
          "metadata": {},
          "execution_count": 104
        }
      ]
    },
    {
      "cell_type": "markdown",
      "source": [
        "### SMS Spam Collection Dataset\n",
        "Collection of SMS messages tagged as spam or legitimate\n",
        "\n",
        "About Dataset\n",
        "Context\n",
        "The SMS Spam Collection is a set of SMS tagged messages that have been collected for SMS Spam research. It contains one set of SMS messages in English of 5,574 messages, tagged acording being ham (legitimate) or spam.\n",
        "\n",
        "Content\n",
        "The files contain one message per line. Each line is composed by two columns: v1 contains the label (ham or spam) and v2 contains the raw text.\n",
        "\n",
        "This corpus has been collected from free or free for research sources at the Internet:\n",
        "\n",
        "-> A collection of 425 SMS spam messages was manually extracted from the Grumbletext Web site. This is a UK forum in which cell phone users make public claims about SMS spam messages, most of them without reporting the very spam message received. The identification of the text of spam messages in the claims is a very hard and time-consuming task, and it involved carefully scanning hundreds of web pages. The Grumbletext Web site is: [Web Link].\n",
        "-> A subset of 3,375 SMS randomly chosen ham messages of the NUS SMS Corpus (NSC), which is a dataset of about 10,000 legitimate messages collected for research at the Department of Computer Science at the National University of Singapore. The messages largely originate from Singaporeans and mostly from students attending the University. These messages were collected from volunteers who were made aware that their contributions were going to be made publicly available. The NUS SMS Corpus is avalaible at: [Web Link].\n",
        "-> A list of 450 SMS ham messages collected from Caroline Tag's PhD Thesis available at [Web Link].\n",
        "-> Finally, we have incorporated the SMS Spam Corpus v.0.1 Big. It has 1,002 SMS ham messages and 322 spam messages and it is public available at: [Web Link]. This corpus has been used in the following academic researches:\n",
        "\n",
        "Acknowledgements\n",
        "The original dataset can be found here. The creators would like to note that in case you find the dataset useful, please make a reference to previous paper and the web page: http://www.dt.fee.unicamp.br/~tiago/smsspamcollection/ in your papers, research, etc.\n",
        "\n",
        "We offer a comprehensive study of this corpus in the following paper. This work presents a number of statistics, studies and baseline results for several machine learning methods.\n",
        "\n",
        "Almeida, T.A., GÃ³mez Hidalgo, J.M., Yamakami, A. Contributions to the Study of SMS Spam Filtering: New Collection and Results. Proceedings of the 2011 ACM Symposium on Document Engineering (DOCENG'11), Mountain View, CA, USA, 2011.\n",
        "\n",
        "Inspiration\n",
        "Can you use this dataset to build a prediction model that will accurately classify which texts are spam?"
      ],
      "metadata": {
        "id": "90AH3hoGcSk0"
      }
    },
    {
      "cell_type": "code",
      "source": [
        "import nltk\n",
        "import os\n",
        "import pandas as pd\n",
        "\n",
        "import matplotlib.pyplot as plt\n",
        "import seaborn as sns\n",
        "from wordcloud import WordCloud\n",
        "import string\n",
        "from nltk.corpus import stopwords\n",
        "from nltk.tokenize import word_tokenize\n",
        "from sklearn.feature_extraction.text import CountVectorizer"
      ],
      "metadata": {
        "id": "fibyYPQtcRBN"
      },
      "execution_count": 111,
      "outputs": []
    },
    {
      "cell_type": "code",
      "source": [
        "file_path = \"sample_data/spam.csv\"\n",
        "if os.path.exists(file_path):\n",
        "    mensajes = [line.rstrip() for line in open(file_path, \"r\", encoding=\"ISO-8859-1\")]\n",
        "else:\n",
        "    print(f\"El archivo {file_path} no existe.\")\n"
      ],
      "metadata": {
        "id": "lTDm7oFpeTnO"
      },
      "execution_count": 75,
      "outputs": []
    },
    {
      "cell_type": "code",
      "source": [
        "mensajes[1]"
      ],
      "metadata": {
        "colab": {
          "base_uri": "https://localhost:8080/",
          "height": 35
        },
        "id": "RHoenf2bbzC5",
        "outputId": "a1b95a79-32c5-4527-9bf8-d92579d7197e"
      },
      "execution_count": 76,
      "outputs": [
        {
          "output_type": "execute_result",
          "data": {
            "text/plain": [
              "'ham,Ok lar... Joking wif u oni...'"
            ],
            "application/vnd.google.colaboratory.intrinsic+json": {
              "type": "string"
            }
          },
          "metadata": {},
          "execution_count": 76
        }
      ]
    },
    {
      "cell_type": "code",
      "source": [
        "for mensaje in enumerate(mensajes[:5]):\n",
        "    print(mensaje)"
      ],
      "metadata": {
        "colab": {
          "base_uri": "https://localhost:8080/"
        },
        "id": "tPr_8P2mgtn6",
        "outputId": "d2f74700-03c6-4a63-dc24-5a34f3ba6ed4"
      },
      "execution_count": 77,
      "outputs": [
        {
          "output_type": "stream",
          "name": "stdout",
          "text": [
            "(0, 'ï»¿ham,\"Go until jurong point, crazy.. Available only in bugis n great world la e buffet... Cine there got amore wat...\"')\n",
            "(1, 'ham,Ok lar... Joking wif u oni...')\n",
            "(2, \"spam,Free entry in 2 a wkly comp to win FA Cup final tkts 21st May 2005. Text FA to 87121 to receive entry question(std txt rate)T&C's apply 08452810075over18's\")\n",
            "(3, 'ham,U dun say so early hor... U c already then say...')\n",
            "(4, 'ham,\"Nah I don\\'t think he goes to usf, he lives around here though\"')\n"
          ]
        }
      ]
    },
    {
      "cell_type": "code",
      "source": [
        "mensajes_df = pd.read_csv(file_path, sep=\",\", header=None, names=[\"etiqueta\", \"mensaje\"])"
      ],
      "metadata": {
        "id": "3IPUCbzeg7LS"
      },
      "execution_count": 78,
      "outputs": []
    },
    {
      "cell_type": "code",
      "source": [
        "mensajes_df.head()"
      ],
      "metadata": {
        "colab": {
          "base_uri": "https://localhost:8080/",
          "height": 206
        },
        "id": "wrJif2FGhQrW",
        "outputId": "8d713713-8fbb-445c-bce6-535732a74277"
      },
      "execution_count": 79,
      "outputs": [
        {
          "output_type": "execute_result",
          "data": {
            "text/plain": [
              "  etiqueta                                            mensaje\n",
              "0      ham  Go until jurong point, crazy.. Available only ...\n",
              "1      ham                      Ok lar... Joking wif u oni...\n",
              "2     spam  Free entry in 2 a wkly comp to win FA Cup fina...\n",
              "3      ham  U dun say so early hor... U c already then say...\n",
              "4      ham  Nah I don't think he goes to usf, he lives aro..."
            ],
            "text/html": [
              "\n",
              "  <div id=\"df-ce0091b1-b9cc-47f5-93bd-eb5f867233d6\" class=\"colab-df-container\">\n",
              "    <div>\n",
              "<style scoped>\n",
              "    .dataframe tbody tr th:only-of-type {\n",
              "        vertical-align: middle;\n",
              "    }\n",
              "\n",
              "    .dataframe tbody tr th {\n",
              "        vertical-align: top;\n",
              "    }\n",
              "\n",
              "    .dataframe thead th {\n",
              "        text-align: right;\n",
              "    }\n",
              "</style>\n",
              "<table border=\"1\" class=\"dataframe\">\n",
              "  <thead>\n",
              "    <tr style=\"text-align: right;\">\n",
              "      <th></th>\n",
              "      <th>etiqueta</th>\n",
              "      <th>mensaje</th>\n",
              "    </tr>\n",
              "  </thead>\n",
              "  <tbody>\n",
              "    <tr>\n",
              "      <th>0</th>\n",
              "      <td>ham</td>\n",
              "      <td>Go until jurong point, crazy.. Available only ...</td>\n",
              "    </tr>\n",
              "    <tr>\n",
              "      <th>1</th>\n",
              "      <td>ham</td>\n",
              "      <td>Ok lar... Joking wif u oni...</td>\n",
              "    </tr>\n",
              "    <tr>\n",
              "      <th>2</th>\n",
              "      <td>spam</td>\n",
              "      <td>Free entry in 2 a wkly comp to win FA Cup fina...</td>\n",
              "    </tr>\n",
              "    <tr>\n",
              "      <th>3</th>\n",
              "      <td>ham</td>\n",
              "      <td>U dun say so early hor... U c already then say...</td>\n",
              "    </tr>\n",
              "    <tr>\n",
              "      <th>4</th>\n",
              "      <td>ham</td>\n",
              "      <td>Nah I don't think he goes to usf, he lives aro...</td>\n",
              "    </tr>\n",
              "  </tbody>\n",
              "</table>\n",
              "</div>\n",
              "    <div class=\"colab-df-buttons\">\n",
              "\n",
              "  <div class=\"colab-df-container\">\n",
              "    <button class=\"colab-df-convert\" onclick=\"convertToInteractive('df-ce0091b1-b9cc-47f5-93bd-eb5f867233d6')\"\n",
              "            title=\"Convert this dataframe to an interactive table.\"\n",
              "            style=\"display:none;\">\n",
              "\n",
              "  <svg xmlns=\"http://www.w3.org/2000/svg\" height=\"24px\" viewBox=\"0 -960 960 960\">\n",
              "    <path d=\"M120-120v-720h720v720H120Zm60-500h600v-160H180v160Zm220 220h160v-160H400v160Zm0 220h160v-160H400v160ZM180-400h160v-160H180v160Zm440 0h160v-160H620v160ZM180-180h160v-160H180v160Zm440 0h160v-160H620v160Z\"/>\n",
              "  </svg>\n",
              "    </button>\n",
              "\n",
              "  <style>\n",
              "    .colab-df-container {\n",
              "      display:flex;\n",
              "      gap: 12px;\n",
              "    }\n",
              "\n",
              "    .colab-df-convert {\n",
              "      background-color: #E8F0FE;\n",
              "      border: none;\n",
              "      border-radius: 50%;\n",
              "      cursor: pointer;\n",
              "      display: none;\n",
              "      fill: #1967D2;\n",
              "      height: 32px;\n",
              "      padding: 0 0 0 0;\n",
              "      width: 32px;\n",
              "    }\n",
              "\n",
              "    .colab-df-convert:hover {\n",
              "      background-color: #E2EBFA;\n",
              "      box-shadow: 0px 1px 2px rgba(60, 64, 67, 0.3), 0px 1px 3px 1px rgba(60, 64, 67, 0.15);\n",
              "      fill: #174EA6;\n",
              "    }\n",
              "\n",
              "    .colab-df-buttons div {\n",
              "      margin-bottom: 4px;\n",
              "    }\n",
              "\n",
              "    [theme=dark] .colab-df-convert {\n",
              "      background-color: #3B4455;\n",
              "      fill: #D2E3FC;\n",
              "    }\n",
              "\n",
              "    [theme=dark] .colab-df-convert:hover {\n",
              "      background-color: #434B5C;\n",
              "      box-shadow: 0px 1px 3px 1px rgba(0, 0, 0, 0.15);\n",
              "      filter: drop-shadow(0px 1px 2px rgba(0, 0, 0, 0.3));\n",
              "      fill: #FFFFFF;\n",
              "    }\n",
              "  </style>\n",
              "\n",
              "    <script>\n",
              "      const buttonEl =\n",
              "        document.querySelector('#df-ce0091b1-b9cc-47f5-93bd-eb5f867233d6 button.colab-df-convert');\n",
              "      buttonEl.style.display =\n",
              "        google.colab.kernel.accessAllowed ? 'block' : 'none';\n",
              "\n",
              "      async function convertToInteractive(key) {\n",
              "        const element = document.querySelector('#df-ce0091b1-b9cc-47f5-93bd-eb5f867233d6');\n",
              "        const dataTable =\n",
              "          await google.colab.kernel.invokeFunction('convertToInteractive',\n",
              "                                                    [key], {});\n",
              "        if (!dataTable) return;\n",
              "\n",
              "        const docLinkHtml = 'Like what you see? Visit the ' +\n",
              "          '<a target=\"_blank\" href=https://colab.research.google.com/notebooks/data_table.ipynb>data table notebook</a>'\n",
              "          + ' to learn more about interactive tables.';\n",
              "        element.innerHTML = '';\n",
              "        dataTable['output_type'] = 'display_data';\n",
              "        await google.colab.output.renderOutput(dataTable, element);\n",
              "        const docLink = document.createElement('div');\n",
              "        docLink.innerHTML = docLinkHtml;\n",
              "        element.appendChild(docLink);\n",
              "      }\n",
              "    </script>\n",
              "  </div>\n",
              "\n",
              "\n",
              "<div id=\"df-186af0ab-5ce4-496b-95b4-3e5b6460e456\">\n",
              "  <button class=\"colab-df-quickchart\" onclick=\"quickchart('df-186af0ab-5ce4-496b-95b4-3e5b6460e456')\"\n",
              "            title=\"Suggest charts\"\n",
              "            style=\"display:none;\">\n",
              "\n",
              "<svg xmlns=\"http://www.w3.org/2000/svg\" height=\"24px\"viewBox=\"0 0 24 24\"\n",
              "     width=\"24px\">\n",
              "    <g>\n",
              "        <path d=\"M19 3H5c-1.1 0-2 .9-2 2v14c0 1.1.9 2 2 2h14c1.1 0 2-.9 2-2V5c0-1.1-.9-2-2-2zM9 17H7v-7h2v7zm4 0h-2V7h2v10zm4 0h-2v-4h2v4z\"/>\n",
              "    </g>\n",
              "</svg>\n",
              "  </button>\n",
              "\n",
              "<style>\n",
              "  .colab-df-quickchart {\n",
              "      --bg-color: #E8F0FE;\n",
              "      --fill-color: #1967D2;\n",
              "      --hover-bg-color: #E2EBFA;\n",
              "      --hover-fill-color: #174EA6;\n",
              "      --disabled-fill-color: #AAA;\n",
              "      --disabled-bg-color: #DDD;\n",
              "  }\n",
              "\n",
              "  [theme=dark] .colab-df-quickchart {\n",
              "      --bg-color: #3B4455;\n",
              "      --fill-color: #D2E3FC;\n",
              "      --hover-bg-color: #434B5C;\n",
              "      --hover-fill-color: #FFFFFF;\n",
              "      --disabled-bg-color: #3B4455;\n",
              "      --disabled-fill-color: #666;\n",
              "  }\n",
              "\n",
              "  .colab-df-quickchart {\n",
              "    background-color: var(--bg-color);\n",
              "    border: none;\n",
              "    border-radius: 50%;\n",
              "    cursor: pointer;\n",
              "    display: none;\n",
              "    fill: var(--fill-color);\n",
              "    height: 32px;\n",
              "    padding: 0;\n",
              "    width: 32px;\n",
              "  }\n",
              "\n",
              "  .colab-df-quickchart:hover {\n",
              "    background-color: var(--hover-bg-color);\n",
              "    box-shadow: 0 1px 2px rgba(60, 64, 67, 0.3), 0 1px 3px 1px rgba(60, 64, 67, 0.15);\n",
              "    fill: var(--button-hover-fill-color);\n",
              "  }\n",
              "\n",
              "  .colab-df-quickchart-complete:disabled,\n",
              "  .colab-df-quickchart-complete:disabled:hover {\n",
              "    background-color: var(--disabled-bg-color);\n",
              "    fill: var(--disabled-fill-color);\n",
              "    box-shadow: none;\n",
              "  }\n",
              "\n",
              "  .colab-df-spinner {\n",
              "    border: 2px solid var(--fill-color);\n",
              "    border-color: transparent;\n",
              "    border-bottom-color: var(--fill-color);\n",
              "    animation:\n",
              "      spin 1s steps(1) infinite;\n",
              "  }\n",
              "\n",
              "  @keyframes spin {\n",
              "    0% {\n",
              "      border-color: transparent;\n",
              "      border-bottom-color: var(--fill-color);\n",
              "      border-left-color: var(--fill-color);\n",
              "    }\n",
              "    20% {\n",
              "      border-color: transparent;\n",
              "      border-left-color: var(--fill-color);\n",
              "      border-top-color: var(--fill-color);\n",
              "    }\n",
              "    30% {\n",
              "      border-color: transparent;\n",
              "      border-left-color: var(--fill-color);\n",
              "      border-top-color: var(--fill-color);\n",
              "      border-right-color: var(--fill-color);\n",
              "    }\n",
              "    40% {\n",
              "      border-color: transparent;\n",
              "      border-right-color: var(--fill-color);\n",
              "      border-top-color: var(--fill-color);\n",
              "    }\n",
              "    60% {\n",
              "      border-color: transparent;\n",
              "      border-right-color: var(--fill-color);\n",
              "    }\n",
              "    80% {\n",
              "      border-color: transparent;\n",
              "      border-right-color: var(--fill-color);\n",
              "      border-bottom-color: var(--fill-color);\n",
              "    }\n",
              "    90% {\n",
              "      border-color: transparent;\n",
              "      border-bottom-color: var(--fill-color);\n",
              "    }\n",
              "  }\n",
              "</style>\n",
              "\n",
              "  <script>\n",
              "    async function quickchart(key) {\n",
              "      const quickchartButtonEl =\n",
              "        document.querySelector('#' + key + ' button');\n",
              "      quickchartButtonEl.disabled = true;  // To prevent multiple clicks.\n",
              "      quickchartButtonEl.classList.add('colab-df-spinner');\n",
              "      try {\n",
              "        const charts = await google.colab.kernel.invokeFunction(\n",
              "            'suggestCharts', [key], {});\n",
              "      } catch (error) {\n",
              "        console.error('Error during call to suggestCharts:', error);\n",
              "      }\n",
              "      quickchartButtonEl.classList.remove('colab-df-spinner');\n",
              "      quickchartButtonEl.classList.add('colab-df-quickchart-complete');\n",
              "    }\n",
              "    (() => {\n",
              "      let quickchartButtonEl =\n",
              "        document.querySelector('#df-186af0ab-5ce4-496b-95b4-3e5b6460e456 button');\n",
              "      quickchartButtonEl.style.display =\n",
              "        google.colab.kernel.accessAllowed ? 'block' : 'none';\n",
              "    })();\n",
              "  </script>\n",
              "</div>\n",
              "\n",
              "    </div>\n",
              "  </div>\n"
            ],
            "application/vnd.google.colaboratory.intrinsic+json": {
              "type": "dataframe",
              "variable_name": "mensajes_df",
              "summary": "{\n  \"name\": \"mensajes_df\",\n  \"rows\": 5572,\n  \"fields\": [\n    {\n      \"column\": \"etiqueta\",\n      \"properties\": {\n        \"dtype\": \"category\",\n        \"num_unique_values\": 2,\n        \"samples\": [\n          \"spam\",\n          \"ham\"\n        ],\n        \"semantic_type\": \"\",\n        \"description\": \"\"\n      }\n    },\n    {\n      \"column\": \"mensaje\",\n      \"properties\": {\n        \"dtype\": \"string\",\n        \"num_unique_values\": 5169,\n        \"samples\": [\n          \"Did u download the fring app?\",\n          \"Pass dis to all ur contacts n see wat u get! Red;i'm in luv wid u. Blue;u put a smile on my face. Purple;u r realy hot. Pink;u r so swt. Orange;i thnk i lyk u. Green;i realy wana go out wid u. Yelow;i wnt u bck. Black;i'm jealous of u. Brown;i miss you Nw plz giv me one color\"\n        ],\n        \"semantic_type\": \"\",\n        \"description\": \"\"\n      }\n    }\n  ]\n}"
            }
          },
          "metadata": {},
          "execution_count": 79
        }
      ]
    },
    {
      "cell_type": "code",
      "source": [
        "mensajes_df['longitud'] = mensajes_df['mensaje'].apply(len)"
      ],
      "metadata": {
        "id": "UDG16OGHjajz"
      },
      "execution_count": 80,
      "outputs": []
    },
    {
      "cell_type": "code",
      "source": [
        "mensajes_df.longitud.plot.hist(bins=200)"
      ],
      "metadata": {
        "colab": {
          "base_uri": "https://localhost:8080/",
          "height": 447
        },
        "id": "eNw12rXjjjsa",
        "outputId": "3c7a59f9-4528-48db-9a01-33e5fca2547b"
      },
      "execution_count": 82,
      "outputs": [
        {
          "output_type": "execute_result",
          "data": {
            "text/plain": [
              "<Axes: ylabel='Frequency'>"
            ]
          },
          "metadata": {},
          "execution_count": 82
        },
        {
          "output_type": "display_data",
          "data": {
            "text/plain": [
              "<Figure size 640x480 with 1 Axes>"
            ],
            "image/png": "[encoded data removed]"
          },
          "metadata": {}
        }
      ]
    },
    {
      "cell_type": "code",
      "source": [
        "mensajes_df.longitud.describe()"
      ],
      "metadata": {
        "colab": {
          "base_uri": "https://localhost:8080/",
          "height": 335
        },
        "id": "D_I7RBBwj8ui",
        "outputId": "9b3f8b3c-e120-41c6-e9de-3c6e1b0e6e79"
      },
      "execution_count": 83,
      "outputs": [
        {
          "output_type": "execute_result",
          "data": {
            "text/plain": [
              "count    5572.000000\n",
              "mean       80.118808\n",
              "std        59.690841\n",
              "min         2.000000\n",
              "25%        36.000000\n",
              "50%        61.000000\n",
              "75%       121.000000\n",
              "max       910.000000\n",
              "Name: longitud, dtype: float64"
            ],
            "text/html": [
              "<div>\n",
              "<style scoped>\n",
              "    .dataframe tbody tr th:only-of-type {\n",
              "        vertical-align: middle;\n",
              "    }\n",
              "\n",
              "    .dataframe tbody tr th {\n",
              "        vertical-align: top;\n",
              "    }\n",
              "\n",
              "    .dataframe thead th {\n",
              "        text-align: right;\n",
              "    }\n",
              "</style>\n",
              "<table border=\"1\" class=\"dataframe\">\n",
              "  <thead>\n",
              "    <tr style=\"text-align: right;\">\n",
              "      <th></th>\n",
              "      <th>longitud</th>\n",
              "    </tr>\n",
              "  </thead>\n",
              "  <tbody>\n",
              "    <tr>\n",
              "      <th>count</th>\n",
              "      <td>5572.000000</td>\n",
              "    </tr>\n",
              "    <tr>\n",
              "      <th>mean</th>\n",
              "      <td>80.118808</td>\n",
              "    </tr>\n",
              "    <tr>\n",
              "      <th>std</th>\n",
              "      <td>59.690841</td>\n",
              "    </tr>\n",
              "    <tr>\n",
              "      <th>min</th>\n",
              "      <td>2.000000</td>\n",
              "    </tr>\n",
              "    <tr>\n",
              "      <th>25%</th>\n",
              "      <td>36.000000</td>\n",
              "    </tr>\n",
              "    <tr>\n",
              "      <th>50%</th>\n",
              "      <td>61.000000</td>\n",
              "    </tr>\n",
              "    <tr>\n",
              "      <th>75%</th>\n",
              "      <td>121.000000</td>\n",
              "    </tr>\n",
              "    <tr>\n",
              "      <th>max</th>\n",
              "      <td>910.000000</td>\n",
              "    </tr>\n",
              "  </tbody>\n",
              "</table>\n",
              "</div><br><label><b>dtype:</b> float64</label>"
            ]
          },
          "metadata": {},
          "execution_count": 83
        }
      ]
    },
    {
      "cell_type": "code",
      "source": [
        "mensajes_df[mensajes_df.longitud == 910]['mensaje'].iloc[0]"
      ],
      "metadata": {
        "colab": {
          "base_uri": "https://localhost:8080/",
          "height": 105
        },
        "id": "xOjGDGE0kJPf",
        "outputId": "813c3c11-40e8-4730-ddf9-957d0aee1d4c"
      },
      "execution_count": 85,
      "outputs": [
        {
          "output_type": "execute_result",
          "data": {
            "text/plain": [
              "\"For me the love should start with attraction.i should feel that I need her every time around me.she should be the first thing which comes in my thoughts.I would start the day and end it with her.she should be there every time I dream.love will be then when my every breath has her name.my life should happen around her.my life will be named to her.I would cry for her.will give all my happiness and take all her sorrows.I will be ready to fight with anyone for her.I will be in love when I will be doing the craziest things for her.love will be when I don't have to proove anyone that my girl is the most beautiful lady on the whole planet.I will always be singing praises for her.love will be when I start up making chicken curry and end up makiing sambar.life will be the most beautiful then.will get every morning and thank god for the day because she is with me.I would like to say a lot..will tell later..\""
            ],
            "application/vnd.google.colaboratory.intrinsic+json": {
              "type": "string"
            }
          },
          "metadata": {},
          "execution_count": 85
        }
      ]
    },
    {
      "cell_type": "code",
      "source": [
        "mensajes_df.hist(column='longitud', by='etiqueta', bins=50, figsize=(10,5))"
      ],
      "metadata": {
        "colab": {
          "base_uri": "https://localhost:8080/",
          "height": 505
        },
        "id": "dH3Br5mfkiei",
        "outputId": "cae42197-3e62-415e-8fbd-8c1c354aa6c5"
      },
      "execution_count": 88,
      "outputs": [
        {
          "output_type": "execute_result",
          "data": {
            "text/plain": [
              "array([<Axes: title={'center': 'ham'}>, <Axes: title={'center': 'spam'}>],\n",
              "      dtype=object)"
            ]
          },
          "metadata": {},
          "execution_count": 88
        },
        {
          "output_type": "display_data",
          "data": {
            "text/plain": [
              "<Figure size 1000x500 with 2 Axes>"
            ],
            "image/png": "[encoded data removed]"
          },
          "metadata": {}
        }
      ]
    },
    {
      "cell_type": "markdown",
      "source": [
        "## Procesamiento de texto"
      ],
      "metadata": {
        "id": "mETFSdwAk7yP"
      }
    },
    {
      "cell_type": "code",
      "source": [
        "cadena = \"Hola, cómo estás, desde hoy no pasa datos el algoritmo?\"\n",
        "cadena"
      ],
      "metadata": {
        "colab": {
          "base_uri": "https://localhost:8080/",
          "height": 35
        },
        "id": "ZqbfP2aJlBBb",
        "outputId": "1e746672-a3f0-4fb1-f774-af0b937fbe31"
      },
      "execution_count": 96,
      "outputs": [
        {
          "output_type": "execute_result",
          "data": {
            "text/plain": [
              "'Hola, cómo estás, desde hoy no pasa datos el algoritmo?'"
            ],
            "application/vnd.google.colaboratory.intrinsic+json": {
              "type": "string"
            }
          },
          "metadata": {},
          "execution_count": 96
        }
      ]
    },
    {
      "cell_type": "code",
      "source": [
        "string.punctuation"
      ],
      "metadata": {
        "colab": {
          "base_uri": "https://localhost:8080/",
          "height": 35
        },
        "id": "yu1C5AKJlJA2",
        "outputId": "ea732dd5-1787-409f-c0f3-61387013a712"
      },
      "execution_count": 92,
      "outputs": [
        {
          "output_type": "execute_result",
          "data": {
            "text/plain": [
              "'!\"#$%&\\'()*+,-./:;<=>?@[\\\\]^_`{|}~'"
            ],
            "application/vnd.google.colaboratory.intrinsic+json": {
              "type": "string"
            }
          },
          "metadata": {},
          "execution_count": 92
        }
      ]
    },
    {
      "cell_type": "code",
      "source": [
        "sin_puntuacion = [char for char in cadena if char not in string.punctuation]\n",
        "\n",
        "sin_puntuacion = ''.join(sin_puntuacion)\n",
        "sin_puntuacion"
      ],
      "metadata": {
        "colab": {
          "base_uri": "https://localhost:8080/",
          "height": 35
        },
        "id": "0IRSRJ4clRMW",
        "outputId": "5f52b068-2841-46d1-b3c9-dace458ff70c"
      },
      "execution_count": 99,
      "outputs": [
        {
          "output_type": "execute_result",
          "data": {
            "text/plain": [
              "'Hola cómo estás desde hoy no pasa datos el algoritmo'"
            ],
            "application/vnd.google.colaboratory.intrinsic+json": {
              "type": "string"
            }
          },
          "metadata": {},
          "execution_count": 99
        }
      ]
    },
    {
      "cell_type": "code",
      "source": [
        "palabras = sin_puntuacion.split()\n",
        "palabras"
      ],
      "metadata": {
        "colab": {
          "base_uri": "https://localhost:8080/"
        },
        "id": "AUZjGqIdmToy",
        "outputId": "17f5e99f-8c34-467d-f134-f74390aff936"
      },
      "execution_count": 100,
      "outputs": [
        {
          "output_type": "execute_result",
          "data": {
            "text/plain": [
              "['Hola',\n",
              " 'cómo',\n",
              " 'estás',\n",
              " 'desde',\n",
              " 'hoy',\n",
              " 'no',\n",
              " 'pasa',\n",
              " 'datos',\n",
              " 'el',\n",
              " 'algoritmo']"
            ]
          },
          "metadata": {},
          "execution_count": 100
        }
      ]
    },
    {
      "cell_type": "code",
      "source": [
        "cadena_limpia = [palabra for palabra in palabras if palabra.lower() not in stopwords.words('spanish')]\n",
        "cadena_limpia"
      ],
      "metadata": {
        "colab": {
          "base_uri": "https://localhost:8080/"
        },
        "id": "-3J-P-81mCji",
        "outputId": "3629d6a8-ecbd-42e9-91c3-226dcb2742ef"
      },
      "execution_count": 106,
      "outputs": [
        {
          "output_type": "execute_result",
          "data": {
            "text/plain": [
              "['Hola', 'cómo', 'hoy', 'pasa', 'datos', 'algoritmo']"
            ]
          },
          "metadata": {},
          "execution_count": 106
        }
      ]
    },
    {
      "cell_type": "code",
      "source": [
        "def procesar_texto(texto):\n",
        "    sin_puntuacion = [char for char in texto if char not in string.punctuation]\n",
        "    sin_puntuacion = ''.join(sin_puntuacion)\n",
        "    palabras = sin_puntuacion.split()\n",
        "    cadena_limpia = [palabra for palabra in palabras if palabra.lower() not in stopwords.words('spanish')]\n",
        "    return cadena_limpia"
      ],
      "metadata": {
        "id": "LrZzfAAgm_cm"
      },
      "execution_count": 137,
      "outputs": []
    },
    {
      "cell_type": "code",
      "source": [
        "# prompt: crea una cadena de texto en español, con 20 palabras sobre el mar\n",
        "\n",
        "texto_mar = \"El océano profundo, azul y misterioso, sus olas rompen en la costa, arena dorada, barcos que surcan, gaviotas vuelan libres, la brisa marina, un tesoro escondido, el agua salada, peces de colores, arrecifes de coral, las mareas suben y bajan, la espuma blanca, el horizonte infinito, calma y tormenta, el misterio del mar, reflejo del cielo, un lugar mágico.\"\n",
        "texto_mar = procesar_texto(texto_mar)\n"
      ],
      "metadata": {
        "id": "xi9y24kZnVdn"
      },
      "execution_count": 138,
      "outputs": []
    },
    {
      "cell_type": "code",
      "source": [
        "mensajes_df.mensaje.head().apply(procesar_texto)"
      ],
      "metadata": {
        "colab": {
          "base_uri": "https://localhost:8080/",
          "height": 241
        },
        "id": "KTBRHKdxn-7_",
        "outputId": "8d0a448a-397e-4ecf-9396-ef0bd36dd287"
      },
      "execution_count": 139,
      "outputs": [
        {
          "output_type": "execute_result",
          "data": {
            "text/plain": [
              "0    [Go, until, jurong, point, crazy, Available, o...\n",
              "1                       [Ok, lar, Joking, wif, u, oni]\n",
              "2    [Free, entry, in, 2, wkly, comp, to, win, FA, ...\n",
              "3    [U, dun, say, so, early, hor, U, c, already, t...\n",
              "4    [Nah, I, dont, think, goes, to, usf, lives, ar...\n",
              "Name: mensaje, dtype: object"
            ],
            "text/html": [
              "<div>\n",
              "<style scoped>\n",
              "    .dataframe tbody tr th:only-of-type {\n",
              "        vertical-align: middle;\n",
              "    }\n",
              "\n",
              "    .dataframe tbody tr th {\n",
              "        vertical-align: top;\n",
              "    }\n",
              "\n",
              "    .dataframe thead th {\n",
              "        text-align: right;\n",
              "    }\n",
              "</style>\n",
              "<table border=\"1\" class=\"dataframe\">\n",
              "  <thead>\n",
              "    <tr style=\"text-align: right;\">\n",
              "      <th></th>\n",
              "      <th>mensaje</th>\n",
              "    </tr>\n",
              "  </thead>\n",
              "  <tbody>\n",
              "    <tr>\n",
              "      <th>0</th>\n",
              "      <td>[Go, until, jurong, point, crazy, Available, o...</td>\n",
              "    </tr>\n",
              "    <tr>\n",
              "      <th>1</th>\n",
              "      <td>[Ok, lar, Joking, wif, u, oni]</td>\n",
              "    </tr>\n",
              "    <tr>\n",
              "      <th>2</th>\n",
              "      <td>[Free, entry, in, 2, wkly, comp, to, win, FA, ...</td>\n",
              "    </tr>\n",
              "    <tr>\n",
              "      <th>3</th>\n",
              "      <td>[U, dun, say, so, early, hor, U, c, already, t...</td>\n",
              "    </tr>\n",
              "    <tr>\n",
              "      <th>4</th>\n",
              "      <td>[Nah, I, dont, think, goes, to, usf, lives, ar...</td>\n",
              "    </tr>\n",
              "  </tbody>\n",
              "</table>\n",
              "</div><br><label><b>dtype:</b> object</label>"
            ]
          },
          "metadata": {},
          "execution_count": 139
        }
      ]
    },
    {
      "cell_type": "markdown",
      "source": [
        "1. CountVectorizer\n",
        "\n",
        "CountVectorizer es una clase de scikit-learn que se utiliza para convertir una colección de textos en una matriz de características de conteo (también llamada bag-of-words). Cada fila de la matriz representará un documento, y cada columna representará una palabra única en todo el conjunto de datos. El valor de cada celda será el número de veces que esa palabra aparece en el documento correspondiente.\n",
        "\n",
        "2. analyzer=procesar_texto\n",
        "\n",
        "El parámetro analyzer permite definir cómo se analizarán los textos antes de vectorizarlos. Por defecto, CountVectorizer divide el texto en palabras (tokens), pero puedes pasarle una función personalizada que defina cómo se procesarán estos textos. En este caso, la función procesar_texto será responsable de analizar el texto antes de que CountVectorizer lo transforme en vectores, procesar_texto es una función que toma un texto como entrada y lo procesa. Por ejemplo, podría:  \n",
        "  Eliminar palabras vacías (stopwords) como \"y\", \"el\", \"de\", etc.\n",
        "  \n",
        "\n",
        "3. fit(mensajes_df.mensaje)\n",
        "\n",
        "El método fit se utiliza para ajustar el modelo a los datos. En este caso, mensajes_df.mensaje es probablemente una columna de un DataFrame de pandas que contiene los mensajes de texto que se van a procesar.\n",
        "\n",
        "Al llamar a fit, CountVectorizer analiza todos los textos en mensajes_df.mensaje, construye un vocabulario (el conjunto de palabras únicas que aparecen en los mensajes) y las cuenta."
      ],
      "metadata": {
        "id": "6CKCYnX7omSL"
      }
    },
    {
      "cell_type": "code",
      "source": [
        "transformador = CountVectorizer(analyzer=procesar_texto).fit(mensajes_df.mensaje)"
      ],
      "metadata": {
        "id": "CCD_CBh3oICz"
      },
      "execution_count": 112,
      "outputs": []
    },
    {
      "cell_type": "code",
      "source": [
        "print(transformador.vocabulary_)"
      ],
      "metadata": {
        "colab": {
          "base_uri": "https://localhost:8080/"
        },
        "id": "iRQAitMDpUtr",
        "outputId": "017fb53c-1998-409a-b641-1b18402a4e85"
      },
      "execution_count": 113,
      "outputs": [
        {
          "output_type": "stream",
          "name": "stdout",
          "text": [
            "{'Go': 2070, 'until': 10891, 'jurong': 7667, 'point': 9036, 'crazy': 5871, 'Available': 1116, 'only': 8708, 'in': 7438, 'bugis': 5319, 'n': 8446, 'great': 7039, 'world': 11308, 'buffet': 5318, 'Cine': 1496, 'there': 10545, 'got': 7008, 'amore': 4744, 'wat': 11097, 'Ok': 3104, 'lar': 7811, 'Joking': 2477, 'wif': 11214, 'u': 10829, 'oni': 8703, 'Free': 1951, 'entry': 6434, '2': 422, 'wkly': 11267, 'comp': 5721, 'to': 10651, 'win': 11227, 'FA': 1847, 'Cup': 1564, 'final': 6660, 'tkts': 10644, '21st': 442, 'May': 2829, '2005': 429, 'Text': 4001, '87121': 860, 'receive': 9371, 'questionstd': 9277, 'txt': 10817, 'rateTCs': 9318, 'apply': 4825, '08452810075over18s': 73, 'U': 4126, 'dun': 6309, 'say': 9675, 'so': 10013, 'early': 6328, 'hor': 7293, 'c': 5364, 'already': 4720, 'then': 10541, 'Nah': 2977, 'I': 2309, 'dont': 6228, 'think': 10563, 'goes': 6979, 'usf': 10930, 'lives': 7951, 'around': 4872, 'here': 7203, 'though': 10582, 'FreeMsg': 1953, 'Hey': 2237, 'darling': 5967, 'its': 7572, 'been': 5077, '3': 536, 'weeks': 11144, 'now': 8598, 'and': 4756, 'word': 11295, 'back': 4990, 'Id': 2368, 'like': 7909, 'some': 10026, 'fun': 6859, 'you': 11456, 'up': 10893, 'for': 6757, 'it': 7557, 'still': 10214, 'Tb': 3979, 'ok': 8678, 'XxX': 4463, 'std': 10194, 'chgs': 5570, 'send': 9759, 'å£150': 11517, 'rcv': 9327, 'Even': 1816, 'my': 8439, 'brother': 5294, 'is': 7542, 'not': 8584, 'speak': 10092, 'with': 11253, 'They': 4029, 'treat': 10760, 'aids': 4681, 'patent': 8880, 'As': 1098, 'per': 8915, 'your': 11472, 'request': 9475, 'Melle': 2839, 'Oru': 3142, 'Minnaminunginte': 2858, 'Nurungu': 3054, 'Vettam': 4231, 'set': 9782, 'as': 4886, 'callertune': 5395, 'all': 4707, 'Callers': 1433, 'Press': 3319, '9': 898, 'copy': 5818, 'friends': 6823, 'Callertune': 1434, 'WINNER': 4292, 'valued': 10957, 'network': 8516, 'customer': 5922, 'have': 7150, 'selected': 9746, 'receivea': 9372, 'å£900': 11558, 'prize': 9177, 'reward': 9532, 'To': 4066, 'claim': 5622, 'call': 5378, '09061701461': 219, 'Claim': 1498, 'code': 5677, 'KL341': 2504, 'Valid': 4221, '12': 325, 'hours': 7308, 'Had': 2183, 'mobile': 8322, '11': 315, 'months': 8357, 'or': 8737, 'more': 8360, 'R': 3361, 'entitled': 6431, 'Update': 4188, 'the': 10530, 'latest': 7826, 'colour': 5697, 'mobiles': 8323, 'camera': 5407, 'Call': 1429, 'The': 4015, 'Mobile': 2877, 'Co': 1505, 'FREE': 1876, 'on': 8696, '08002986030': 58, 'Im': 2375, 'gonna': 6992, 'be': 5055, 'home': 7267, 'soon': 10052, 'i': 7381, 'want': 11076, 'talk': 10424, 'about': 4556, 'this': 10571, 'stuff': 10273, 'anymore': 4795, 'tonight': 10688, 'k': 7673, 'Ive': 2421, 'cried': 5885, 'enough': 6422, 'today': 10656, 'SIX': 3533, 'chances': 5514, 'CASH': 1367, 'From': 1967, '100': 294, '20000': 426, 'pounds': 9094, 'CSH11': 1418, '87575': 864, 'Cost': 1537, '150pday': 363, '6days': 752, '16': 381, 'TsandCs': 4106, 'Reply': 3453, 'HL': 2153, '4': 598, 'info': 7463, 'URGENT': 4148, 'You': 4522, 'won': 11283, '1': 292, 'week': 11139, 'membership': 8219, 'our': 8765, 'å£100000': 11511, 'Prize': 3324, 'Jackpot': 2448, 'Txt': 4120, 'CLAIM': 1392, '81010': 810, 'TC': 3892, 'wwwdbuknet': 11376, 'LCCLTD': 2576, 'POBOX': 3183, '4403LDNW1A7RW18': 619, 'searching': 9715, 'right': 9541, 'words': 11299, 'thank': 10514, 'breather': 5267, 'promise': 9211, 'wont': 11290, 'take': 10416, 'help': 7191, 'granted': 7031, 'will': 11224, 'fulfil': 6855, 'wonderful': 11287, 'blessing': 5175, 'at': 4915, 'times': 10624, 'HAVE': 2130, 'DATE': 1582, 'ON': 3074, 'SUNDAY': 3606, 'WITH': 4295, 'WILL': 4290, 'XXXMobileMovieClub': 4455, 'use': 10924, 'credit': 5876, 'click': 5643, 'WAP': 4261, 'link': 7927, 'next': 8529, 'message': 8242, 'httpwap': 7332, 'xxxmobilemovieclubcomnQJKGIGHJJGCBL': 11418, 'Oh': 3099, 'kim': 7730, 'watching': 11102, 'Eh': 1785, 'remember': 9438, 'how': 7314, 'spell': 10106, 'his': 7240, 'name': 8458, 'Yes': 4508, 'did': 6114, 'v': 10945, 'naughty': 8478, 'make': 8109, 'wet': 11174, 'Fine': 1923, 'if': 7405, 'thatåÕs': 10528, 'way': 11111, 'feel': 6619, 'ThatåÕs': 4013, 'gota': 7009, 'b': 4977, 'England': 1799, 'Macedonia': 2797, 'miss': 8297, 'goalsteam': 6972, 'news': 8524, 'ur': 10908, 'national': 8472, 'team': 10459, '87077': 859, 'eg': 6364, 'ENGLAND': 1743, 'TryWALES': 4100, 'SCOTLAND': 3499, '4txtÌ¼120': 667, 'POBOXox36504W45WQ': 3186, 'Is': 2408, 'that': 10520, 'seriously': 9776, 'I‰Û÷m': 2428, 'going': 6984, 'try': 10786, 'joking': 7646, 'So': 3762, 'Ì': 11501, 'pay': 8888, 'first': 6687, 'Then': 4021, 'when': 11186, 'da': 5935, 'stock': 10218, 'comin': 5711, 'Aft': 1016, 'finish': 6673, 'lunch': 8054, 'go': 6966, 'str': 10238, 'down': 6245, 'lor': 7997, 'Ard': 1087, 'smth': 10000, 'Ffffffffff': 1914, 'Alright': 1052, 'can': 5412, 'meet': 8201, 'sooner': 10053, 'Just': 2493, 'forced': 6759, 'myself': 8444, 'eat': 6340, 'slice': 9955, 'really': 9353, 'hungry': 7357, 'tho': 10577, 'This': 4038, 'sucks': 10306, 'Mark': 2819, 'getting': 6934, 'worried': 11314, 'knows': 7755, 'sick': 9883, 'turn': 10803, 'pizza': 8988, 'Lol': 2670, 'always': 4732, 'convincing': 5805, 'Did': 1674, 'catch': 5477, 'bus': 5338, 'Are': 1088, 'frying': 6845, 'an': 4752, 'egg': 6366, 'tea': 10453, 'eating': 6343, 'moms': 8341, 'left': 7857, 'over': 8785, 'dinner': 6147, 'Do': 1697, 'Love': 2683, 'amp': 4746, 'were': 11165, 'packing': 8812, 'car': 5435, 'Ill': 2373, 'let': 7878, 'know': 7751, 'theres': 10549, 'room': 9579, 'Ahhh': 1027, 'Work': 4430, 'vaguely': 10948, 'What': 4379, 'does': 6202, 'Wait': 4329, 'thats': 10527, 'clear': 5637, 'sure': 10357, 'being': 5095, 'sarcastic': 9657, 'why': 11208, 'x': 11405, 'doesnt': 6203, 'live': 7948, 'us': 10918, 'Yeah': 4499, 'was': 11089, 'apologetic': 4813, 'had': 7094, 'fallen': 6570, 'out': 8767, 'she': 9816, 'actin': 4597, 'spoilt': 10126, 'child': 5586, 'caught': 5481, 'Till': 4054, 'But': 1342, 'we': 11115, 'Not': 3042, 'doing': 6215, 'too': 10694, 'badly': 4995, 'cheers': 5553, 'K': 2495, 'tell': 10475, 'anything': 4801, 'For': 1939, 'fear': 6611, 'of': 8652, 'fainting': 6561, 'housework': 7312, 'just': 7669, 'Quick': 3356, 'cuppa': 5912, 'Thanks': 4006, 'subscription': 10296, 'Ringtone': 3463, 'UK': 4131, 'charged': 5526, 'å£5month': 11550, 'Please': 3276, 'confirm': 5763, 'by': 5359, 'replying': 9470, 'YES': 4471, 'If': 2372, 'reply': 9468, 'Yup': 4536, 'look': 7989, 'timings': 10630, 'msg': 8391, 'again': 4655, 'Xuhui': 4462, 'learn': 7846, '2nd': 519, 'may': 8174, 'but': 5346, 'her': 7201, 'lesson': 7876, '8am': 892, 'Oops': 3128, 'roommates': 9582, 'done': 6225, 'see': 9731, 'letter': 7880, 'B': 1125, 'Anything': 1073, 'decide': 6017, 'Hello': 2222, 'Hows': 2297, 'saturday': 9667, 'texting': 10504, 'youd': 11461, 'decided': 6018, 'do': 6189, 'tomo': 10677, 'im': 7415, 'trying': 10788, 'invite': 7520, 'Pls': 3278, 'ahead': 4673, 'watts': 11109, 'wanted': 11078, 'weekend': 11141, 'Abiola': 995, 'forget': 6765, 'need': 8496, 'crave': 5868, 'most': 8367, 'love': 8021, 'sweet': 10381, 'Arabian': 1085, 'steed': 10200, 'Mmmmmm': 2871, 'Yummy': 4533, '07732584351': 29, 'Rodger': 3469, 'Burns': 1340, 'MSG': 2780, 'We': 4357, 'tried': 10769, 're': 9331, 'sms': 9995, 'free': 6803, 'nokia': 8563, 'camcorder': 5405, '08000930705': 54, 'delivery': 6051, 'tomorrow': 10680, 'WHO': 4284, 'ARE': 968, 'YOU': 4483, 'SEEING': 3502, 'Great': 2098, 'hope': 7285, 'man': 8118, 'well': 11156, 'endowed': 6406, 'am': 4734, 'ltgt': 8046, 'inches': 7442, 'callsmessagesmissed': 5401, 'calls': 5400, 'Didnt': 1675, 'get': 6926, 'hep': 7200, 'immunisation': 7423, 'nigeria': 8536, 'Fair': 1902, 'hopefully': 7289, 'tyler': 10823, 'cant': 5424, 'could': 5840, 'maybe': 8176, 'ask': 4895, 'bit': 5153, 'stubborn': 10264, 'didnt': 6116, 'even': 6471, 'hospital': 7299, 'kept': 7706, 'telling': 10476, 'weak': 11116, 'sucker': 10304, 'Hospitals': 2288, 'are': 4851, 'suckers': 10305, 'thinked': 10565, 'First': 1927, 'time': 10620, 'saw': 9674, 'class': 5630, 'gram': 7025, 'usually': 10936, 'runs': 9614, 'half': 7104, 'eighth': 6373, 'smarter': 9977, 'gets': 6930, 'almost': 4716, 'whole': 11203, 'second': 9719, 'fyi': 6873, 'ride': 9540, 'morning': 8363, 'hes': 7214, 'crashing': 5867, 'place': 8989, 'Wow': 4437, 'never': 8519, 'realized': 9351, 'embarassed': 6392, 'accomodations': 4580, 'thought': 10583, 'liked': 7910, 'since': 9907, 'best': 5113, 'seemed': 9737, 'happy': 7135, 'cave': 5485, 'sorry': 10062, 'give': 6952, 'offered': 8658, 'embarassing': 6393, 'SMS': 3544, 'ac': 4566, 'Sptv': 3805, 'New': 2997, 'Jersey': 2467, 'Devils': 1668, 'Detroit': 1667, 'Red': 3433, 'Wings': 4406, 'play': 9003, 'Ice': 2366, 'Hockey': 2266, 'Correct': 1535, 'Incorrect': 2384, 'End': 1797, 'END': 1741, 'SPTV': 3577, 'what': 11180, 'Mallika': 2809, 'Sherawat': 3693, 'yesterday': 11442, 'Find': 1922, 'ltURLgt': 8045, 'Congrats': 1526, 'year': 11433, 'special': 10094, 'cinema': 5618, 'pass': 8869, 'yours': 11475, '09061209465': 214, 'C': 1350, 'Suprman': 3865, 'V': 4205, 'Matrix3': 2826, 'StarWars3': 3814, 'etc': 6461, 'bx420ip45we': 5358, '150pm': 364, 'Dont': 1710, 'Sorry': 3778, 'later': 7824, 'meeting': 8203, 'Tell': 3990, 'where': 11189, 'reached': 9335, 'Yesgauti': 4511, 'sehwag': 9743, 'odi': 8651, 'series': 9774, 'Your': 4526, 'pick': 8963, 'burger': 5330, 'yourself': 11476, 'move': 8378, 'Pain': 3221, 'killing': 7727, 'good': 6994, 'joke': 7641, 'Girls': 2065, 'situation': 9927, 'seekers': 9734, 'Its': 2416, 'part': 8858, 'checking': 5550, 'IQ': 2349, 'took': 10697, 'forever': 6762, 'come': 5704, 'double': 6239, 'check': 5547, 'hair': 7101, 'dresser': 6267, 'said': 9632, 'wun': 11353, 'cut': 5925, 'short': 9848, 'nice': 8532, 'pleased': 9014, 'advise': 4635, 'following': 6742, 'recent': 9375, 'review': 9530, 'Mob': 2874, 'awarded': 4970, 'å£1500': 11518, 'Bonus': 1292, '09066364589': 263, 'Today': 4068, 'song': 10048, 'dedicated': 6027, 'day': 5984, 'Which': 4393, 'dedicate': 6026, 'Send': 3662, 'valuable': 10954, 'frnds': 6832, 'rply': 9595, 'Urgent': 4195, 'UR': 4145, 'complimentary': 5738, 'trip': 10770, 'EuroDisinc': 1813, 'Trav': 4090, 'AcoEntry41': 1005, 'Or': 3134, 'å£1000': 11509, 'DIS': 1600, '186å£150moreFrmMob': 390, 'ShrAcomOrSglSuplt10': 3714, 'LS1': 2611, '3AJ': 569, 'hear': 7168, 'new': 8522, 'Divorce': 1691, 'Barbie': 1231, 'It': 2412, 'comes': 5708, 'Kens': 2522, 'plane': 8996, 'month': 8354, 'end': 6402, 'Wah': 4327, 'lucky': 8051, 'save': 9670, 'money': 8347, 'Hee': 2217, 'Finished': 1926, 'HI': 2147, 'BABE': 1129, 'IM': 2327, 'AT': 978, 'HOME': 2159, 'NOW': 2966, 'WANNA': 4258, 'DO': 1603, 'SOMETHING': 3554, 'XX': 4452, 'Kkwhere': 2552, 'youhow': 11464, 'performed': 8922, 'waiting': 11055, 'machan': 8078, 'once': 8697, 'Thats': 4012, 'cool': 5811, 'gentleman': 6920, 'dignity': 6138, 'respect': 9496, 'peoples': 8914, 'very': 10980, 'much': 8407, 'shy': 9879, 'pa': 8807, 'Does': 1700, 'operate': 8720, 'after': 4650, 'same': 9646, 'Still': 3826, 'looking': 7992, 'job': 7628, 'How': 2294, 'Tas': 3976, 'earn': 6329, 'ah': 4671, 'hi': 7221, 'stop': 10227, 'urgnt': 10913, 'real': 9345, 'tickets': 10611, 'one': 8699, 'jacket': 7589, 'used': 10925, 'multis': 8415, 'started': 10175, 'requests': 9476, 'pain': 8819, 'came': 5406, 'bed': 5071, 'Double': 1716, 'coins': 5683, 'factory': 6553, 'gotta': 7012, 'cash': 5466, 'nitros': 8553, 'babe': 4982, 'Ela': 1788, 'kanoil': 7689, 'download': 6246, 'wen': 11161, 'Don‰Û÷t': 1713, 'stand': 10164, 'close': 5649, 'you‰Û÷ll': 11484, 'something': 10036, 'another': 4779, 'night': 8537, 'spent': 10111, 'late': 7819, 'afternoon': 4652, 'casualty': 5475, 'means': 8192, 'havent': 7152, 'any': 4791, 'stuff42moro': 10274, 'includes': 7445, 'sheets': 9818, 'Smile': 3754, 'Pleasure': 3277, 'trouble': 10775, 'pours': 9096, 'Rain': 3406, 'sum1': 10324, 'Hurts': 2307, 'becoz': 5069, 'SOMEONE': 3552, 'Loves': 2689, 'Smiling': 3756, 'service': 9779, 'representative': 9473, '0800': 50, '169': 383, '6031': 715, 'between': 5120, '10am9pm': 309, 'WON': 4304, 'guaranteed': 7070, 'å£5000': 11545, 'Havent': 2207, 'planning': 9000, 'buy': 5350, 'lido': 7892, '530': 686, 'show': 9863, 'work': 11300, 'ringtone': 9548, 'collected': 5690, 'Simply': 3724, 'text': 10499, 'password': 8877, 'MIX': 2755, '85069': 845, 'verify': 10976, 'Get': 2057, 'Usher': 4200, 'Britney': 1326, 'FML': 1870, 'Watching': 4351, 'telugu': 10480, 'moviewat': 8383, 'abt': 4562, 'When': 4384, 'loads': 7959, 'loans': 7961, 'Hi': 2240, 'Wk': 4415, 'hols': 7265, 'run': 9611, 'Forgot': 1944, 'hairdressers': 7103, 'appointment': 4829, 'four': 6789, 'shower': 9865, 'beforehand': 5083, 'cause': 5482, 'prob': 9181, 'ham': 7108, 'nothing': 8589, 'else': 6387, 'Okay': 3105, 'price': 9157, 'long': 7985, 'legal': 7860, 'Wen': 4370, 'them': 10537, 'ave': 4958, 'ams': 4748, 'xx': 11415, 'And': 1068, 'gone': 6990, '4the': 665, 'driving': 6276, 'test': 10495, 'yet': 11443, 'wow': 11329, 'Youre': 4527, 'mean': 8188, 'guess': 7074, 'gave': 6903, 'boston': 5226, 'men': 8224, 'changed': 5516, 'search': 9714, 'location': 7964, 'nyc': 8629, 'Cuz': 1573, 'signin': 9893, 'page': 8815, 'says': 9679, 'Umma': 4167, 'life': 7895, 'vava': 10965, 'umma': 10842, 'lot': 8006, 'dear': 6004, 'wishes': 11247, 'birthday': 5151, 'making': 8113, 'truly': 10782, 'memorable': 8221, 'Aight': 1030, 'hit': 7243, 'would': 11325, 'ip': 7528, 'address': 4612, 'considering': 5780, 'computer': 5744, 'isnt': 7551, 'minecraft': 8277, 'server': 9778, 'Grumpy': 2102, 'old': 8691, 'people': 8913, 'My': 2927, 'mom': 8338, 'better': 5119, 'lying': 8067, 'jokes': 7643, 'worry': 11316, 'busy': 5344, 'plural': 9024, 'noun': 8596, 'research': 9482, 'Going': 2076, 'dinnermsg': 6148, 'cos': 5829, 'things': 10562, 'scared': 9685, 'mah': 8099, 'Cos': 1536, 'loud': 8016, 'GENT': 1990, 'contact': 5785, 'Last': 2629, 'weekends': 11142, 'draw': 6256, 'shows': 9870, 'GUARANTEED': 2032, '09064012160': 238, 'Code': 1507, 'K52': 2496, '12hrs': 337, '150ppm': 369, 'Wa': 4325, 'openin': 8717, 'sentence': 9768, 'formal': 6773, 'Anyway': 1075, 'fine': 6668, 'juz': 7672, 'tt': 10792, 'eatin': 6342, 'puttin': 9261, 'weightHaha': 11149, 'anythin': 4800, 'happened': 7127, 'entered': 6424, 'cabin': 5366, 'PA': 3152, 'Happy': 2198, 'Bday': 1238, 'Boss': 1300, 'felt': 6628, 'She': 3691, 'askd': 4896, 'After': 1017, 'invited': 7521, 'apartment': 4809, 'went': 11163, 'winner': 11237, 'specially': 10098, 'holiday': 7261, 'flights': 6712, 'inc': 7440, 'operator': 8721, '0871277810910pmin': 123, '18': 386, 'Goodo': 2085, 'must': 8432, 'friday': 6816, 'eggpotato': 6367, 'ratio': 9321, 'tortilla': 10714, 'needed': 8498, 'Hmmmy': 2263, 'uncle': 10846, 'informed': 7467, 'paying': 8892, 'school': 9691, 'directly': 6152, 'pls': 9020, 'food': 6748, 'PRIVATE': 3208, '2004': 428, 'Account': 1001, 'Statement': 3819, '07742676969': 31, '786': 777, 'unredeemed': 10885, 'Points': 3292, '08719180248': 171, 'Identifier': 2370, '45239': 631, 'Expires': 1839, 'å£2000': 11530, 'Caller': 1432, '5903': 691, 'from': 6839, 'Landline': 2624, '09064019788': 244, 'BOX42WR29C': 1191, '150PPM': 354, 'applespairsall': 4823, 'malarky': 8115, 'Todays': 4069, 'Voda': 4240, 'numbers': 8620, 'ending': 6404, '7548': 772, '350': 559, 'award': 4969, 'match': 8155, 'please': 9013, '08712300220': 105, 'quoting': 9288, '4041': 603, 'standard': 10165, 'rates': 9319, 'app': 4817, 'sao': 9652, 'mu': 8406, 'Will': 4403, 'ÌÏ': 11504, 'predict': 9124, 'Ìll': 11502, 'buying': 5353, 'Good': 2080, 'knowyetunde': 7758, 'hasnt': 7142, 'sent': 9767, 'bother': 5229, 'sending': 9760, 'involve': 7525, 'shouldnt': 9857, 'imposed': 7429, 'apologise': 4814, 'HEY': 2143, 'GIRL': 1996, 'HOW': 2169, 'HOPE': 2162, 'WELL': 4269, 'AN': 957, 'BAK': 1138, 'AGAIN': 937, 'LONG': 2598, 'TIME': 3934, 'GIVE': 1999, 'CALL': 1354, 'SUM': 3603, 'FROM': 1891, 'LUCYxx': 2617, 'Kkhow': 2546, 'cost': 5831, 'Dear': 1646, 'Tmorrowpls': 4061, 'accomodate': 4579, 'answer': 4782, 'question': 9274, 'Sunshine': 3861, 'Quiz': 3358, 'Wkly': 4416, 'Q': 3345, 'Win': 4404, 'top': 10705, 'Sony': 3775, 'DVD': 1628, 'player': 9005, 'which': 11195, 'country': 5846, 'Algarve': 1045, 'ansr': 4781, '82277': 816, 'SPTyrone': 3578, 'Want': 4340, 'laid': 7791, 'Dogging': 1702, 'locations': 7965, 'direct': 6151, 'mob': 8321, 'Join': 2473, 'UKs': 4134, 'largest': 7813, 'Network': 2992, 'bt': 5308, 'Txting': 4123, 'GRAVEL': 2028, '69888': 741, 'Nt': 3051, 'ec2a': 6345, '31pmsg150p': 552, 'haf': 7097, 'msn': 8401, 'yijuehotmailcom': 11449, 'him': 7232, 'rooms': 9583, 'befor': 5081, 'activities': 4602, 'Youll': 4525, 'msgs': 8394, 'chat': 5538, 'svc': 10372, 'Hardcore': 2200, 'services': 9780, 'GO': 2003, '69988': 745, 'Age': 1024, 'Verify': 4229, 'yr': 11487, 'Got': 2090, 'lazy': 7840, 'type': 10825, 'forgot': 6770, 'lect': 7854, 'pouch': 9091, 'youre': 11473, 'Sir': 3731, 'Waiting': 4332, 'mail': 8102, 'swt': 10393, 'Nver': 3056, 'tired': 10633, 'little': 7947, 'lovable': 8020, 'persons': 8936, 'Cozsomtimes': 1545, 'those': 10578, 'occupy': 8645, 'd': 5934, 'biggest': 5135, 'their': 10535, 'Hearts': 2216, 'Gud': 2106, 'ni8': 8530, 'Can': 1444, 'open': 8714, 'dot': 6238, 'Whats': 4381, 'staff': 10155, 'who': 11202, 'taking': 10421, 'Why': 4397, 'replied': 9466, 'Randy': 3413, 'sexy': 9794, 'female': 6629, 'local': 7963, 'Luv': 2702, 'Netcollex': 2991, 'Ltd': 2693, '08700621170150p': 75, 'Stop': 3828, 'Ummmawill': 4168, 'inour': 7483, 'begin': 5088, 'qatar': 9266, 'pray': 9118, 'hard': 7136, 'Ki': 2528, 'deleted': 6047, 'Sindu': 3728, 'birla': 5148, 'soft': 10018, 'wine': 11234, 'flowing': 6726, 'nevering': 8520, 'thk': 10573, 'cine': 5617, 'plaza': 9011, 'Ur': 4193, 'typical': 10828, 'everywhere': 6487, 'dirt': 6155, 'floor': 6720, 'windows': 11231, 'shirt': 9829, 'sometimes': 10040, 'mouth': 8377, 'dream': 6260, 'without': 11257, 'chores': 5608, 'joy': 7652, 'lots': 8009, 'tv': 10808, 'ill': 7413, 'exist': 6516, 'rain': 9299, 'hail': 7100, 'mist': 8307, 'become': 5068, 'Aaooooright': 990, 'leaving': 7853, 'house': 7309, 'interview': 7509, 'boy': 5244, 'meAre': 8182, 'missing': 8301, 'Customer': 1567, 'annoncement': 4772, 'Years': 4501, '07046744435': 22, 'arrange': 4874, '0871277810810': 122, 'Keep': 2520, 'safe': 9628, 'because': 5066, 'envy': 6437, 'everyone': 6483, 'sees': 9740, 'parentsi': 8851, 'hand': 7111, 'excited': 6504, 'each': 6323, 'spend': 10109, 'PLS': 3179, 'STOP': 3588, 'bootydelious': 5218, '32F': 557, 'inviting': 7522, 'friend': 6821, 'YES434': 4473, 'NO434': 2956, 'See': 3658, 'wwwSMSacubootydelious': 11364, 'FRND': 1888, '62468': 723, 'BangBabes': 1228, 'order': 8744, 'SHOULD': 3523, 'Service': 3673, 'Msg': 2912, 'content': 5789, 'GoTo': 2071, 'wap': 11081, 'bangb': 5010, 'internetservice': 7508, 'menu': 8232, 'points': 9037, 'cultures': 5906, 'module': 8332, '09061701939': 221, 'S89': 3486, 'frnd': 6830, 'avoid': 4963, 'missunderstding': 8306, 'wit': 11252, 'beloved': 5105, 'ones': 8701, 'escape': 6452, 'fancy': 6582, 'bridge': 5272, 'needs': 8502, 'lager': 7790, 'completely': 5734, 'formclark': 6777, 'also': 4726, 'utter': 10938, 'waste': 11094, 'AXIS': 987, 'BANK': 1140, 'account': 4584, 'bank': 5011, 'Hmmm': 2257, 'Thk': 4039, 'hop': 7284, 'ard': 4849, 'Muz': 2925, 'discuss': 6170, 'liao': 7885, 'coming': 5712, 'Bloody': 1282, 'hell': 7187, 'believe': 5096, 'surname': 10362, 'Mr': 2910, 'clue': 5662, 'spanish': 10086, 'begins': 5089, 'm': 8071, 'Well': 4368, 'bath': 5036, 'Have': 2206, 'goodfine': 6997, 'Let': 2644, 'youve': 11480, 'carlos': 5454, 'mall': 8117, 'Turns': 4114, 'staying': 10192, 'til': 10618, 'smoke': 9989, 'worth': 11321, 'log': 7970, 'spoke': 10127, 'MANEESHA': 2721, 'Wed': 4361, 'satisfied': 9664, 'experience': 6522, 'Toll': 4072, 'lifted': 7903, 'hopes': 7291, 'offer': 8657, 'Especially': 1807, 'approaches': 4833, 'hurts': 7368, 'studying': 10271, 'Anyways': 1076, 'gr8': 7020, 'trust': 10783, 'guys': 7086, 'greatbye': 7041, 'handsome': 7117, 'finding': 6666, 'Working': 4431, 'towards': 10728, 'net': 8513, 'mummy': 8419, 'Wheres': 4390, 'boytoy': 5248, 'Haha': 2185, 'awesome': 4972, 'minute': 8288, 'FREEPHONE': 1881, '0808': 62, '145': 349, '4742': 635, '9am11pm': 914, 'Xmas': 4460, 'radio': 9292, 'jus': 7668, 'bathe': 5037, 'sis': 9918, 'using': 10931, 'finishes': 6676, 'unique': 10874, '30th': 547, 'August': 1113, 'wwwareyouuniquecouk': 11369, 'joined': 7637, 'league': 7845, 'keep': 7700, 'touch': 10723, 'deal': 5997, 'personal': 8934, 'finally': 6662, 'completed': 5733, 'course': 5851, 'itself': 7573, 'however': 7316, 'suggest': 10317, 'stays': 10193, 'someone': 10030, 'able': 4554, 'ors': 8753, 'every': 6478, 'stool': 10226, 'Hope': 2283, 'settled': 9786, 'wishin': 11248, 'mrng': 8388, 'hav': 7148, 'story': 10237, 'hamster': 7110, 'dead': 5995, 'tmr': 10648, '1pm': 414, 'orchard': 8743, 'mrt': 8389, 'Kate': 2515, 'evening': 6472, 'bloody': 5188, 'babyjontet': 4986, 'xxx': 11417, 'Found': 1946, 'ENC': 1740, 'bucks': 5312, 'darlin': 5966, 'ive': 7578, 'finished': 6675, 'college': 5694, 'refilled': 9404, 'successfully': 10303, 'INR': 2341, 'ltDECIMALgt': 8042, 'KeralaCircle': 2525, 'prepaid': 9132, 'balance': 5003, 'Rs': 3479, 'Transaction': 4089, 'ID': 2314, 'KR': 2508, 'Goodmorning': 2081, 'sleeping': 9950, 'ga': 6877, 'alter': 4728, 'dat': 5972, 'ericsson': 6442, 'oso': 8757, 'cannot': 5422, 'oredi': 8747, 'dats': 5979, 'straight': 10240, 'dogg': 6207, 'connection': 5773, 'before': 5082, 'refund': 9408, 'bill': 5137, 'Both': 1301, 'shoot': 9841, 'big': 5133, 'ready': 9343, 'bruv': 5305, 'break': 5261, 'rewarding': 9533, 'semester': 9755, 'Home': 2277, 'Kkgoodstudy': 2545, 'noe': 8560, 'leh': 7863, 'Sounds': 3783, 'Finally': 1921, 'heading': 7161, 'prediction': 9126, 'Tired': 4057, 'slept': 9954, 'past': 8878, 'few': 6635, 'nights': 8541, 'Easy': 1775, 'ahsen': 4677, 'exam': 6499, 'march': 8136, 'should': 9855, 'gt': 7068, 'atm': 4920, 'register': 9415, 'anyway': 4805, 'Take': 3972, 'There': 4024, 'called': 5393, 'ubandu': 10832, 'installing': 7493, 'diskyou': 6172, 'important': 7427, 'files': 6651, 'system': 10399, 'repair': 9458, 'shop': 9842, 'Of': 3094, 'happen': 7125, 'romantic': 9576, 'nite': 8551, 'scenery': 9688, '500': 676, 'Mobiles': 2879, 'MUST': 2791, 'NOKIA': 2961, '89545': 883, 'collect': 5689, 'todayFrom': 10657, 'ONLY': 3077, 'å£1': 11506, 'www4tcbiz': 11355, '2optout': 523, '08718726270150gbpmtmsg18': 156, 'Would': 4436, 'appreciate': 4831, 'partner': 8863, 'career': 5443, 'off': 8653, 'flyng': 6733, 'start': 10174, 'find': 6665, 'HORO': 2164, 'followed': 6740, 'star': 10168, 'sign': 9889, 'g': 6874, 'ARIES': 970, 'company': 5723, 'elama': 6380, 'po': 9029, 'mudyadhu': 8411, 'Life': 2648, 'strict': 10253, 'than': 10510, 'teacher': 10455, 'Bcoz': 1237, 'Teacher': 3982, 'teaches': 10456, 'conducts': 5758, 'Exam': 1832, 'Lessons': 2643, 'gandhipuram': 6888, 'walk': 11059, 'cross': 5888, 'road': 9560, 'Right': 3460, 'side': 9885, 'street': 10245, 'rubber': 9601, 'battery': 5042, 'died': 6122, 'yeah': 11432, 'Yeshere': 4513, 'available': 4952, 'date': 5974, 'flirt': 6716, '10p': 311, 'REPLY': 3382, 'NAME': 2932, 'AGE': 940, 'Sam': 3628, '25': 455, 'recdthirtyeight': 9367, 'pence': 8908, 'printed': 9168, 'oh': 8676, 'upstairs': 10906, 'closer': 5653, 'Where': 4389, 'youwhen': 11482, 'wil': 11221, 'reach': 9333, 'Theory': 4023, 'Argument': 1090, 'wins': 11239, 'SITUATION': 3532, 'loses': 8002, 'PERSON': 3164, 'argue': 4858, 'kick': 7718, 'correct': 5823, '447801259231': 621, 'secret': 9722, 'admirer': 4620, 'Ufind': 4157, 'they': 10555, 'Rreveal': 3478, 'thinks': 10568, 'specialcall': 10095, '09058094597': 204, 'Tomarrow': 4074, 'hearing': 7171, 'laptop': 7810, 'case': 5465, 'PLEASSSSSSSEEEEEE': 3178, 'TEL': 3899, 'AVENT': 984, 'DONE': 1611, 'SPORTSx': 3575, 'shining': 9825, 'That': 4010, 'meant': 8193, 'signing': 9894, 'sounds': 10074, 'Although': 1055, 'told': 10671, 'into': 7512, 'baig': 4999, 'face': 6548, 'watches': 11100, 'watch': 11098, 'fr': 6795, 'Thanx': 4009, 'everything': 6486, 'uve': 10942, 'touched': 10724, 'commercial': 5717, 'Too': 4079, 'website': 11129, 'slippers': 9961, 'asked': 4897, 'Kallis': 2512, 'bat': 5033, 'innings': 7480, 'goodnight': 7000, 'fix': 6694, 'wake': 11056, 'dearly': 6009, 'missed': 8299, 'sleep': 9948, 'Congratulations': 1527, 'CD': 1372, 'vouchers': 11034, '125gift': 333, 'MUSIC': 2790, '87066': 857, 'TnCs': 4065, 'wwwLdewcom1win150ppmx3age16': 11361, 'Ranjith': 3414, 'cal': 5372, 'drpd': 6284, 'Deeraj': 1653, 'deepak': 6030, '5min': 705, 'hold': 7257, 'bcums': 5052, 'angry': 4764, 'wid': 11212, 'dnt': 6188, 'Coz': 1544, 'childish': 5587, 'true': 10779, 'showing': 9868, 'deep': 6029, 'affection': 4641, 'care': 5440, 'luv': 8059, 'kettoda': 7708, 'manda': 8123, 'doinghow': 6217, 'Ups': 4191, '3days': 586, 'shipping': 9828, 'takes': 10419, '2wks': 532, 'other': 8758, 'usps': 10933, 'lag': 7788, 'bribe': 5271, 'nipost': 8549, 'lemme': 7866, 'necessarily': 8490, 'expect': 6518, 'headin': 7160, 'Mmm': 2868, 'yummy': 11490, 'Nice': 3004, 'jolt': 7648, 'suzy': 10371, 'lover': 8024, 'Video': 4233, 'Handset': 2194, '750': 771, 'anytime': 4804, 'networks': 8517, 'mins': 8282, 'UNLIMITED': 4139, 'TEXT': 3905, 'Camcorder': 1441, 'parked': 8855, 'MINI': 2746, 'shopping': 9844, 'own': 8798, 'Dun': 1730, 'disturb': 6179, 'MY': 2792, 'IN': 2332, 'LUTON': 2619, '0125698789': 6, 'RING': 3391, 'IF': 2317, 'AROUND': 971, 'H': 2119, 'horny': 7295, 'naked': 8455, 'hot': 7303, '69698': 737, 'unsubscribe': 10889, 'Dint': 1682, 'Same': 3629, 'Wana': 4338, 'plan': 8995, 'sometme': 10041, 'credits': 5878, 'club4mobilescom': 5661, 'choose': 5604, 'CLUB': 1394, '87070': 858, '150pwk': 375, 'Club4': 1504, 'PO': 3181, 'Box1146': 1304, 'MK45': 2756, '2WT': 497, 'evo': 6493, 'flash': 6703, 'Jealous': 2460, 'Club': 1503, 'singles': 9912, 'chart': 5533, 'quality': 9271, 'charge': 5525, 'Come': 1516, 'sorting': 10067, 'narcotics': 8468, 'Night': 3010, 'ended': 6403, 'smile': 9985, 'sunny': 10334, 'rays': 9324, 'leaves': 7852, 'worries': 11315, 'blue': 5193, 'bay': 5044, 'HMV': 2156, 'BONUS': 1178, 'SPECIAL': 3566, 'genuine': 6922, 'easy': 6339, 'questions': 9276, 'Play': 3273, 'Now': 3048, '86688': 854, 'More': 2899, 'infowww100percentrealcom': 7471, 'Usf': 4199, 'might': 8262, 'objection': 8639, 'bf': 5124, 'rob': 9564, 'mack': 8082, 'gf': 6936, 'theater': 10533, 'Awesome': 1120, 'All': 1046, 'handed': 7112, 'Celebrations': 1467, 'full': 6856, 'swing': 10388, 'tool': 10699, 'far': 6587, 'Okie': 3107, 'usual': 10934, 'passed': 8872, 'last': 7816, 'ahold': 4676, 'anybody': 4792, 'throw': 10594, 'lets': 7879, 'baby': 4985, 'cruisin': 5893, 'girl': 6945, 'r': 9289, 'hour': 7306, 'alright': 4722, 'fone': 6746, 'jenny': 7617, 'Means': 2832, 'World': 4432, 'Ge': 2048, 'Dearshall': 1650, 'tonitebusy': 10691, 'streetshall': 10246, 'update': 10895, 'tonitethings': 10692, 'okvarunnathu': 8686, 'edukkukayee': 6354, 'raksha': 9306, 'ollubut': 8692, 'sense': 9763, 'gautham': 6902, 'Haf': 2184, 'found': 6788, 'stupid': 10281, 'cam': 5404, 'working': 11305, 'buzy': 5354, 'accidentally': 4577, 'Resend': 3455, 'TMobile': 3937, 'CAMERA': 1359, 'PHONE': 3167, 'upgrade': 10896, 'sim': 9901, 'card': 5436, 'loyalty': 8038, '0845': 69, '021': 15, '3680Offer': 565, 'ends': 6407, '28thFebTCs': 472, 'Unless': 4178, 'GURL': 2034, 'appropriate': 4835, 'Hurt': 2306, 'Tease': 3985, 'Make': 2805, 'cry': 5895, 'die': 6121, 'plz': 9026, 'rose': 9585, 'grave': 7035, 'STUPID': 3599, 'MISS': 2749, 'NICE': 2948, 'DAY': 1584, 'BSLVYL': 1203, 'phone': 8950, 'Need': 2988, 'coffee': 5678, 'tomoCant': 10678, 'somebody': 10028, 'high': 7226, 'diesel': 6123, 'Shit': 3702, 'shocking': 9839, 'scary': 9686, 'imagine': 7419, 'Def': 1654, 'somewhere': 10043, 'crash': 5865, 'taxi': 10445, 'fridge': 6819, 'meal': 8186, 'womdarfull': 11281, 'actor': 4603, 'Blind': 1280, 'Date': 1640, '4U': 647, 'Rodds1': 3468, '21m': 441, 'Aberdeen': 994, 'United': 4176, 'Kingdom': 2537, 'Check': 1480, 'Him': 2245, 'httpimg': 7330, 'acWicmb3cktz8r74': 4567, 'Dates': 1641, 'HIDE': 2148, 'remb': 9437, 'book': 5210, 'Jos': 2484, 'wana': 11074, 'yes': 11440, 'Our': 3146, 'friendship': 6825, 'hanging': 7122, 'thread': 10587, 'TheMob': 4017, 'newest': 8523, 'selection': 9747, 'Games': 2040, 'Tones': 4077, 'Gossip': 2089, 'babes': 4983, 'sport': 10133, 'fit': 6691, 'funky': 6866, '82468': 819, 'garage': 6893, 'keys': 7711, 'arent': 4853, 'bookshelf': 5215, 'ACCEPT': 925, 'DAYU': 1587, 'Accept': 998, 'Brother': 1328, 'Sister': 3735, 'Lover': 2687, 'Dear1': 1647, 'Best1': 1261, 'Clos1': 1501, 'Lvblefrnd': 2705, 'Jstfrnd': 2487, 'Cutefrnd': 1571, 'Lifpartnr': 2649, 'Belovd': 1256, 'Swtheart': 3874, 'Bstfrnd': 1331, 'enemy': 6409, 'Think': 4034, 'smart': 9975, 'å£200': 11529, 'weekly': 11143, 'quiz': 9284, 'PLAY': 3176, '85222': 846, 'nowTCs': 8602, 'WinnersClub': 4408, 'BOX': 1186, '84': 835, 'M26': 2709, '3UZ': 581, 'GBP150week': 1985, 'definitely': 6037, '2day': 502, 'normal': 8577, 'waythis': 11112, 'uniqueI': 10875, 'rest': 9505, 'mylife': 8440, 'wot': 11323, 'lost': 8005, 'made': 8087, 'Kkadvance': 2539, 'pongal': 9050, 'Guess': 2111, 'kb': 7696, 'power': 9098, 'yoga': 11452, 'dunno': 6311, 'tahan': 10413, 'anot': 4778, 'dude': 6301, 'afraid': 4646, 'December': 1651, '11mths': 324, '08002986906': 59, 'Coffee': 1509, 'cake': 5369, 'Merry': 2841, 'Christmas': 1493, 'kisses': 7740, 'cud': 5901, 'ppl': 9100, 'gona': 6989, 'l8': 7777, 'buses': 5340, 'gon': 6988, 'waitin': 11054, 'Pete': 3248, 'Guild': 2114, 'Could': 1542, 'Bristol': 1324, 'plans': 9001, 'flight': 6711, 'problem': 9183, 'dahow': 5945, 'todays': 10662, 'track': 10732, 'record': 9386, 'reading': 9342, 'women': 11282, 'Cool': 1532, 'read': 9339, 'light': 7905, 'Kkapo': 2541, 'kgood': 7715, 'movie': 8381, 'Maybe': 2831, 'return': 9523, 'immediately': 7422, 'Germany': 2056, 'fixed': 6696, 'line': 7919, 'via': 10982, 'access': 4573, 'number': 8618, '0844': 66, '861': 851, '85': 842, 'prepayment': 9135, 'Direct': 1684, 'Any': 1071, 'chance': 5513, 'evaporated': 6467, 'violated': 11005, 'privacy': 9173, 'stealing': 10197, 'employers': 6400, 'paperwork': 8838, 'report': 9471, 'supervisor': 10343, 'Valentines': 4220, 'Day': 1644, 'Special': 3791, 'lifetime': 7900, '83600': 833, '150pmsg': 367, 'rcvd': 9328, 'CustCare08718720201': 1566, 'TaDaaaaa': 3969, 'wined': 11235, 'dined': 6143, 'sleepingand': 9951, 'surfing': 10360, 'calling': 5397, 'thanx': 10518, 'post': 9081, '1000s': 297, 'texts': 10506, 'wiv': 11261, 'hello': 7189, 'caroline': 5457, 'favourite': 6609, 'Bless': 1279, 'hiding': 7225, 'stranger': 10243, 'Am': 1058, 'interested': 7503, 'sister': 9919, 'cleared': 5638, 'two': 10816, 'round': 9587, 'Gudnitetcpractice': 2109, 'Dis': 1686, 'yijue': 11448, 'In': 2381, 'huiming': 7348, 'num': 8617, 'One': 3119, 'small': 9973, 'prestige': 9147, 'Fancy': 1904, 'shag': 9800, 'doInterested': 6190, 'sextextukcom': 9792, 'XXUK': 4453, 'SUZY': 3610, '69876': 740, 'Txts': 4124, '150': 352, 'X': 4444, 'Really': 3427, 'seeing': 9733, 'Jeremiah': 2463, 'iphone': 7533, 'apeshit': 4811, 'TODAY': 3941, 'ever': 6477, 'misbehaved': 8293, 'hurt': 7366, 'JUST': 2446, 'SLAP': 3537, 'URSELF': 4151, 'fault': 6601, 'basically': 5029, 'GOOD': 2011, 'figure': 6647, 'alcohol': 4694, 'Jay': 2458, 'safely': 9629, 'weed': 11137, 'ISH': 2351, 'MINUTES': 2748, 'WAS': 4262, '5': 674, 'AGO': 942, 'WTF': 4323, 'Thank': 4005, 'callingForgot': 5398, 'Onam': 3117, 'SirjiI': 3734, 'remembered': 9439, 'met': 8253, 'insurance': 7497, 'personMeet': 8933, 'Qatar': 3348, 'Insha': 2398, 'AllahRakhesh': 1047, 'ex': 6496, 'Tata': 3977, 'AIG': 946, 'TISSCOTayseer': 3935, 'cashbalance': 5467, 'currently': 5916, 'maximize': 8171, 'cashin': 5469, 'CC': 1371, '08708800282': 97, 'HGSuite3422Lands': 2144, 'RowW1J6HL': 3475, 'Since': 3726, 'unemployed': 10863, 'moment': 8339, 'ALWAYS': 954, 'st': 10151, 'andrewsboy': 4761, 'cold': 5685, 'posted': 9084, 'chikku': 5577, 'chikkuDB': 5579, 'audreys': 4940, 'status': 10188, 'Busy': 1341, 'Trying': 4101, 'forward': 6784, 'sunshine': 10337, 'dawns': 5983, 'refreshed': 9407, 'alive': 4705, 'breathe': 5266, 'air': 4684, 'Z': 4538, 'UpdateNow': 4189, 'Offer': 3097, 'Latest': 2631, 'Motorola': 2907, 'SonyEricsson': 3776, 'Nokia': 3030, 'Bluetooth': 1285, 'Mins': 2859, '1000': 295, 'Orange': 3135, 'MobileUpd8': 2878, '08000839402': 53, 'call2optoutF4Q': 5381, 'Here': 2233, 'discount': 6168, 'RP176781': 3398, 'further': 6870, 'messages': 8248, 'wwwregalportfoliocouk': 11387, 'Services': 3674, '08717205546': 144, 'Wat': 4349, 'uniform': 10871, 'Geeee': 2050, 'woke': 11278, 'wish': 11245, 'cuddling': 5904, 'spoil': 10124, 'min': 8269, 'talking': 10425, 'agree': 4670, 'willing': 11225, 'Order': 3139, 'Reference': 3437, 'T91': 3879, 'GBP': 1984, '09057039994': 195, 'seen': 9739, 'mei': 8209, 'didt': 6120, 'recognise': 9384, 'Face': 1899, 'happening': 7129, 'Lindsay': 2653, 'years': 11434, 'sighs': 9887, 'Some': 3767, 'bars': 5025, 'Ptbo': 3338, 'heron': 7209, 'payasam': 8889, 'rinu': 9552, 'brings': 5283, 'taught': 10442, 'sir': 9916, 'Becaus': 1244, 'verifying': 10977, 'project': 9206, 'Prabu': 3307, 'mistake': 8308, 'body': 5199, 'repairs': 9459, 'quite': 9282, 'slow': 9967, 'tests': 10497, 'guide': 7079, 'ovulation': 8793, 'relax': 9426, 'Nothing': 3044, 'reason': 9357, 'followin': 6741, 'couple': 5849, 'minutes': 8289, 'wallet': 11066, 'leave': 7851, 'Meet': 2836, '945': 904, 'txts': 10822, '6months': 756, 'phones': 8954, 'call2optoutN9DX': 5386, 'owl': 8797, 'licks': 7891, 'Mm': 2867, '4mths': 659, 'rental': 9454, 'MobilesDirect': 2880, '08000938767': 55, 'or2stoptxt': 8739, 'having': 7155, 'Huh': 2302, 'Fr': 1947, 'sat': 9660, 'intro': 7514, 'pilates': 8975, 'kickboxing': 7719, 'Morning': 2900, 'office': 8661, 'lap': 7808, 'days': 5988, 'shut': 9878, 'Pick': 3261, 'bout': 5236, '730ish': 767, 'performance': 8921, 'calculated': 5373, 'monthnot': 8356, 'current': 5915, 'period': 8925, 'Was': 4345, 'actually': 4605, 'rock': 9567, 'putting': 9262, 'business': 5342, 'put': 9259, 'pictures': 8969, 'ass': 4903, 'facebook': 6550, 'picture': 8968, 'Salam': 3626, 'Wahleykkumsharing': 4328, 'newsBy': 8525, 'grace': 7023, 'God': 2073, 'TayseerTISSCO': 3978, 'joinedHope': 7638, 'fineInshah': 6669, 'Allahmeet': 1048, 'sometimeRakheshvisitor': 10039, 'India': 2388, 'Hmmmkbut': 2260, 'change': 5515, 'field': 6639, 'quickly': 9279, 'dai': 5946, 'wanna': 11075, 'administrator': 4619, 'RINGTONE': 3393, 'FIRST': 1865, '87131': 861, 'poly': 9043, 'GET': 1991, 'tone': 10683, 'Help': 2226, '2814032': 468, '1st': 416, 'tones': 10684, '3xå£150pw': 597, 'eå£nd': 6544, 'chechi': 5546, 'cream': 5872, 'shipped': 9827, 'None': 3034, 'Yep': 4507, 'loxahatchee': 8036, 'xmas': 11411, 'tree': 10765, 'burning': 5334, 'starts': 10179, 'stoners': 10224, 'slightly': 9959, 'disastrous': 6164, 'pm': 9027, 'fav': 6604, 'darlings': 5968, 'wld': 11271, 'stay': 10189, 'drink': 6268, 'Headin': 2211, 'busetop': 5341, 'Messagesome': 2844, 'SenderName': 3664, 'Missing': 2864, 'Number': 3052, 'SentDate': 3668, 'fullonsmscom': 6857, 'iron': 7536, 'thing': 10560, 'Okies': 3108, 'yan': 11427, 'jiu': 7626, 'skip': 9938, 'den': 6055, 'blah': 5162, 'Bring': 1323, 'Wendy': 4371, 'D': 1574, 'dating': 5976, '09064012103': 237, 'box334sk38ch': 5242, 'Whatsup': 4382, 'goal': 6970, 'å£250': 11531, 'competition': 5726, 'WIN': 4291, '80086': 798, 'wwwtxttowincouk': 11402, 'head': 7158, 'logo': 7974, 'names': 8461, 'heart': 7172, 'LOVE': 2608, 'NAME1': 2933, 'NAME2': 2934, 'MOBNO': 2762, 'ADAM': 930, 'EVE': 1753, '07123456789': 27, 'Yahoo': 4492, 'POBox36504W45WQ': 3189, 'TxtNO': 4122, 'ads': 4627, '150p': 355, 'Yesfrom': 4510, 'Someone': 3769, 'contacted': 5786, 'landline': 7799, '09111032124': 289, 'PoBox12n146tf150p': 3286, 'Siva': 3737, 'hostel': 7301, 'aha': 4672, '09058094455': 199, 'land': 7797, '3030': 543, 'voice': 11025, 'speaking': 10093, 'expression': 6535, '1childish': 411, '2naughty': 518, '3Sentiment': 579, '4rowdy': 661, '5ful': 703, 'attitude': 4931, '6romantic': 758, '7shy': 790, '8Attractive': 887, '9funny': 916, 'irritating': 7539, 'Shell': 3692, 'aathiwhere': 4548, 'urination': 10914, '7': 761, 'esplanade': 6456, 'mind': 8272, 'giving': 6955, 'lift': 7902, 'wnt': 11274, 'BMW': 1176, 'urgentlyits': 10912, 'vry': 11037, 'urgentbut': 10911, 'hv': 7373, 'shortage': 9849, 'Lacsthere': 2621, 'source': 10077, 'arng': 4870, 'dis': 6158, 'amt': 4749, 'lacsthats': 7783, 'At': 1105, 'fifteen': 6641, 'fucking': 6850, 'respond': 9499, '3650': 562, 'video': 10990, '09066382422': 268, 'Calls': 1436, 'Ave': 1117, '3mins': 591, 'vary': 10963, 'Close': 1502, '300603': 540, 'BCM4284': 1151, 'Ldn': 2635, 'WC1N3XX': 4266, 'Booked': 1295, 'ticket': 10610, 'hillsborough': 7231, 'th': 10509, 'askin': 4898, 'dollars': 6221, 'Shoul': 3711, 'Ask': 1101, 'iouri': 7527, 'ten': 10486, 'applebees': 4822, 'txtjourney': 10821, 'gdnow': 6910, '50': 675, 'Yeshe': 4512, 'greatbhaji': 7040, 'kallis': 7682, 'cricketer': 5883, 'sachin': 9622, 'worldvery': 11312, 'tough': 10725, 'supposed': 10354, 'Oic': 3103, 'tot': 10719, 'din': 6141, 'group': 7060, 'WERETHE': 4276, 'MONKEESPEOPLE': 2764, 'SAY': 3497, 'WE': 4267, 'MONKEYAROUND': 2765, 'HOWDY': 2170, 'GORGEOUS': 2019, 'wheres': 11192, 'blimey': 5177, 'exercise': 6511, 'kinda': 7732, 'hmm': 7251, 'concentration': 5751, 'LOL': 2597, '10': 293, 'hanks': 7123, 'lotsly': 8010, 'Kkwhat': 2550, 'detail': 6086, 'transferacc': 10745, 'optimistic': 8733, 'improve': 7436, 'Loan': 2666, 'purpose': 9254, 'å£500': 11544, 'å£75000': 11555, 'Homeowners': 2278, 'Tenants': 3992, 'welcome': 11154, 'previously': 9155, 'refused': 9410, '1956669': 395, 'Si': 3716, 'si': 9880, 'oreo': 8748, 'truffles': 10781, 'LOOK': 2600, 'AMY': 956, 'URE': 4146, 'BEAUTIFUL': 1155, 'INTELLIGENT': 2343, 'WOMAN': 4302, 'AND': 959, 'LIKE': 2583, 'LOT': 2604, 'KNOW': 2506, 'DONåÕT': 1613, 'THAT': 3916, 'SO': 3549, 'WORRY': 4310, 'result': 9516, 'consistently': 5781, 'intelligent': 7498, 'kind': 7731, 'Start': 3815, 'asking': 4899, 'practicum': 9111, 'links': 7928, 'ears': 6331, 'ttyl': 10794, '120': 326, 'bad': 4993, 'Miss': 2862, 'thru': 10599, 'different': 6131, 'feelingwavering': 6622, 'decisions': 6022, 'coping': 5816, 'individualtime': 7459, 'heal': 7165, 'Never': 2995, 'Each': 1770, 'gives': 6954, 'reasons': 9359, 'UpgrdCentre': 4190, '0207': 9, '153': 378, '9153': 901, '26th': 464, 'July': 2489, 'TCs': 3895, 'Optout': 3133, 'bye': 5360, 'railway': 9298, 'princess': 9166, 'receiving': 9374, 'oral': 8740, 'Doggy': 1703, 'style': 10282, 'fave': 6605, 'position': 9071, 'enjoy': 6417, 'roads': 9561, 'slippery': 9962, 'bike': 5136, 'wait': 11052, 'many': 8130, 'language': 7805, 'okmail': 8683, 'Dave': 1643, 'notice': 8591, 'Tenerife': 3993, 'Holiday': 2273, '5000': 677, '09061743806': 224, 'SAE': 3488, 'Box326': 1306, 'CW25WX': 1424, 'screamed': 9705, 'enters': 6425, 'remove': 9447, 'flat': 6704, 'rate': 9317, 'transfered': 10746, 'removed': 9448, 'banks': 5012, 'differ': 6127, 'charges': 5528, 'differbe': 6128, '9ja': 917, 'person': 8931, 'details': 6088, 'txting': 10820, 'MOAN': 2760, '69888Nyt': 742, 'broken': 5289, 'Plz': 3282, 'cum': 5907, 'infront': 7473, 'Other': 3143, 'wise': 11244, 'll': 7954, '9t': 919, 'aathilove': 4547, 'Tension': 3994, 'ahwhat': 4679, 'machiany': 8079, '8th': 897, 'Whenre': 4386, 'G': 1976, 'thinking': 10567, 'mcr': 8181, 'Almost': 1050, 'sec': 9718, 'taste': 10438, 'fb': 6610, 'jaykwon': 7606, 'thuglyfe': 10604, 'falconerf': 6568, 'MESSAGE': 2737, 'Activate': 1006, 'Messages': 2843, 'terms': 10490, 'conditions': 5757, 'visit': 11013, 'www07781482378com': 11354, 'Depends': 1662, 'boye': 5245, 'faded': 6555, 'glory': 6964, '6': 713, 'ralphs': 9307, 'accounts': 4586, 'dry': 6293, 'trade': 10733, 'shit': 9831, 'Sorryin': 3779, 'reunion': 9527, 'nowcan': 8605, 'meh': 8208, 'Nope': 3038, 'monday': 8343, 'accenture': 4571, 'jackson': 7590, 'rec': 9365, 'center': 5499, '7ish': 787, 'reache': 9334, 'Fighting': 1916, 'either': 6375, 'lose': 8000, 'fightng': 6645, 'some1': 10027, 'dificult': 6134, 'nuerologist': 8616, 'Lolnice': 2671, 'fish': 6688, 'water': 11104, '123': 331, 'å£1450': 11516, '09050002311': 188, 'b4280703': 4980, 'TCsstop': 3898, '08718727868': 161, 'Over': 3148, 'bored': 5220, 'outside': 8780, 'westshore': 11173, 'hyde': 7378, 'park': 8853, 'village': 11003, 'near': 8485, 'hows': 7318, 'anthony': 4788, 'bringing': 5282, 'fees': 6624, 'rent': 9453, 'significance': 9891, 'opinion': 8722, 'Jada': 2449, 'Kusruthi': 2560, 'Lovable': 2682, 'Silent': 3721, 'Spl': 3795, 'character': 5523, 'matured': 8167, '8': 792, 'Stylish': 3842, 'Simple': 3723, 'gs': 7067, 'scrounge': 9709, 'ammo': 4741, 'ak': 4689, 'Prabhaim': 3306, 'sorydarealyfrm': 10070, 'sory': 10069, 'forgiven': 6768, 'Nojst': 3029, 'tat': 10439, 'Phone': 3258, '40GB': 606, 'iPod': 7383, 'MP3': 2775, 'COLLECT': 1398, '83355': 829, 'IBHltd': 2312, 'LdnW15H': 2636, '150pMtmsgrcvd18': 361, 'Sno': 3761, 'Boltblue': 1290, 'POLY': 3195, 'MONO': 2767, 'POLY3': 3196, 'Cha': 1469, 'Slide': 3749, 'Slow': 3750, 'Jamz': 2453, 'Toxic': 4085, 'With': 4414, 'MORE': 2771, 'topped': 10708, 'httpwwwbubbletextcom': 7333, 'renewal': 9450, 'Pin': 3266, 'tgxxrz': 10508, 'transport': 10750, 'less': 7874, 'problematic': 9184, 'By': 1348, 'join': 7636, 'bday': 5054, 'definite': 6036, 'booking': 5213, 'fri': 6815, 'Usually': 4202, 'unconscious': 10850, 'children': 5589, 'adults': 4630, 'behave': 5092, 'abnormally': 4555, 'ebay': 6344, 'elsewhere': 6388, 'Shall': 3686, 'pickle': 8966, 'Were': 4373, 'tacos': 10408, 'rude': 9602, 'campus': 5410, '020903': 14, 'attempt': 4925, '08718729755': 163, 'BOX95QU': 1192, 'christmas': 5612, 'merry': 8237, '85023': 844, 'SavaMob': 3640, 'member': 8217, 'offers': 8660, 'T': 3878, 'Cs': 1557, '08717898035': 150, 'å£300': 11534, 'Sub': 3844, 'Unsub': 4183, 'pretty': 9151, 'lady': 7787, 'single': 9911, 'recieve': 9382, 'within': 11256, '24hrs': 453, 'Terms': 3996, 'Channel': 1473, 'Teletext': 3989, 'Pg': 3253, 'doublefaggot': 6240, '2003': 427, '07815296484': 41, '800': 793, 'SIM': 3528, '08718738001': 167, '41782': 610, '181104': 388, 'Todaysundaysunday': 4070, 'holidayso': 7262, 'while': 11196, 'hoping': 7292, 'l8r': 7778, 'malaria': 8114, 'Bani': 1229, 'especially': 6454, 'leads': 7844, 'passionate': 8875, 'kiss': 7739, 'across': 4593, 'Probably': 3326, 'lt': 8040, 'fat': 6595, 'fingers': 6672, 'press': 9144, 'these': 10551, 'buttons': 5349, 'Ummmmmaah': 4169, 'Many': 2814, 'returns': 9526, 'HAPPY': 2122, 'BIRTHDAY': 1171, 'tirupur': 10637, 'wwwApplausestorecom': 11357, 'MonthlySubscription50pmsg': 2893, 'max6month': 8170, 'TCsC': 3897, 'web': 11126, 'age16': 4660, '2stop': 527, 'famous': 6578, 'quote': 9287, 'develop': 6092, 'ability': 4552, 'listen': 7939, 'unconditionally': 10849, 'losing': 8003, 'temper': 10484, 'self': 9748, 'confidence': 5761, 'MARRIED': 2723, 'Pa': 3219, 'oclock': 8648, 'mine': 8275, 'bash': 5027, 'recovery': 9391, 'rather': 9320, 'cooped': 5812, 'hotel': 7304, 'invitation': 7519, 'Cali': 1428, 'english': 6416, 'blokes': 5183, 'weddin': 11132, 'omw': 8695, 'BTW': 1205, 'alibi': 4704, 'cutting': 5929, 'Imagine': 2377, 'sink': 9913, 'through': 10593, 'paces': 8808, 'cage': 5368, 'cock': 5674, 'surrounded': 10366, 'reminding': 9444, 'owns': 8800, 'Enjoy': 1801, 'cuck': 5900, 'Hurry': 2305, 'weeddeficient': 11138, 'three': 10589, 'Sure': 3866, 'acknowledgement': 4592, 'astoundingly': 4912, 'tactless': 10410, 'generally': 6916, 'faggy': 6556, 'demand': 6054, 'blood': 5186, 'oath': 8635, 'fo': 6736, 'Every': 1820, 'warm': 11082, 'cup': 5910, 'milk': 8265, 'youll': 11467, 'magic': 8096, 'loose': 7995, 'weight': 11148, 'I‰Û÷ll': 2427, 'pan': 8827, 'it‰Û÷s': 7576, 'cheap': 5542, 'perhaps': 8924, 'that‰Û÷s': 10529, 'silly': 9899, 'isn‰Û÷t': 7554, 'likely': 7911, 'uv': 10941, 'causes': 5483, 'mutations': 8436, 'Sunscreen': 3860, 'essential': 6458, 'thesedays': 10552, 'Having': 2208, 'lunchyou': 8056, 'onlinewhy': 8706, 'Princess': 3322, 'pics': 8967, 'Aiyo': 1036, 'haven': 7151, 'fast': 6591, 'workin': 11304, 'huh': 7347, 'bao': 5015, 'sugardad': 10316, 'ahgee': 4674, 'meim': 8210, 'brownie': 5298, 'Geeeee': 2051, 'barely': 5019, 'Fuck': 1968, 'Cant': 1450, '2mrw': 517, 'ninish': 8547, 'icky': 7392, 'American': 1062, 'freek': 6806, 'callin': 5396, 'Jen': 2461, 'eh': 6371, 'Oooh': 3125, 'ridden': 9539, 'ey': 6541, 'anyways': 4806, 'gym': 7089, 'whatever': 11181, 'smiles': 9987, 'Daddy': 1631, 'scream': 9704, 'pleasure': 9015, 'slap': 9946, 'dick': 6111, 'WOT': 4312, 'THEN': 3923, 'MISSY': 2752, 'Yar': 4494, 'mum': 8416, 'sch': 9689, 'clean': 5635, 'lab': 7779, 'goggles': 6980, 'door': 6233, 'daddy': 5940, '2000': 425, 'call09050000327': 5379, 'arguing': 4859, 'ring': 9546, 'claims': 5624, '09050005321': 190, 'Arngd': 1093, 'marriage': 8143, 'walkin': 11062, 'unfortuntly': 10867, 'snake': 10002, 'bites': 5157, 'dancing': 5954, 'frnt': 6836, 'sayin': 9677, 'Bite': 1273, 'bite': 5156, 'izzit': 7580, 'textand': 10500, '08002988890': 60, 'exwife': 6540, 'kids': 7724, 'scotland': 9698, 'JJC': 2441, 'tendencies': 10487, 'Live': 2659, 'headache': 7159, 'quit': 9281, 'jazz': 7608, 'Yogasana': 4521, 'em': 6389, 'lessons': 7877, 'meive': 8212, 'hardly': 7139, 'gotany': 7010, 'srsly': 10148, 'yi': 11446, 'spree': 10139, 'TXT': 3965, 'SHOP': 3522, '80878': 808, 'TsCs': 4103, 'wwwtxt2shopcom': 11399, 'custcare': 5920, '08715705022': 141, '1x150pwk': 421, 'pound': 9092, '08712402050': 110, 'BEFORE': 1160, 'lines': 7923, '10ppm': 313, 'AG': 936, 'Promo': 3329, '07753741225': 32, 'S': 3483, 'M': 2706, '08715203677': 136, '42478': 614, '241004': 449, 'grand': 7027, 'prix': 9175, 'stands': 10167, 'Lets': 2645, 'Friends': 1962, 'nitz': 8554, 'announcement': 4774, '542': 689, '0825': 65, 'exhausted': 6514, 'train': 10735, 'pie': 8970, 'mums': 8421, 'present': 9141, 'ar': 4846, 'Mind': 2855, 'blastin': 5169, 'Tsunamis': 4108, 'occur': 8646, 'Rajnikant': 3411, 'stopped': 10229, 'swimming': 10386, 'Indian': 2389, 'OceanD': 3093, 'Speaking': 3790, 'Be': 1239, 'noon': 8571, 'TaKe': 3970, 'CaRE': 1425, 'gET': 6876, 'WeLL': 4359, 'sOOn': 9621, 'XCLUSIVECLUBSAISAI': 4450, '2MOROW': 486, '285': 469, 'SOIREE': 3551, 'SPECIALE': 3567, 'ZOUK': 4540, 'NICHOLS': 2949, 'PARISFREE': 3155, 'ROSES': 3397, 'ALL': 951, 'LADIES': 2570, '0794674629107880867867': 45, 'bridgwater': 5273, 'banter': 5014, 'Neva': 2994, 'imma': 7420, 'somethin': 10035, '22': 443, 'Euro2004': 1812, 'results': 9517, 'daily': 5947, '83222': 826, 'valentine': 10951, 'game': 6886, 'answers': 4786, 'loves': 8028, 'Ques': 3353, 'suits': 10322, 'bestrply': 5115, 'dependents': 6064, 'THANX4': 3914, 'CER': 1375, 'IT': 2353, 'CATCH': 1369, 'UP': 4140, 'BUT': 1211, 'AVE': 983, 'FIND': 1861, 'OFTEN': 3067, 'OH': 3068, 'TAKE': 3882, 'CARE': 1364, 'SOONC': 3558, 'himthen': 7235, 'future': 6872, 'valentines': 10952, 'hundreds': 7355, 'handsomes': 7118, 'beauties': 5061, 'aunties': 4942, 'uncles': 10847, 'shock': 9838, 'shuhui': 9876, 'leona': 7871, 'Like': 2650, 'reaction': 9338, 'family': 6576, 'happiness': 7134, 'aft': 4649, 'snow': 10008, 'weather': 11124, 'together': 10664, 'friendships': 6826, 'grow': 7061, 'dismay': 6174, 'MAKE': 2718, 'SURE': 3608, 'ALEX': 950, 'KNOWS': 2507, 'HIS': 2150, 'IS': 2350, 'OVER': 3090, 'FIFTEEN': 1857, 'AS': 973, 'FAR': 1852, 'YOURE': 4486, 'CONCERNED': 1404, 'pub': 9235, 'bring': 5281, 'bud': 5313, 'drinks': 6272, 'useful': 10926, 'officially': 8668, 'paid': 8818, 'market': 8139, 'tootsie': 10704, 'pop': 9060, 'longer': 7986, 'Darren': 1637, 'TEXTBUDDY': 3906, 'Chat': 1477, 'area': 4852, '25p': 459, 'Search': 3654, 'postcode': 9083, 'gaytextbuddycom': 6907, 'ONE': 3076, '89693': 885, 'Vodafone': 4241, '4882': 636, 'å£350': 11537, 'matches': 8156, '09064019014': 243, 'forwarded': 6785, 'Seventeen': 3676, 'seven': 9788, 'hundred': 7353, 'ml': 8316, '‰ÛÒ': 11570, 'Voucher': 4245, 'Holder': 2271, 'PC': 3161, 'httpwwwetlpcoukexpressoffer': 7334, 'apply2': 4826, '80062': 795, 'funny': 6867, 'Sweetheart': 3873, 'Biola': 1268, 'login': 7973, 'Dad': 1630, 'fetching': 6633, 'restock': 9509, 'thanksgiving': 10517, 'sound': 10073, 'effects': 6361, 'gorgeous': 7006, 'Kind': 2533, 'brighten': 5276, 'wee': 11136, 'thursday': 10606, 'Allo': 1049, 'braved': 5258, 'taken': 10417, 'trains': 10739, 'triumphed': 10773, 'we‰Û÷re': 11179, 'b‰Û÷ham': 5363, 'jolly': 7647, 'cartoon': 5464, 'listening': 7941, 'music': 8430, 'eve': 6468, 'temple': 10485, 'church': 5616, 'uncomfortable': 10848, '08715203694': 138, '40533': 605, '311004': 551, 'email': 6390, 'RSTM': 3399, 'SW7': 3611, '3SS': 578, 'Sometimes': 3772, 'gentle': 6919, 'Sonetimes': 3774, 'rough': 9586, 'starting': 10178, 'panic': 8829, 'Tuesday': 4111, 'wesleys': 11169, 'town': 10729, 'bet': 5116, 'hella': 7188, 'drugs': 6287, 'drug': 6285, 'dealers': 6000, 'impatient': 7425, 'Sun': 3858, 'earth': 6332, 'cloud': 5658, 'river': 9559, 'evng': 6492, 'unless': 10880, 'wikipediacom': 11220, '88800': 873, '89034': 878, 'premium': 9131, '08718711108': 151, 'Under': 4172, 'lays': 7839, 'envelope': 6436, 'paper': 8836, 'On': 3116, 'repent': 9462, 'fetch': 6632, 'Leave': 2639, 'Prepare': 3316, 'study': 10270, 'positions': 9072, 'kama': 7684, 'sutra': 10369, 'nange': 8464, 'bakra': 5001, 'kalstiyathen': 7683, 'teacoffee': 10458, 'Carlosll': 1457, 'lakhs': 7793, 'Ttyl': 4109, 'Ho': 2265, 'ho': 7253, 'belly': 5101, 'laugh': 7829, 'sun0819': 10330, 'posts': 9088, 'HELLOYou': 2140, 'seem': 9736, 'TONE': 3944, 'Gr8': 2093, 'TOP': 3951, '20': 423, 'wk': 11263, 'opt': 8731, '08452810071': 71, 'Ditto': 1690, 'saying': 9678, 'ANYTHING': 964, 'Peace': 3237, 'knw': 7759, 'Say': 3643, 'wetherspoons': 11175, 'Piggy': 3264, 'awake': 4968, 'ure': 10909, 'Cause': 1464, 'freaky': 6802, 'lol': 7980, 'Missed': 2863, 'yelling': 11435, 'scrappy': 9701, 'lonely': 7984, 'hex': 7218, 'Explain': 1840, 'sdryb8i': 9713, 'xy': 11422, 'sue': 10310, 'lapdancer': 7809, 'sex': 9790, 'bedroom': 5074, 'SUE': 3602, '89555': 884, 'TextOperator': 4003, 'G2': 1977, '1DA': 398, '150ppmsg': 371, 'King': 2536, 'Once': 3118, 'Crying': 1556, 'Baby': 1219, 'Building': 1337, 'Map': 2815, 'Imprtant': 2380, 'Wil': 4402, 'Reach': 3421, 'TOMORW': 3943, 'DearMe': 1648, 'cherthalain': 5563, 'cochin': 5673, 'bfore': 5126, 'starti': 10177, 'shall': 9805, 'accordinglyor': 4583, 'comingtmorow': 5714, 'engaged': 6411, 'ans': 4780, 'torch': 10712, 'bold': 5201, 'Forwarded': 1945, '448712404000Please': 623, '08712404000': 115, 'urgent': 10910, 'farm': 6588, '4d': 650, 'dad': 5939, '1405': 347, '1680': 382, '1843': 389, 'sun': 10329, 'law': 7836, 'hey': 7219, 'purchase': 9251, 'box': 5240, 'Ah': 1026, 'poop': 9056, 'Looks': 2677, 'cuz': 5930, 'gpu': 7019, 'entrepreneurs': 6432, 'alexs': 4698, 'corporation': 5821, 'gap': 6891, '‰Û': 11566, 'Mum': 2918, 'Ku': 2559, 'prevent': 9152, 'dehydration': 6042, 'fluids': 6727, 'weird': 11150, 'idea': 7397, 'True': 4094, 'deari': 6007, 'soso': 10071, 'smsd': 9997, 'away': 4971, 'trek': 10766, 'harri': 7141, 'Quite': 3357, 'drivin': 6275, 'KEEP': 2501, 'fantastic': 6585, 'NGage': 2945, 'deck': 6023, 'wwwcnupdatescomnewsletter': 11374, 'alerts': 4696, 'OUT': 3088, 'Height': 2219, 'Confidence': 1525, 'Aeronautics': 1013, 'professors': 9199, 'wer': 11164, 'calld': 5391, 'sit': 9921, 'aeroplane': 4638, 'Aftr': 1021, 'ws': 11343, 'students': 10267, 'Dey': 1669, 'hurried': 7364, 'Bt': 1332, 'saidif': 9633, 'seems': 9738, 'timing': 10629, 'shitstorm': 9835, 'attributed': 4934, '08714712388': 127, '10am7pm': 308, 'Save': 3641, 'stress': 10247, 'dorm': 6235, 'sell': 9751, '449071512431': 625, 'UU': 4155, 'å£1250': 11515, '09071512433': 273, 'b4': 4978, '050703': 16, 'TCsBCM4235WC1N3XX': 3896, 'callcost': 5389, 'mobilesvary': 8324, 'maxå£7': 8173, 'Book': 1294, 'sth': 10210, 'specs': 10101, 'PX3748': 3218, '08714712394': 128, 'Macha': 2798, 'upseti': 10904, 'assume': 4908, 'mindsetbelieve': 8274, 'both': 5228, 'usLET': 10920, 'LIFE': 2581, 'BEGIN': 1161, 'AGAINcall': 939, 'Sfine': 3680, 'Anytime': 1074, 'wondar': 11284, 'flim': 6713, 'cookies': 5809, 'jelly': 7615, 'running': 9612, 'stillmaybe': 10215, 'feeling': 6621, 'sameso': 9647, 'itor': 7569, 'admiti': 4623, 'madthen': 8091, 'correctionor': 5825, 'lifeand': 7897, 'worldmay': 11310, 'runninglets': 9613, 'looks': 7993, 'scrumptious': 9710, 'wants': 11080, 'ba': 4981, 'dao': 5959, 'half8th': 7105, 'Exactly': 1831, 'jide': 7625, 'visiting': 11014, 'Dunno': 1731, 'Email': 1793, 'AlertFrom': 1042, 'Jeri': 2464, 'StewartSize': 3824, '2KBSubject': 484, 'Lowcost': 2691, 'prescripiton': 9138, 'drvgsTo': 6292, 'Spring': 3803, 'yay': 11429, 'steak': 10195, 'convincingjust': 5806, 'tel': 10473, 'twice': 10814, 'neglect': 8506, 'itjust': 7565, 'Leaving': 2640, 'tonite': 10690, 'opportunityall': 8726, 'fastpls': 6594, 'add': 4607, 'prayers': 9119, 'dearRakhesh': 6005, 'Loyalty': 2692, 'OfferThe': 3098, 'NEW': 2943, 'Nokia6650': 3032, 'å£10': 11507, 'TXTAUCTION': 3966, 'START': 3584, '81151': 811, '4TCtxt': 646, '150pMTmsg': 357, 'Wish': 4412, 'mayb': 8175, 'rite': 9557, 'Da': 1629, 'gd': 6909, 'faster': 6592, 'gals': 6884, 'attached': 4923, 'Glad': 2067, 'Thing': 4032, 'hadnt': 7095, 'clocks': 5648, 'shouted': 9859, 'realised': 9347, 'wahay': 11048, 'Men': 2840, 'shorter': 9851, 'ladies': 7785, 'Gaze': 2046, 'eyes': 6543, '930': 903, 'subscribed': 10293, 'Content': 1530, 'å£3': 11533, '82324': 818, 'Helpline': 2230, '08706091795': 90, 'weve': 11176, 'spoken': 10128, 'Give': 2066, 'gist': 6950, 'realize': 9350, '40': 599, 'thousands': 10586, 'tattoos': 10440, 'PREMIER': 3205, 'gimme': 6944, 'lip': 7933, 'caveboy': 5486, 'library': 7889, 'Realy': 3428, 'sorryi': 10063, 'confused': 5768, 'holla': 7263, 'anyone': 4796, 'spare': 10087, 'Faith': 1903, 'makes': 8110, 'possibleHope': 9079, 'workLove': 11302, 'beautifulMay': 5063, 'ChristmasMerry': 1494, 'youcarlos': 11460, 'isare': 7545, 'vibrate': 10984, 'acting': 4598, 'Romantic': 3472, 'Paris': 3228, 'å£79': 11556, '08704439680TsCs': 89, 'grandmas': 7030, 'hungover': 7356, 'Another': 1070, 'unclaimed': 10845, '09066368327': 264, 'closingdate040902': 5655, 'claimcode': 5623, 'M39M51': 2711, 'å£150pmmorefrommobile2BremovedMobyPOBox734LS27YF': 11524, 'gua': 7069, 'mt': 8402, 'faber': 6547, 'yest': 11441, 'Yest': 4517, 'Jus': 2492, 'Wishing': 4413, 'mas': 8148, 'Year': 4500, 'advance': 4631, 'City': 1497, 'Break': 1318, 'Summer': 3856, 'Shopping': 3708, 'WK': 4298, 'STORE': 3592, '88039': 866, 'SkilGme': 3739, 'TsCs087147403231WinawkAge16': 4105, 'å£150perWKsub': 11521, 'nt': 8610, 'goin': 6982, 'meetin': 8202, 'wonder': 11286, 'tis': 10638, 'Theyre': 4030, 'dramatic': 6254, 'Schools': 3648, 'closed': 5651, 'Apparently': 1080, 'drive': 6273, 'inch': 7441, 'anywhere': 4807, 'damn': 5949, 'hunting': 7362, 'drunkard': 6290, 'Wats': 4355, 'idc': 7395, 'weaseling': 11122, 'row': 9591, 'space': 10082, 'picking': 8965, 'trash': 10751, 'smokes': 9991, 'begging': 5087, 'lovely': 8023, 'sing': 9908, 'guy': 7085, 'wishing': 11249, 'slave': 9947, 'punish': 9246, 'Beerage': 1252, '0578': 17, 'turns': 10806, 'randomlly': 9311, 'opening': 8718, 'couldnt': 5842, 'shes': 9823, 'Most': 2902, 'fixes': 6698, 'spelling': 10108, 'diff': 6126, 'Ever': 1819, 'living': 7952, 'perfect': 8919, 'community': 5720, '100pSMS': 299, 'Top': 4081, 'Polyphonic': 3297, '087018728737': 83, 'National': 2983, 'Rate': 3416, 'toppoly': 10709, 'tune': 10801, 'SUBPOLY': 3601, '81618': 813, 'pole': 9040, 'UnSub': 4170, '08718727870': 162, 'enjoyed': 6418, 'fondly': 6745, 'bein': 5094, 'thot': 10580, 'YWHERE': 4490, 'DOGBREATH': 1608, 'ITS': 2356, 'SOUNDING': 3562, 'JAN': 2433, 'THATåÕS': 3918, 'Omg': 3114, 'weighed': 11147, 'Woohoo': 4428, 'uncountable': 10853, 'dictionary': 6113, 'pieces': 8972, '9996': 910, '14thMarch': 351, 'availa': 4951, 'Petey': 3250, 'whereare': 11190, 'friendsare': 6824, 'theKingshead': 10532, 'canlove': 5420, 'Nic': 3003, 'Gimme': 2062, 'ago': 4669, 'Chance': 1471, 'POBOX84': 3185, 'M263UZ': 2710, 'Appt': 1083, 'ltTIMEgt': 8044, 'No1': 3017, '8077': 807, 'mates': 8158, 'wwwgetzedcouk': 11380, 'POBox': 3187, '36504': 563, 'W45WQ': 4253, 'norm150ptone': 8576, 'cashto': 5470, '08000407165': 51, 'getstop': 6932, '88222': 870, 'PHP': 3168, 'RG21': 3388, '4JX': 642, 'dled': 6187, '3d': 585, 'imp': 7424, 'aint': 4683, 'smokin': 9992, 'Boooo': 1297, 'bec': 5065, 'Ugh': 4159, 'Ssnervous': 3811, 'costumes': 5835, 'gift': 6940, 'yowifes': 11486, 'Hint': 2246, 'hint': 7236, 'å£100': 11508, 'borrow': 5224, 'bag': 4996, 'outbid': 8770, 'simonwatson5120': 9902, 'Shinco': 3700, 'Plyr': 3281, 'bid': 5131, 'acsmsrewards': 4594, 'notifications': 8592, 'model': 8329, 'Youi': 4524, 'Also': 1054, 'galileo': 6882, 'dobby': 6192, 'responding': 9500, 'BOO': 1179, 'ENJOYIN': 1745, 'YOURJOB': 4487, 'SEEMED': 3503, 'GETTIN': 1992, 'HUNNYHOPE': 2179, 'OKTAKE': 3072, 'IåÕLLSPEAK': 2424, '2U': 495, 'SOONLOTS': 3559, 'OF': 3063, 'LOVEME': 2610, 'XXXX': 4456, 'starshine': 10173, 'Ache': 1003, 'fuck': 6847, 'sips': 9915, 'cappuccino': 5431, 'teasing': 10464, 'SMSSERVICES': 3545, 'yourinclusive': 11474, 'goto': 7011, 'wwwcomuknet': 11375, '3qxj9': 593, 'extra': 6538, '08702840625COMUK': 87, '220CM2': 444, '9AE': 911, 'alfie': 4699, 'Moons': 2895, 'Children': 1486, 'm8s': 8074, 'Tone': 4076, 'charity': 5529, '8007': 796, 'Nokias': 3033, 'Poly': 3295, 'polys': 9048, 'zed': 11496, '08701417012': 78, 'profit': 9202, 'Hmm': 2255, 'Bits': 1274, 'Hahahause': 2186, 'brain': 5252, 'turned': 10804, 'green': 7046, 'burial': 5332, 'MojiBiola': 2885, 'REVEAL': 3385, '09065174042': 249, 'recd': 9366, 'Cust': 1565, '07821230901': 42, 'mate': 8157, 'RV': 3404, 'hol': 7256, 'coz': 5858, 'havenåÕt': 7153, 'ages': 4666, 'roadsRVx': 9562, 'skyped': 9943, 'kz': 7776, 'sura': 10356, 'Weve': 4376, 'given': 6953, 'ultimatum': 10840, 'countin': 5845, 'aburo': 4563, 'Surely': 3867, 'successful': 10302, 'VIDEO': 4212, 'five': 6693, '08002888812': 57, 'inconsiderate': 7448, 'nag': 8451, 'recession': 9378, 'hence': 7199, 'HALF': 2121, 'PRICE': 3206, 'Rental': 3452, 'vouchersText': 11035, 'nowSavaMobmember': 8600, 'Remove': 3450, 'soo': 10051, 'donåÕt': 6230, 'understand': 10857, '2morrow': 514, 'comprehensive': 5740, 'Prashanthettans': 3310, 'mother': 8369, '09066350750': 254, 'Ibiza': 2364, '10000': 296, 'await': 4966, 'collection': 5692, '434': 617, 'SK3': 3534, '8WP': 891, 'ppm': 9103, 'Kkwhen': 2551, 'Meanwhile': 2833, 'suite': 10320, 'xavier': 11408, 'seconds': 9721, 'warning': 11086, 'samantha': 9644, 'playing': 9009, 'jays': 7607, 'guitar': 7082, 'impress': 7432, 'doug': 6243, 'realizes': 9352, 'stomach': 10221, 'trauma': 10752, 'swear': 10378, 'officewhats': 8666, 'mattermsg': 8165, 'nowi': 8606, 'shoes': 9840, 'wan': 11073, 'inner': 7479, 'tigress': 10615, 'activate': 4601, 'version': 10978, 'AH': 945, 'POOR': 3200, 'BABYHOPE': 1133, 'URFEELING': 4147, 'BETTERSN': 1165, 'LUV': 2620, 'PROBTHAT': 3211, 'OVERDOSE': 3091, 'WORK': 4307, 'CAREFUL': 1365, 'SPK': 3572, 'SN': 3546, 'LOTS': 2606, 'LOVEJEN': 2609, 'XXX': 4454, 'returned': 9524, 'Talk': 3975, 'fall': 6569, 'worlds': 11311, 'discreet': 6169, 'VIP': 4216, '83110': 824, 'Hai': 2188, 'ana': 4753, 'tomarrow': 10675, 'sathy': 9662, 'RTO': 3402, 'Spoons': 3800, 'okay': 8679, 'named': 8459, 'tampa': 10431, 'genius': 6918, 'whenever': 11187, 'connections': 5774, 'sort': 10064, 'Dude': 1729, 'lotta': 8011, 'corvettes': 5828, 'lately': 7822, 'yrs': 11488, 'supply': 10348, 'CDs': 1374, 'Virgin': 4239, 'Records': 3432, 'Mystery': 2929, 'Gift': 2061, '09061104283': 213, 'wwwsmsconet': 11393, 'å£150pm': 11523, 'approx': 4838, 'consider': 5779, 'walls': 11069, 'bunkers': 5327, 'peaceful': 8900, 'matter': 8164, '07808': 38, 'XXXXXX': 4458, '08719899217': 176, '41685': 609, '071104': 26, 'posh': 9069, 'birds': 5147, 'chaps': 5521, 'user': 10928, 'trial': 10768, 'prods': 9196, 'champneys': 5512, 'dob': 6191, 'asap': 4888, 'Ta': 3968, '0721072': 28, 'philosophical': 8947, 'hole': 7260, 'saved': 9671, 'goodno': 7002, 'problembut': 9185, 'american': 4737, 'drop': 6280, 'cuddle': 5902, 'nap': 8467, 'Yourself': 4529, 'Atleast': 1109, 'Otherwise': 3145, 'Best': 1260, 'FRIEND': 1885, 'WORLD': 4308, 'Shakespeare': 3685, 'SHESIL': 3518, 'Shop': 3706, 'till': 10619, 'Drop': 1727, '10K': 306, '5K': 695, 'Cash': 1460, 'Travel': 4091, 'voucher': 11033, '09064011000': 236, 'NTT': 2971, 'Box': 1303, 'CR01327BT': 1411, 'fixedline': 6697, 'castor': 5474, 'Liverpool': 2660, 'played': 9004, 'mid': 8258, '09058094565': 201, 'Secret': 3656, 'Admirer': 1010, '09065171142stopsms08': 247, 'Reminder': 3448, 'downloaded': 6247, 'Goto': 2091, 'httpdoit': 7328, 'mymoby': 8441, 'knew': 7748, 'woul': 11324, 'lead': 7841, 'wanting': 11079, 'curfew': 5913, 'gibe': 6939, 'MIDNIGHT': 2742, 'getsleep': 6931, 'studdying': 10266, 'ear': 6324, 'training': 10737, 'massages': 8150, 'oil': 8677, 'sup': 10339, 'Yoyyooo': 4531, 'permissions': 8928, 'mac': 8077, 'usb': 10921, 'Gibbs': 2060, 'unsoldmike': 10887, 'hussey': 7370, 'failed': 6558, 'Shes': 3694, 'sad': 9627, 'unbelievable': 10844, 'faglord': 6557, 'Wifehow': 4401, 'murder': 8424, 'exactly': 6498, 'Nutter': 3055, 'Cutter': 1572, 'Ctter': 1561, 'Cttergg': 1562, 'Cttargg': 1560, 'Ctargg': 1559, 'Ctagg': 1558, 'ie': 7404, 'Doesnt': 1701, 'thus': 10607, 'Superb': 3864, 'Thought': 4044, 'grateful': 7034, 'opportunity': 8725, 'happier': 7131, 'agents': 4665, 'booked': 5211, 'experiment': 6524, 'Thursday': 4048, 'Things': 4033, 'due': 6304, 'several': 9789, 'outstanding': 8782, 'invoices': 7524, 'possible': 9078, 'teach': 10454, 'Lovely': 2686, 'smell': 9981, 'tobacco': 10655, 'derek': 6072, 'taylor': 10448, 'assumed': 4909, 'worst': 11320, 'whats': 11182, 'charles': 5530, 'lastest': 7817, 'Stereophonics': 3823, 'Marley': 2820, 'Dizzee': 1694, 'Racal': 3405, 'Libertines': 2646, 'Strokes': 3835, 'Nookii': 3035, 'games': 6887, 'Flirt': 1930, 'Click': 1500, 'Bookmark': 1296, 'Plus': 3280, 'grinule': 7053, 'greet': 7047, 'WHITE': 4283, 'FUDGE': 1897, 'OREOS': 3083, 'STORES': 3593, 'January': 2455, 'Male': 2808, 'Sale': 3627, 'Hot': 2290, 'Gay': 2045, 'cheaper': 5543, '08709222922': 98, '15pmin': 380, '78pmin': 779, 'peak': 8901, '08712460324': 118, '10pmin': 312, 'Zahers': 4541, 'ym': 11450, 'nauseous': 8479, 'pissed': 8985, 'sweets': 10383, 'pig': 8974, 'dieting': 6125, 'chip': 5600, 'reminder': 9443, 'Iam': 2363, 'addicted': 4609, 'msging': 8392, 'wrong': 11340, 'photo': 8955, 'registered': 9416, 'Tmr': 4062, 'yck': 11430, 'ma': 8075, 'ashleys': 4892, 'avalarr': 4955, 'hollalater': 7264, 'attend': 4927, 'rounds': 9589, 'todaybut': 10659, 'Actually': 1008, 'websitenow': 11130, 'blogging': 5181, 'magicalsongsblogspotcom': 8098, 'chikkuil': 5582, 'aftr': 4654, 'diet': 6124, 'ate': 4917, 'slices': 9956, 'kvb': 7774, 'acc': 4569, '88600': 872, 'å£1million': 11527, 'ppt150x3normal': 9105, 'box403': 5243, 'w1t1jy': 11042, 'fridayhope': 6817, 'alternativehope': 4729, 'ore': 8746, 'mo': 8319, 'owo': 8802, 'wa': 11044, 'moments': 8340, 'fro': 6837, 'wherever': 11193, 'samus': 9648, 'shoulders': 9856, 'Matthew': 2827, '09063440451': 232, '4Lux': 643, 'ppm150': 9104, 'Box334': 1307, 'SK38XH': 3535, 'wear': 11120, 'jeans': 7612, 'fever': 6634, 'vomitin': 11029, 'Kkare': 2542, '09061749602': 228, 'å£10000': 11510, '528': 685, 'HP20': 2172, '1YF': 410, 'Better': 1263, 'Made': 2801, 'Friday': 1961, 'stuffed': 10275, 'bleh': 5171, 'least': 7848, 'writhing': 11335, 'tons': 10693, 'paypal': 8896, 'Voila': 4243, 'Money': 2891, 'pockets': 9032, 'places': 8993, 'Only': 3121, 'hospitals': 7300, 'medical': 8197, 'folks': 6738, '150pSMS': 362, 'sorta': 10065, 'blown': 5192, 'recently': 9376, 'id': 7394, 'scores': 9697, 'sophas': 10058, 'secondary': 9720, 'application': 4824, 'schools': 9692, 'applying': 4828, 'Contact': 1529, 'ogunrinde': 8675, 'expensive': 6521, 'photos': 8956, '08718720201': 152, '11414': 319, 'TCRW1': 3894, 'lodging': 7969, 'Chk': 1489, 'belovd': 5104, 'ms': 8390, 'dict': 6112, 'Shb': 3690, 'Beautiful': 1241, 'Truth': 4097, 'against': 4657, 'Gravity': 2096, 'Read': 3423, 'carefully': 5445, 'feels': 6623, 'heavy': 7181, 'NIGHT': 2950, 'dobbys': 6193, 'bowl': 5238, 'Filthy': 1919, 'stories': 10236, 'GIRLS': 1997, 'poor': 9057, 'ull': 10839, 'brand': 5255, 'decision': 6021, 'simpler': 9904, 'magical': 8097, 'Welp': 4369, 'apparently': 4818, 'retired': 9521, 'natwest': 8477, 'å£800': 11557, '09050001808': 187, 'M95': 2713, 'Valid12hrs': 4222, 'chad': 5506, 'gymnastics': 7090, 'site': 9922, 'Christians': 1492, 'backa': 4991, 'beautiful': 5062, 'necklace': 8494, 'token': 10668, 'youthats': 11478, 'WIFE': 4288, 'LIKINGBE': 2586, 'SEENO': 3505, 'thatdont': 10523, 'aptitude': 4844, '215': 439, 'horse': 7297, 'racing': 9290, 'earlier': 6325, 'chicken': 5573, 'rice': 9536, 'closes': 5654, 'wrongly': 11341, 'ad': 4606, 'crap': 5864, 'borin': 5221, 'boggy': 5200, 'boring': 5222, 'biatch': 5130, 'nxt': 8628, 'il': 7412, 'hesitate': 7216, 'weakness': 11117, 'notebook': 8586, 'salary': 9635, 'chocolate': 5601, 'dayshe': 5989, 'potential': 9090, 'talent': 10422, 'Reckon': 3431, 'eightish': 6374, 'carpark': 5458, '3G': 572, 'Videophones': 4234, '09063458130': 234, 'videochat': 10991, 'java': 7603, 'Dload': 1695, 'polyPH': 9045, 'noline': 8565, 'rentl': 9456, 'THE': 3920, 'FUCKIN': 1894, 'WHAT': 4278, 'FUCK': 1892, 'THINK': 3929, 'dropped': 6281, 'Carlos': 1456, 'loving': 8030, 'Yun': 4534, 'ahthe': 4678, 'ubi': 10833, 'tomorrowcall': 10681, '67441233': 731, 'ireneere': 7535, 'bus822656166382': 5339, 'Ubi': 4156, 'cresubi': 5881, 'tech': 10465, 'park6ph': 8854, '5wkg': 711, 'daysÌ¬n': 5992, 'Gotta': 2092, 'sd': 9712, 'butt': 5347, 'sore': 10059, 'JULY': 2444, 'relaxing': 9427, '7am': 785, 'party': 8866, '5ish': 704, 'Up': 4186, 'stripes': 10256, 'skirt': 9939, 'peace': 8899, 'miracle': 8291, 'jesus': 7619, 'Hav': 2205, 'blessed': 5173, 'Change': 1472, 'escalator': 6451, 'Yetunde': 4520, 'Feels': 1912, 'quiet': 9280, 'Beth': 1262, 'aunts': 4943, 'charlie': 5531, 'helen': 7185, 'thanks': 10515, 'Nobut': 3023, 'heard': 7169, 'Should': 3712, 'syllabus': 10395, 'Panasonic': 3223, 'BluetoothHdset': 1286, 'DoubleMins': 1717, 'DoubleTxt': 1718, 'contract': 5795, '730pm': 768, 'theyre': 10557, 'Poyyarikaturkolathupalayamunjalur': 3305, 'posterode': 9085, 'Heroi': 2235, 'apt': 4843, 'opportunitypls': 8727, 'ltEMAILgt': 8043, 'kerala': 7707, 'terrible': 10491, 'fan': 6579, 'Meat': 2834, 'lovers': 8027, 'supreme': 10355, 'toldshe': 10672, 'wats': 11108, 'Dearregret': 1649, 'cudnt': 5905, 'calldrove': 5392, 'frm': 6829, 'ctla': 5899, 'homeleft': 7270, 'carente': 5448, 'ishtamayoohappy': 7548, 'bakrid': 5002, 'exe': 6509, 'Don': 1708, 'knowwait': 7757, 'glorious': 6963, 'anniversary': 4771, 'J': 2430, 'finds': 6667, 'Prey': 3320, 'coaxing': 5671, 'images': 7417, 'fond': 6744, 'souveniers': 10081, 'CougarPen': 1541, 'Somebody': 3768, 'secretly': 9724, 'fancies': 6581, 'Wanna': 4339, '09065394514': 250, 'DATEBox1282EssexCM61XN': 1583, '150pmin': 366, 'Hasnt': 2204, 'pattern': 8884, 'throat': 10592, 'scratches': 9702, 'plm': 9018, 'asleep': 4901, 'foreign': 6761, 'stamps': 10163, 'lecture': 7855, 'YEAR': 4468, 'NO1': 2954, 'MAN': 2720, 'MR': 2777, 'SHEFFIELD': 3517, 'boss': 5225, 'nanny': 8465, 'raise': 9301, 'ZOE': 4539, 'HIT': 2151, 'FUCKING': 1895, 'SHITIN': 3520, 'MYSELF': 2793, 'IL': 2324, 'DEFO': 1592, 'TRY': 3960, 'HARDEST': 2125, 'CUM': 1420, 'MILLIONS': 2743, 'LEKDOG': 2578, 'setting': 9783, 'Filling': 1917, 'loverboy': 8026, 'blankets': 5168, 'sufficient': 10314, 'thx': 10608, 'gettin': 6933, 'nyt': 8631, 'Edison': 1780, 'rightly': 9542, 'fool': 6749, 'speechless': 10102, 'during': 6315, 'ViVa': 4232, 'GM': 2000, 'atten': 4926, 'roast': 9563, 'iåÕd': 7581, 'indian': 7456, '09058097218': 209, 'LS15HB': 2612, 'Because': 1245, 'concentrate': 5749, 'educational': 6353, 'flirting': 6717, 'BLOKE': 1173, 'chatting': 5541, 'walked': 11061, 'doesnåÕt': 6204, 'serious': 9775, 'kickoff': 7720, 'Unsubscribe': 4184, 'EURO': 1751, 'soiree': 10021, 'June': 2490, '3rd': 594, 'sells': 9753, 'data': 5973, 'analysis': 4754, 'thesis': 10553, 'Jays': 2459, 'belligerent': 5100, 'HIYA': 2152, 'COMIN': 1401, 'BRISTOL': 1200, 'ST': 3580, 'WEEK': 4268, 'APRIL': 967, 'GOT': 2022, 'OFF': 3064, 'RUDI': 3403, 'YRS': 4489, 'SNORINGTHEY': 3548, 'WERE': 4274, 'DRUNK': 1625, 'COLLEGE': 1399, 'YET': 4479, 'SENDS': 3508, 'INK': 2340, 'BATH': 1143, '515': 681, 'howre': 7317, 'throwing': 10596, 'deciding': 6019, 'EASTENDERS': 1735, 'TV': 3963, 'FLOWER': 1869, 'DOT': 1614, 'compare': 5724, 'herself': 7210, 'VIOLET': 4215, 'TULIP': 3962, 'F': 1846, 'LILY': 2587, '84025': 836, 'WKENT150P16': 4300, 'technical': 10466, 'support': 10349, 'processnetworking': 9195, 'daysso': 5990, 'prepared': 9134, 'finalise': 6661, 'travel': 10753, 'visitneed': 11015, 'works': 11307, 'dates': 5975, 'Lots': 2681, 'YOUR': 4485, 'AREA': 969, 'wwwflirtpartyus': 11377, 'REPLYS150': 3383, 'bitch': 5154, 'dentist': 6060, 'Meeting': 2838, 'Tel': 3987, '09058091854': 196, 'revealed': 9528, 'BOX385': 1189, 'M6': 2712, '6WU': 750, 'bathing': 5038, '09050003091': 189, 'C52': 1351, 'Uve': 4203, 'XCHAT': 4449, 'CHAT': 1381, 'Lul': 2701, 'juicy': 7659, 'gossip': 7007, 'Two': 4119, 'nurses': 8622, 'obese': 8637, 'Oyea': 3149, 'Oi': 3102, 'Ami': 1063, 'parchi': 8846, 'na': 8448, 'Kicchu': 2529, 'kaaj': 7674, 'korte': 7768, 'iccha': 7389, 'korche': 7765, 'ta': 10402, 'tul': 10800, 'movies': 8382, 'Dvd': 1732, 'copies': 5815, 'sculpture': 9711, 'Convey': 1531, 'regards': 9414, 'surya': 10368, 'vijay': 10997, 'POKKIRI': 3194, 'pic': 8961, 'dearer': 6006, 'dem': 6053, 'attractioni': 4932, 'meshe': 8239, 'thoughtsI': 10585, 'hershe': 7211, 'dreamlove': 6261, 'breath': 5265, 'namemy': 8460, 'hermy': 7208, 'herI': 7202, 'herwill': 7213, 'sorrowsI': 10061, 'fight': 6643, 'craziest': 5870, 'herlove': 7207, 'proove': 9219, 'planetI': 8998, 'singing': 9910, 'praises': 9113, 'curry': 5917, 'makiing': 8111, 'sambarlife': 9645, 'thenwill': 10542, 'god': 6974, 'meI': 8184, 'lotwill': 8013, 'FRNDSHIP': 1890, 'needle': 8501, 'clock': 5647, 'Though': 4043, 'Evn': 1826, 'meetitz': 8205, '4few': 652, 'alwys': 4733, 'conected': 5759, 'spatula': 10091, 'hands': 7115, 'NOTHING': 2965, 'SiPix': 3717, 'Digital': 1677, 'Camera': 1442, '09061221061': 216, 'Delivery': 1659, '28days': 470, 'Box177': 1305, 'M221BP': 2707, '2yr': 534, 'warranty': 11087, 'p': 8806, 'på£399': 9265, '09061790121': 229, 'valid': 10953, 'doctor': 6197, 'calis': 5377, 'complexities': 5737, 'freely': 6807, 'taxes': 10444, 'outrageous': 8777, 'tomorro': 10679, 'Ryder': 3482, 'unsoldnow': 10888, 'gibbs': 6938, 'Subscriber': 3847, 'receipt': 9368, 'Elvis': 1791, 'Presleys': 3318, 'Birthday': 1270, 'fret': 6814, 'strips': 10257, 'postal': 9082, 'addressull': 4613, 'alrightOkay': 4723, 'GIFTS': 1994, 'cliff': 5644, 'Been': 1249, 'ne': 8484, 'interesting': 7504, 'wrking': 11337, 'uni': 10870, 'depressed': 6068, 'sittin': 9925, 'wind': 11229, 'drops': 6282, 'Black': 1275, 'Aiyah': 1034, 'Message': 2842, 'Important': 2379, 'information': 7466, 'O2': 3061, 'onto': 8711, 'httpwwwurawinnercom': 7337, 'surprise': 10363, 'awaiting': 4967, 'hen': 7198, 'online': 8705, 'Italian': 2413, 'grins': 7052, 'smoked': 9990, 'math': 8159, 'sfirst': 9795, 'timedhoni': 10622, 'rocks': 9569, 'teju': 10472, 'hourish': 7307, 'nothis': 8590, 'groundamla': 7059, 'durban': 6313, 'convenience': 5798, 'evaluation': 6466, '449050000301': 624, '09050000301': 180, 'Bored': 1299, 'speed': 10103, 'Try': 4099, 'SPEEDCHAT': 3568, '80155': 800, 'SWAP': 3614, 'chatter': 5540, 'Chat80155': 1478, 'rcd': 9326, 'Cancel': 1447, 'cheyyamoand': 5567, '08000776320': 52, 'Tomorrow': 4075, 'Okok': 3109, 'okthenwhats': 8685, 'Aiyar': 1035, 'survey': 10367, '80160': 801, 'wwwtxt43com': 11400, 'Catching': 1462, 'throws': 10598, 'gal': 6880, 'falls': 6572, 'brothers': 5295, 'whos': 11205, 'gay': 6904, 'HMV1': 2157, 'errors': 6445, 'difficulties': 6133, 'correction': 5824, 'Howz': 2298, 'painhope': 8821, 'tau': 10441, 'sar': 9654, 'piah': 8960, 'Requests': 3454, '1stchoicecouk': 418, 'Information': 2396, '08707808226': 95, 'wearing': 11121, 'Ohas': 3100, 'film': 6656, '150pMsg': 358, 'HGSuite3422LandsRowW1J6HL': 2145, 'LDN': 2577, 'Mine': 2856, 'shades': 9798, 'copied': 5814, 'notified': 8593, 'Luck': 2696, 'marketing': 8140, '84122': 837, '08450542832': 70, 'Babe': 1217, 'Raining': 3407, 'station': 10186, 'tank': 10432, 'girls': 6949, 'virgins': 11009, '4fil': 653, 'sexual': 9793, 'theirs': 10536, 'CUTE': 1423, '69911å£150p': 743, 'sitter': 9924, 'kaitlyn': 7678, 'silent': 9897, 'Something': 3771, 'Hes': 2236, 'adult': 4629, 'Theres': 4027, 'danger': 5957, 'peeps': 8904, 'comment': 5716, 'veggie': 10970, 'plus': 9025, 'neighbors': 8509, 'computerless': 5745, 'Time': 4056, 'balloon': 5005, 'otherwise': 8760, 'Msgs': 2914, 'passThey': 8870, 'silently': 9898, 'Gd': 2047, 'ntswt': 8612, 'drms': 6278, 'Shesil': 3695, 'probably': 9182, 'roommate': 9581, 'WRC': 4317, 'Rally': 3412, 'Oz': 3150, 'Lucozade': 2699, 'Energy': 1798, 'RALLY': 3363, '61200': 719, 'packs': 8813, 'lucozadecoukwrc': 8052, 'itcould': 7561, 'melody': 8215, 'Yay': 4498, 'Horrible': 2286, 'macs': 8084, 'toot': 10702, 'bigger': 5134, 'N': 2930, 'nw': 8627, 'hme': 7250, 'islands': 7550, 'chennai': 5558, 'velachery': 10972, 'flippin': 6715, 'breaking': 5263, 'cstore': 5898, 'Annoying': 1069, 'hangin': 7121, 'mr': 8386, 'makin': 8112, 'alivebetter': 4706, 'lodge': 7968, 'Trust': 4096, 'worrying': 11317, 'appt': 4840, 'shame': 9806, 'quizzes': 9286, 'popcorn': 9061, 'Sex': 3677, 'Jordan': 2481, 'celeb': 5493, 'PocketBabecouk': 3291, 'å£3wk': 11538, '087016248': 81, 'voicemail': 11026, '08719181503': 173, 'moan': 8320, 'thin': 10559, 'faultal': 6602, 'arguments': 4861, 'faultfed': 6603, 'himso': 7234, '2go': 506, 'thanxxx': 10519, 'NEFT': 2938, 'reference': 9400, 'credited': 5877, 'beneficiary': 5110, 'natuition': 8474, 'understanding': 10858, 'store': 10233, 'choice': 5602, 'enter': 6423, 'Weekly': 4364, 'wwwLdewcomsubs161win150ppmx3': 11363, 'appreciated': 4832, 'map': 8131, 'semi': 9756, 'argument': 4860, 'apart': 4808, 'P': 3151, 'subscriber': 10294, 'delivered': 6050, 'OK': 3070, 'EXP': 1765, '30Apr': 544, 'strong': 10258, 'arms': 4869, 'maaaan': 8076, 'His': 2247, 'april': 4841, 'Guessin': 2112, 'walmart': 11070, 'Ilol': 2374, 'personally': 8935, 'wuldnt': 11352, 'mite': 8311, 'creepy': 5880, 'lunchtime': 8055, 'organise': 8749, '08719181513': 174, 'Damn': 1633, 'Kkim': 2547, 'finewhen': 6671, 'complete': 5732, 'passable': 8871, 'score': 9696, 'phd': 8945, '5years': 712, 'easier': 6334, 'NOK': 2960, '87021': 856, 'txtin': 10819, '150ptone': 374, '4info': 658, 'Prakesh': 3308, 'Teach': 3981, 'apps': 4839, 'Rofl': 3470, 'betta': 5118, 'invest': 7517, 'anti': 4789, 'aging': 4668, 'products': 9197, '1hr': 412, 'delay': 6044, 'RECEIVE': 3376, 'BY': 1213, 'POST': 3202, 'accommodation': 4578, 'various': 10961, 'global': 6962, 'wwwphb1com': 11386, 'ph08700435505150p': 8943, 'submitting': 10290, 'ENTER': 1746, '84128': 838, 'wwwtextcompcom': 11396, 'cust': 5919, '08712405020': 116, 'Ull': 4164, '1s': 415, 'snatch': 10004, 'purse': 9255, 'Hellodrivby0quit': 2224, 'edrunk': 6351, 'iff': 7406, 'pthis': 9234, 'senrddnot': 9762, 'dancce': 5951, 'drum': 6288, 'basqihave': 5032, '2nhite': 520, 'ros': 9584, 'xxxxxxx': 11419, 'morn': 8361, 'relieved': 9430, 'westonzoyland': 11172, 'greatness': 7044, 'europe': 6465, 'Nobody': 3022, 'Chinese': 1488, 'docs': 6196, 'songs': 10049, 'king': 7734, 'havin': 7154, 'goin2bed': 6983, 'Only1more': 3122, 'mc': 8178, 'HUN': 2176, 'NOT': 2964, '2NITETELL': 490, 'EVERY1': 1758, 'SORRY': 3560, 'AVA': 982, 'GOODTIMEOLI': 2018, 'RANG': 3365, 'MELNITE': 2734, 'IFINK': 2318, 'MITE': 2754, 'SORTEDBUT': 3561, 'EXPLAIN': 1766, 'EVERYTHIN': 1759, 'MONL8RSx': 2766, '08712402779': 112, 'flip': 6714, 'shun': 9877, 'bian': 5129, 'glass': 6960, 'exhibition': 6515, 'nino': 8548, 'himself': 7233, 'chikkugoing': 5581, 'cbe': 5487, 'Honey': 2280, 'boo': 5208, 'JD': 2438, 'Accounts': 1002, 'Executive': 1835, 'parents': 8850, 'picked': 8964, 'downstem': 6250, 'Hungry': 2304, '08718730555': 165, 'wahala': 11047, 'inperialmusic': 7484, 'listening2the': 7942, 'weirdest': 11151, 'byåÓleafcutter': 5361, 'johnåÓsounds': 7635, 'insects': 7486, 'molestedsomeone': 8337, 'plumbingremixed': 9023, 'evil': 6490, 'acid': 4591, 'didntgive': 6117, 'bellearlier': 5099, 'hunny': 7359, 'SERIOUSLY': 3510, 'TELL': 3900, 'HER': 2142, 'THOSE': 3933, 'EXACT': 1761, 'WORDS': 4306, 'RIGHT': 3390, '09096102316': 282, '2moro': 511, 'JANE': 2434, 'Callså£1minmoremobsEMSPOBox45PO139WA': 1440, 'Tee': 3986, 'hee': 7183, 'Off': 3096, 'cheery': 5554, 'cell': 5497, 'thts': 10603, 'dough': 6244, 'control': 5797, '80488biz': 805, 'Wot': 4434, 'weirdo': 11152, 'mode': 8328, 'depends': 6065, 'stalk': 10160, 'profiles': 9201, 'Jerry': 2466, 'Person': 3245, 'Who': 4394, 'Irritates': 2407, 'Always': 1056, 'Vry': 4247, 'Much': 2915, 'Fails': 1901, 'Express': 1841, 'gud': 7072, 'drinkin': 6269, 'wondering': 11288, 'others': 8759, 'dog': 6206, 'Must': 2923, 'HeyGreat': 2238, 'dealFarm': 5998, 'tour': 10727, '9am': 913, '5pm': 708, '95pax': 906, 'deposit': 6066, 'Eat': 1776, 'jap': 7601, 'disappeared': 6160, 'birthdate': 5150, 'certificate': 5504, 'publish': 9238, 'dreams': 6262, 'nydc': 8630, 'wheellock': 11185, 'SAID': 3489, 'EAT': 1736, 'SHIT': 3519, 'destination': 6084, 'Fifty': 1915, 'favour': 6608, 'settling': 9787, 'happenin': 7128, 'ola': 8687, 'Those': 4042, 'cocksuckers': 5675, 'ipads': 7532, 'worthless': 11322, 'garbage': 6894, 'novelty': 8597, 'items': 7562, 'tshirt': 10790, 'FRAN': 1874, 'DECIDED': 1590, 'WAY': 4263, 'COMPLETELY': 1403, 'BROKE': 1201, 'KNACKERED': 2505, 'BOUT': 1184, '2MRW': 488, 'JANX': 2436, 'PS': 3213, 'THIS': 3930, 'DADS': 1577, 'FONE': 1872, 'CREDIT': 1414, 'Designation': 1664, 'software': 10019, 'developer': 6094, 'jamster': 7595, 'videosound': 10993, 'gold': 6985, 'club': 5660, 'videosounds2': 10994, 'logosmusicnews': 7978, 'jamstercouk': 7596, '16only': 384, '09701213186': 290, 'Lions': 2657, 'lionm': 7931, 'mono': 8351, 'lionp': 7932, 'wwwringtonescouk': 11389, 'original': 8751, '3GBP': 573, 'jokin': 7645, 'careful': 5444, 'spirit': 10116, 'bb': 5045, 'shattered': 9813, 'alrite': 4724, 'idiot': 7401, 'bak': 5000, 'girlie': 6948, 'colours': 5700, 'darker': 5963, 'styling': 10284, 'Whenevr': 4385, 'gray': 7037, 'Remembr': 3445, 'listn': 7943, 'watevr': 11106, 'whileamp': 11197, '‰ÛÏHarry': 11569, 'Potter': 3303, 'Phoenix': 3257, 'HARRY': 2126, 'among': 4742, 'readers': 9340, 'shd': 9815, 'minus': 8287, 'paragraphs': 8843, 'coveragd': 5856, 'vasai': 10964, '4o': 660, 'retard': 9520, 'bathroom': 5039, 'sang': 9651, 'Uptown': 4192, 'Girl': 2064, '80s': 809, 'ANSWER': 962, 'luck': 8049, 'february': 6616, 'rush': 9616, 'jay': 7604, 'Nite': 3016, 'Icic': 2367, 'Syria': 3877, 'Canada': 1445, 'heartsnot': 7176, 'cares': 5449, 'GOODNOON': 2017, 'Sweet': 3871, 'gauge': 6901, 'pattys': 8886, 'interest': 7502, 'mondaynxt': 8344, 'vl': 11021, 'completing': 5736, 'Might': 2849, 'ax': 4974, 'chill': 5592, '6hrs': 753, 'surgical': 10361, 'emergency': 6396, 'unfolds': 10865, 'Crazy': 1551, 'married': 8145, 'frens': 6812, 'korean': 7766, 'leonas': 7873, 'Fredericksburg': 1950, 'pases': 8868, 'buen': 5316, 'tiempo': 10612, 'Xavier': 4459, 'chillin': 5594, 'super': 10340, 'FREE2DAY': 1877, 'St': 3812, 'Georges': 2055, 'JordanTxt': 2482, 'PIC': 3169, '89080': 880, 'saucy': 9669, 'celeb4': 5494, '0870241182716': 84, 'Bugis': 1336, 'tmrw': 10649, 'Heart': 2215, 'Compass': 1521, 'Soul': 3782, 'Guide': 2113, 'worldgnun': 11309, 'Sent': 3667, 'WAY2SMSCOM': 4264, 'Goodnight': 2083, 'Baaaaabe': 1216, 'misss': 8304, 'youuuuu': 11479, 'ned': 8495, 'convince': 5804, 'tht': 10602, 'witot': 11259, 'hurting': 7367, 'main': 8106, 'sweetie': 10382, 'blackberry': 5161, 'buyer': 5351, 'melike': 8214, '4a': 649, 'pple': 9101, 'marry': 8146, 'becz': 5070, 'undrstndng': 10862, 'avoids': 4965, 'problems': 9188, 'chain': 5507, 'suffer': 10311, 'whn': 11201, 'arrested': 4876, 'Shuhui': 3715, 'suntec': 10338, 'steamboat': 10199, 'dance': 5952, 'moji': 8335, 'forgive': 6767, 'yahoo': 11424, 'messenger': 8251, 'reaching': 9336, 'tp': 10731, 'HOT': 2166, 'LIVE': 2591, 'FANTASIES': 1849, '08707509020': 93, '20p': 435, '1327': 343, 'Croydon': 1554, 'CR9': 1412, '5WB': 698, '0870k': 100, 'Bbq': 1234, '6ish': 754, 'everyso': 6485, 'often': 8672, 'panicks': 8830, 'outhave': 8775, 'fill': 6652, 'bar': 5016, 'write': 11334, 'Put': 3343, 'Dictionary': 1673, '3Cover': 570, 'screen': 9707, '4Press': 645, '5Gently': 693, 'Bears': 1240, 'Pic': 3260, 'Nick': 3006, 'Tom': 4073, 'Dick': 1672, 'fact': 6552, 'types': 10827, 'upload': 10899, '08718730666': 166, 'Auntie': 1114, 'huai': 7339, 'juan': 7657, 'Linerental': 2655, 'call2optoutLF56': 5385, 'tlk': 10645, 'ideal': 7398, 'path': 8881, 'appear': 4820, 'front': 6841, 'paths': 8882, 'walking': 11063, 'arm': 4865, 'shot': 9854, 'reserve': 9486, 'thirunelvali': 10570, 'tirunelvali': 10636, 'sunday': 10331, 'evei': 6470, 'netno': 8515, 'availablei': 4953, 'tackle': 10407, 'Storming': 3831, 'phne': 8949, 'HELLO': 2138, 'wt': 11344, 'meaning': 8189, 'Margaret': 2818, 'girlfrnd': 6947, 'f': 6545, 'Grahmbell': 2094, 'invnted': 7523, 'telphone': 10479, 'MoralOne': 2898, '4get': 654, 'popped': 9062, 'tonght': 10686, 'ploughing': 9019, 'pile': 8976, 'ironing': 7537, 'Staying': 3821, 'chinky': 5598, 'ki': 7717, 'wi': 11209, 'nz': 8632, 'players': 9006, 'unsold': 10886, 'muz': 8437, 'effect': 6360, 'Geelater': 2052, 'aust': 4946, 'bk': 5158, 'cafe': 5367, 'recharged': 9381, 'kidding': 7723, 'papa': 8835, 'shld': 9836, 'stretch': 10251, 'detailed': 6087, 'Sinco': 3727, 'Payee': 3236, 'Log': 2668, 'icicibankcom': 7391, 'URN': 4150, 'Beware': 1264, 'frauds': 6798, 'share': 9810, 'disclose': 6166, 'vote': 11031, 'caring': 5452, 'losers': 8001, 'Kaiez': 2510, 'tuition': 10799, 'Gee': 2049, 'option': 8735, 'beta': 5117, 'practicing': 9110, 'babies': 4984, 'Kkany': 2540, 'IMPORTANT': 2331, 'INFORMATION': 2339, 'FOR': 1873, 'USER': 4154, 'LUCKY': 2615, 'WHY': 4286, 'LOG': 2596, 'ONTO': 3079, 'HTTPWWWURAWINNERCOM': 2174, 'THERE': 3924, 'FANTASTIC': 1850, 'SURPRISE': 3609, 'AWAITING': 985, 'noncomittal': 8568, 'beneath': 5109, 'pale': 8825, 'moon': 8359, 'goodnite': 7001, '150pMsgrcvdHGSuite3422LandsRowW1J6HL': 359, 'snickering': 10006, 'tells': 10477, 'totally': 10721, 'chords': 5607, 'Nofew': 3024, 'beforewent': 5084, 'rem': 9434, 'silver': 9900, 'black': 5159, 'Lmao': 2663, 'Speak': 3789, 'silence': 9896, 'wwwLdewcom': 11360, 'win150ppmx3age16': 11228, 'THING': 3928, 'THANX': 3913, 'EXAMS': 1762, 'MARCH': 2722, 'IVE': 2361, 'REVISION': 3386, 'STILL': 3587, 'BOYF': 1194, 'GOTTA': 2024, 'INTERVIW': 2345, 'EXETER': 1763, 'BIT': 1172, 'WORRIEDx': 4309, 'spreadsheet': 10138, 'whose': 11206, 'determine': 6090, 'entire': 6429, 'sale': 9636, 'arsenal': 4880, 'dartboard': 5971, 'condition': 5755, 'doubles': 6241, 'trebles': 10764, 'building': 5321, 'coat': 5670, 'hurry': 7365, 'painful': 8820, 'everybody': 6479, 'nobody': 8558, 'recognises': 9385, 'alone': 4717, 've': 10967, 'wisheds': 11246, 'intrepid': 7513, 'duo': 6312, 'sen': 9758, 'missin': 8300, 'guilty': 7081, 'Aiya': 1033, 'Arms': 1092, 'Cardiff': 1452, 'addie': 4610, 'tues': 10796, 'wed': 11131, 'breeze': 5269, 'Bright': 1321, 'Fresh': 1959, 'flower': 6724, 'Twittering': 4118, 'GOODMORNING': 2014, 'Yagoing': 4491, 'restaurant': 9508, 'TEXTPOD': 3908, 'POD': 3192, 'wwwtextpodnet': 11397, 'ducking': 6300, 'chinchillas': 5596, 'function': 6860, 'headstart': 7163, '230ish': 446, 'desperate': 6081, 'earlierwe': 6326, 'rummer': 9609, 'flying': 6732, 'monkeys': 8350, 'certainly': 5503, 'don‰Û÷t': 6231, 'optin': 8734, 'BBC': 1144, 'charts': 5534, 'thanks2': 10516, 'rajini': 9304, 'practical': 9108, 'june': 7665, 'Stupidits': 3841, 'Summers': 3857, 'MATCHED': 2727, 'SUMMER': 3604, 'OptOut': 3132, 'Help08714742804': 2228, 'spys': 10142, 'mails': 8105, 'CLAIRE': 1393, '2nite': 522, '09099725823': 283, 'Bought': 1302, 'costing': 5832, 'offering': 8659, 'Yalru': 4493, 'lyfu': 8066, 'astne': 4911, 'innu': 7482, 'mundhe': 8422, 'lyf': 8065, 'ali': 4702, 'halla': 7107, 'ke': 7698, 'bilo': 5142, 'marriageprogram': 8144, 'edhae': 6349, 'ovr': 8791, 'chikkuali': 5580, 'vargu': 10960, 'meow': 8234, 'meowD': 8235, 'Kinda': 2534, 'twelve': 10812, 'Aah': 988, '09066362231': 260, '07xxxxxxxxx': 49, 'bonus': 5207, 'caller': 5394, '020603': 8, 'ASAP': 974, 'Later': 2630, 'prone': 9217, 'Lucky': 2698, '07801543489': 37, 'latests': 7827, 'wordCOLLECT': 11296, 'No83355': 3019, 'TCLLC': 3893, 'NYUSA': 2975, '150pMt': 360, 'msgrcvd18': 8393, 'permission': 8927, 'LUCY': 2616, 'Hubby': 2300, 'meetins': 8204, 'Fri': 1960, 'cumin': 5908, '09099726395': 284, 'Lucy': 2700, 'Callså£1minMobsmoreLKPOBOX177HP51FL': 1439, 'wonders': 11289, '7th': 791, '6th': 759, '5th': 709, '4th': 663, 'Personality': 3246, 'Nature': 2986, 'Friendship': 1963, 'dose': 6236, 'tablet': 10405, 'REAL': 3368, 'Valentine': 4219, 'incomm': 7447, 'blakes': 5163, 'March': 2816, 'Waitshould': 4333, 'lotr': 8008, 'w': 11041, 'keeping': 7701, 'google': 7005, 'maps': 8133, 'tiring': 10634, 'Uni': 4175, 'modules': 8333, 'concentrating': 5750, 'welp': 11160, 'browsin': 5302, 'compulsory': 5742, 'Purity': 3340, 'smiling': 9988, 'messageIts': 8243, 'musthu': 8433, 'investigate': 7518, '80488': 804, 'www80488biz': 11356, 'vomit': 11028, 'moneYas': 8345, 'youmoney': 11468, 'thinghow': 10561, 'sha': 9797, 'vitamin': 11018, 'Anyone': 1072, 'centre': 5500, 'crucial': 5891, 'someones': 10031, 'JSco': 2443, '2channel': 501, 'leadership': 7842, 'skills': 9934, 'Psychic': 3336, 'ANS': 961, 'wquestion': 11330, 'JSCO': 2442, 'Hostbased': 2289, 'IDPS': 2316, 'linux': 7929, 'systems': 10400, '0870': 74, 'dawhats': 5981, 'Total': 4082, 'converter': 5801, 'Vote': 4244, 'along': 4718, 'stars': 10172, 'Karaoke': 2514, 'SING': 3530, 'testing': 10496, 'sayy': 9680, 'loved': 8022, 'except': 6502, 'nit': 8550, 'Peteis': 3249, 'Jenny': 2462, 'Leannewhat': 2638, 'eight': 6372, 'file': 6650, 'format': 6775, 'disc': 6165, 'internet': 7507, 'prey': 9156, 'champ': 5510, 'glasgow': 6959, 'Kall': 2511, 'bestcongrats': 5114, 'lovin': 8029, 'arrive': 4878, 'shortly': 9852, 'install': 7491, 'browse': 5300, 'artists': 4882, 'corect': 5819, 'speling': 10105, 'Sarcasm': 3635, '10803': 305, '08714719523': 131, 'BT': 1204, 'forum': 6782, 'ron': 9577, 'darren': 5970, 'Hicts': 2241, 'employee': 6399, 'aunt': 4941, 'nike': 8546, 'sooo': 10055, 'screaming': 9706, 'shouting': 9860, 'dang': 5956, 'Unfortunately': 4174, 'airport': 4686, 'Remember': 3442, '7250i': 765, 'auction': 4936, '86021': 850, 'RowW1JHL': 3476, 'Fingers': 1924, 'Makes': 2806, 'difficult': 6132, 'Midnight': 2848, 'earliest': 6327, 'nordstrom': 8574, 'konw': 7764, 'waht': 11051, 'rael': 9294, 'FRIENDSHIP': 1887, 'gving': 7088, 'yuo': 11492, 'exmpel': 6517, 'Jsut': 2488, 'tihs': 10616, 'Evrey': 1828, 'splleing': 10122, 'wrnog': 11339, 'sitll': 9923, 'raed': 9293, 'wihtuot': 11219, 'ayn': 4975, 'mitsake': 8312, 'GOODNIGHT': 2015, 'SLEEPSWEET': 3540, 'DREAMS': 1621, 'conference': 5760, 'wwworangecoukow': 11385, 'degree': 6039, 'joining': 7640, 'finance': 6663, 'prospects': 9226, 'bleak': 5170, 'hmmm': 7252, 'filled': 6653, 'Shant': 3689, 'Jia': 2470, 'Bishan': 1271, 'nearer': 8487, 'sux': 10370, 'raiden': 9297, 'buff': 5317, 'south': 10079, 'preferably': 9129, 'kegger': 7703, 'totes': 10722, 'pierre': 8973, 'cardin': 5438, 'costs': 5833, 'rhythm': 9535, 'establish': 6459, 'Truro': 4095, 'Hospital': 2287, 'ext': 6536, 'Single': 3729, 'gas': 6898, 'gang': 6890, 'nature': 8476, 'adventure': 4632, 'Dnt': 1696, 'worryuse': 11318, 'ice': 7390, 'cloth': 5656, 'packalso': 8811, 'tablets': 10406, 'sunroof': 10336, 'Sux': 3869, 'excellent': 6501, 'sub': 10286, 'Tmrw': 4063, 'finishing': 6677, 'doors': 6234, 'wifi': 11218, '3g': 587, 'blanked': 5166, 'image': 7416, 'Noi': 3026, 'rumour': 9610, 'Near': 2987, 'kalainar': 7680, 'officethenampet': 8664, 'AUCTION': 979, 'BRAND': 1196, '7250': 764, 'Auction': 1110, 'catching': 5479, 'nosy': 8583, 'Idk': 2371, 'reacting': 9337, 'freaked': 6800, 'whom': 11204, 'satanic': 9661, 'imposter': 7431, 'meneed': 8225, 'priceso': 9159, 'itmay': 7568, 'destiny': 6085, 'Companion': 1519, 'Chef': 1484, 'listener': 7940, 'Organizer': 3140, 'boyfriend': 5246, 'Very': 4230, 'Sympathetic': 3876, 'Athletic': 1106, 'Warm': 4343, 'Courageous': 1543, 'Determined': 1666, 'Dependable': 1661, 'Intelligent': 2400, 'Psychologist': 3337, 'Pest': 3247, 'exterminator': 6537, 'Psychiatrist': 3335, 'Healer': 2213, 'Stylist': 3843, 'Driver': 1726, 'Aaniye': 989, 'pudunga': 9240, 'venaam': 10973, 'brothas': 5293, 'chasing': 5536, 'chez': 5568, 'jules': 7660, 'Hhahhaahahah': 2239, 'rofl': 9570, 'wtf': 11346, 'nig': 8535, 'leonardo': 7872, 'dereks': 6073, 'Sunday': 3859, 'lt3': 8041, 'kicks': 7721, 'john': 7634, '2years': 533, 'strain': 10241, 'dime': 6139, 'transfer': 10744, 'withdraw': 11254, 'anyhow': 4794, 'falling': 6571, 'bcoz': 5050, 'force': 6758, 'smeone': 9983, 'millers': 8266, 'soul': 10072, 'fire': 6680, 'spark': 10089, 'flame': 6702, 'rawring': 9322, 'XoXo': 4461, 'Somewhr': 3773, 'surely': 10358, 'crushes': 5894, 'honeymoon': 7277, 'outfit': 8772, 'propose': 9223, '08719899230': 178, 'blame': 5164, 'Bad': 1222, 'Gods': 2074, 'blessings': 5176, 'cheque': 5561, 'Registered': 3441, 'olympics': 8694, 'leo': 7870, 'Kthen': 2558, 'patty': 8885, 'donewant': 6226, 'haul': 7146, 'wildlife': 11223, 'want2come': 11077, 'that2worzels': 10521, 'wizzle': 11262, 'dippeditinaDEW': 6150, 'lovingly': 8031, 'itwhichturnedinto': 7574, 'gifted': 6941, 'tomeandsaidTHIS': 10676, 'shanghai': 9808, 'instead': 7495, 'cya': 5931, 'freezing': 6809, '645': 727, 'RTKIng': 3400, 'Pro': 3325, 'inforingtonekingcouk': 7464, '08701237397': 77, 'redeemable': 9395, 'wwwringtonekingcouk': 11388, 'Thnx': 4040, 'sef': 9741, 'dey': 6097, 'anjie': 4767, 'btw': 5310, 'batch': 5034, 'fring': 6827, 'oz': 8805, 'flaky': 6701, 'sooooo': 10057, 'Living': 2661, 'simple': 9903, 'Loving': 2690, 'Laughing': 2634, 'Winning': 4409, 'tooo': 10700, 'SIMPLE': 3529, 'nte': 8611, '09058094599': 205, 'confuses': 5769, 'doesn‰Û÷t': 6205, 'Wating': 4353, '250': 456, 'British': 1325, 'hotels': 7305, 'Worth': 4433, 'London': 2673, '02072069400': 11, 'Bx': 1346, '526': 684, 'SW73SS': 3612, 'talents': 10423, '6pm': 757, 'Xy': 4464, 'animal': 4765, 'buzz': 5355, 'Reminding': 3449, 'adoring': 4625, 'Yesterday': 4518, 'Eerie': 1783, '4u': 668, 'TITLE': 3936, 'DRACULA': 1619, 'Titles': 4059, 'GHOST': 1993, 'ADDAMSFA': 931, 'MUNSTERS': 2789, 'EXORCIST': 1764, 'TWILIGHT': 3964, 'brought': 5297, 'Shiny': 3701, 'warming': 11083, 'Putting': 3344, 'constant': 5783, 'Making': 2807, 'cared': 5442, 'wasnt': 11091, 'surprised': 10364, 'french': 6811, 'fooled': 6750, '0ANETWORKS': 291, 'allow': 4712, 'companies': 5722, 'responsible': 9504, 'suppliers': 10346, 'comedycant': 5706, 'laughing': 7830, 'FreeMsgFeelin': 1955, 'lnly': 7957, 'Jst': 2486, 'moby': 8327, 'picTxt': 8962, '82242': 815, 'Msg150p': 2913, '2rcv': 526, 'Hlp': 2253, '08712317606': 107, 'keen': 7699, 'Sleeping': 3746, 'SWITCH': 3617, 'DAMMIT': 1578, 'Thts': 4046, 'Wright': 4438, 'fly': 6730, 'Evening': 1817, 'somewhat': 10042, 'event': 6474, 'laden': 7784, 'Head': 2210, 'wrecked': 11331, 'six': 9930, 'spontaneously': 10130, 'GOODEVENING': 2012, 'LAPTOP': 2571, 'bagi': 4997, 'lei': 7865, 'ACTION': 927, '80608': 806, 'wwwmovietriviatv': 11383, '08712405022': 117, 'waking': 11057, 'Sif': 3720, 'partnership': 8864, 'RGENT': 3389, 'Bec': 1243, 'lookin': 7991, 'daytime': 5993, 'busty': 5343, 'woman': 11280, '09099726429': 285, 'JANINExx': 2435, 'mostly': 8368, 'inside': 7488, 'spageddies': 10085, 'phasing': 8944, 'fourth': 6790, 'dimension': 6140, 'Yesbut': 4509, 'meaningful': 8190, 'compromised': 5741, 'Lmaonice': 2664, '09050001295': 186, 'A21': 921, 'Monthly': 2892, 'mobsicom': 8326, '391784': 568, 'Use': 4198, 'dub': 6298, 'je': 7610, 'Painful': 3222, 'toughest': 10726, 'Earth': 1772, 'å£6': 11551, 'ideas': 7399, 'sight': 9888, 'remain': 9435, 'Maintain': 2804, 'Shjas': 3704, 'MOST': 2773, 'LIKELY': 2584, 'TO': 3938, 'BE': 1154, 'BED': 1156, 'ABOUT': 922, 'TONIGHT': 3948, 'REALLY': 3372, 'SEE': 3501, 'TOMORROW': 3942, 'Already': 1051, 'squatting': 10144, 'Cramps': 1550, 'vodafone': 11023, '0089my': 2, 'digits': 6137, 'received': 9373, '09063442151': 233, 'ringtoneget': 9549, 'freesend': 6808, '816183': 814, 'weekstop': 11145, 'sms08718727870': 9996, 'Nan': 2979, 'sonathaya': 10047, 'soladha': 10022, 'cd': 5490, 'don': 6223, 'raping': 9316, 'dudes': 6302, 'poker': 9038, 'Weightloss': 4365, 'Finish': 1925, 'mushy': 8429, 'embarrassed': 6394, 'stash': 10182, 'ran': 9309, 'priya': 9176, 'ordered': 8745, '81303': 812, 'father': 6597, 'messy': 8252, 'kilos': 7729, 'accidant': 4575, 'tookplace': 10698, 'ghodbandar': 6937, 'rd': 9329, 'Traffic': 4088, 'moves': 8380, 'slovely': 9966, 'slip': 9960, 'ahnow': 4675, 'wkg': 11266, 'wherebtw': 11191, 'nus': 8623, 'sc': 9681, 'specialise': 10097, 'wad': 11045, 'likes': 7912, 'dislikes': 6173, 'keeps': 7702, 'Queen': 3351, 'ache': 4589, 'desparately': 6080, 'fren': 6810, 'promises': 9213, 'gotten': 7013, 'stereo': 10204, 'under': 10855, 'unknown': 10879, 'album': 4692, 'Hard': 2199, '121': 329, '60pmin': 718, 'Choose': 1491, 'connect': 5771, '09094646899': 280, 'Cheap': 1479, 'VU': 4218, 'BCM1896WC1N3XX': 1150, 'Asking': 1102, 'classmates': 5632, 'firesAre': 6684, 'WOW': 4316, 'Boys': 1312, 'Back': 1221, '2007': 431, 'Tour': 4084, 'Tickets': 4052, 'prebook': 9123, 'Trackmarque': 4086, 'infovipclub4u': 7470, 'missionary': 8302, 'hook': 7281, 'doggy': 6210, 'standing': 10166, 'entertaining': 6427, 'hugh': 7346, 'laurie': 7833, 'stick': 10211, 'indeed': 7453, 'praps': 9116, 'Jon': 2479, 'bin': 5144, 'Spain': 3787, 'sum': 10323, 'dinero': 6144, 'Bill': 1266, 'åÔrents': 11565, '12000pes': 327, 'å£48': 11541, 'tb': 10450, 'James': 2450, 'ALRITE': 952, 'HUNNYWOT': 2180, '2NITE': 489, 'DIDNT': 1596, 'GOIN': 2006, 'DOWN': 1616, 'TOWN': 3955, 'JUS': 2445, 'DA': 1575, 'PUB': 3216, 'INSTEAD': 2342, 'CHILLIN': 1387, 'MO': 2759, 'BEDROOMLOVE': 1157, 'JEN': 2439, 'Maangalyam': 2795, 'Alaipayuthe': 1040, 'Doing': 1704, 'complaining': 5729, 'Mandy': 2813, 'Sullivan': 3855, 'HOTMIX': 2167, 'FMyou': 1871, 'chosen': 5609, 'å£500000': 11546, 'Easter': 1774, 'drawPlease': 6257, 'telephone': 10474, '09041940223': 179, '290305': 473, 'transferred': 10747, 'finns': 6679, 'di': 6103, 'GOING': 2007, 'BAHAMAS': 1136, 'CallFREEFONE': 1431, '08081560665': 64, 'Bahamas': 1224, 'cruise': 5892, 'ofå£2000': 8673, '18only': 391, '07786200117': 34, 'EY': 1769, 'CALM': 1357, 'DOWNON': 1617, 'THEACUSATIONS': 3921, 'ITXT': 2358, 'COS': 1409, 'IWANA': 2362, 'WOTU': 4313, 'DOIN': 1609, 'THEWEND': 3927, 'HAVENTCN': 2132, 'AGESRING': 941, 'UP4': 4141, 'NETHING': 2940, 'SATLOVE': 3494, 'dine': 6142, 'conacted': 5748, 'youTo': 11458, '09111030116': 288, 'PoBox12n146tf15': 3285, 'IåÕm': 2425, 'vtired': 11040, 'doin': 6213, 'social': 10016, 'inspection': 7489, 'nursery': 8621, 'spk': 10118, 'sn': 10001, 'detailsi': 6089, 'youmy': 11469, 'Feel': 1910, 'Slowly': 3751, 'Becomes': 1247, 'Habit': 2181, 'Part': 3230, 'Follow': 1934, 'LATE': 2573, 'MUM': 2787, 'itmail': 7567, 'panren': 8831, 'paru': 8867, 'chuckin': 5615, 'red': 9394, 'trainners': 10738, 'carryin': 5460, 'bac': 4989, 'schedule': 9690, 'gooddhanush': 6995, 'needing': 8500, 'stuck': 10265, 'chikkusimple': 5584, 'habbahw': 7092, 'Dileepthank': 1678, 'muchand': 8408, 'supportvery': 10352, 'contacts': 5787, 'hereremember': 7205, 'venugopal': 10974, 'mentionedtomorrow': 8229, 'latei': 7821, 'theregoodnight': 10547, 'Remembrs': 3446, 'Forgets': 1943, 'Remembered': 3444, 'Everytime': 1825, 'Joys': 2485, 'John': 2472, 'Mandan': 2812, '07734396839': 30, 'IBH': 2311, 'NOKIA6600': 2962, 'TXTAUCTIONTxt': 3967, 'wordSTART': 11297, 'No81151': 3018, 'Yours': 4528, 'Now4T': 3049, 'regarding': 9413, '3230': 554, 'textbook': 10501, 'algorithms': 4701, 'edition': 6350, 'selling': 9752, 'buns': 5328, 'adore': 4624, 'Facebook': 1900, 'Buy': 1343, 'Space': 3786, 'Invaders': 2403, 'orig': 8750, 'Arcade': 1086, 'Game': 2039, 'console': 5782, '0': 0, 'o2coukgames': 8634, 'settings': 9784, 'BIG': 1167, 'BROTHER': 1202, 'ALERT': 948, '10k': 310, '09064018838': 242, 'CRO1327': 1416, 'Atlanta': 1107, 'recharge': 9379, 'created': 5873, 'fills': 6655, 'gaps': 6892, 'holding': 7259, 'Yessura': 4516, 'tvlol': 10810, 'Arun': 1097, 'transfr': 10748, 'Takin': 3974, 'philosophy': 8948, '4ui': 670, 'didnåÕt': 6118, 'intend': 7499, 'IwasmarinethatåÕs': 2422, 'itried2tell': 7571, 'urmomi': 10916, 'careabout': 5441, 'Foley': 1933, 'exciting': 6505, 'prizes': 9179, 'eye': 6542, 'wwwwin82050couk': 11403, 'desparate': 6079, 'learned': 7847, 'fake': 6564, 'answering': 4785, 'Air': 1031, 'Force': 1940, 'Iraq': 2405, 'afghanistan': 4645, 'stable': 10153, 'honest': 7274, 'traveling': 10754, 'blessget': 5174, '1225': 330, 'å£50award': 11547, '3100': 549, 'pai': 8817, 'seh': 9742, 'Scared': 3646, 'beer': 5079, 'combine': 5703, 'parts': 8865, 'Getting': 2059, 'walsall': 11071, 'tue': 10795, 'Terry': 3998, 'JESS': 2440, 'DONT': 1612, 'WHEN': 4279, 'CAN': 1360, 'Sian': 3718, 'ccna': 5489, 'shrek': 9871, '3DB': 571, 'dirty': 6157, 'fellow': 6627, 'somethings': 10037, 'dying': 6321, 'lifting': 7904, 'Teresa': 3995, 'package': 8810, 'dec': 6015, 'yould': 11466, 'Bam': 1227, 'aid': 4680, 'Usmle': 4201, 'Squishy': 3807, 'Mwahs': 2926, 'Hottest': 2292, 'Wet': 4375, 'Wanting': 4341, 'PICS': 3171, 'textoperator': 10505, 'g696ga': 6875, 'Starts': 3818, 'prominent': 9210, 'mark': 8138, 'cheek': 5552, 'september': 9773, 'husband': 7369, 'Hack': 2182, 'backdoor': 4992, 'fraction': 6796, 'NEO69': 2939, '09050280520': 192, 'subscribe': 10292, 'DPS': 1618, 'Bcm': 1236, '8027': 803, 'wc1n3xx': 11114, 'norm': 8575, '415': 608, 'list': 7937, 'Joanna': 2471, 'comingdown': 5713, 'Super': 3863, 'dagood': 5943, 'replacement': 9464, 'murali': 8423, 'playerwhy': 9007, 'sts': 10263, 'engalnd': 6413, 'telly': 10478, 'mia': 8257, 'elliot': 6386, 'kissing': 7741, 'upto': 10907, '12mths': 338, '12price': 339, 'linerental': 7922, 'xnet': 11412, 'mins100txtmth': 8283, 'Btooth': 1333, 'Mobileupd8': 2881, '08001950382': 56, '2optoutD3WV': 524, 'wiproyou': 11242, 'matric': 8163, '850': 843, 'Toa': 4067, 'payoh': 8895, '650': 729, 'Pound': 3304, '08718726970': 157, 'BTnationalrate': 1207, 'payments': 8894, 'fedex': 6617, 'india': 7455, 'Kyou': 2561, 'reception': 9377, 'slowly': 9970, 'GODI': 2005, 'NEED': 2936, 'YOUCLEAN': 4484, 'HEART': 2136, 'BLOODSend': 1175, 'Ten': 3991, 'itplspls': 7570, 'hate': 7145, 'annoying': 4776, 'consensus': 5776, 'entertain': 6426, 'Youd': 4523, 'delete': 6046, 'tag': 10411, 'wednesday': 11134, 'skype': 9942, 'laundry': 7832, 'underwear': 10860, 'bras': 5256, 'strewn': 10252, 'pillows': 8977, 'waheed': 11049, 'fathima': 6598, 'Mmmm': 2869, 'fair': 6562, 'weaknesses': 11118, 'pushes': 9257, 'knees': 7747, 'exposes': 6533, 'pulls': 9243, 'wicked': 11210, 'sh': 9796, 'readyall': 9344, 'Mom': 2886, 'supports': 10351, 'srt': 10149, 'thnk': 10576, 'ps3': 9233, 'jontin': 7649, 'prizeTo': 9178, 'nearly': 8488, 'banned': 5013, 'uk': 10837, 'pen': 8907, 'beyond': 5123, 'Wont': 4424, 'Biro': 1269, 'masters': 8154, 'AM': 955, 'PARTY': 3158, '09058094594': 203, 'shell': 9821, 'unconsciously': 10851, 'avoiding': 4964, 'unhappy': 10869, 'excuse': 6506, 'jog': 7632, '0776xxxxxxx': 33, '18yrs': 393, '09061743811': 226, 'ABTA': 924, '326': 556, 'season': 9716, 'knackered': 7746, 'lark': 7814, 'stations': 10187, '09090900040': 277, 'LISTEN': 2588, 'EXTREME': 1768, 'DIRTY': 1599, 'OFFICE': 3065, 'TOTAL': 3953, 'PRIVACY': 3207, 'sic': 9882, 'LISTENING': 2589, '60P': 717, 'MIN': 2744, '247MP': 450, '0870753331018': 94, 'videopic': 10992, 'fones': 6747, 'WILD': 4289, '150prcvd': 372, 'STOP2stop': 3589, 'Uh': 4160, 'heads': 7162, 'lim': 7914, 'mp3': 8385, 'vday': 10966, 'parachute': 8840, 'placed': 8991, 'ipod': 7534, '80182': 802, '08452810073': 72, 'okie': 8682, 'unlimited': 10881, 'Therere': 4026, 'table': 10403, 'lambda': 7794, 'build': 5320, 'snowman': 10011, 'angels': 4763, 'snowball': 10009, 'fights': 6646, 'ELLO': 1739, 'ikea': 7411, 'Becoz': 1248, 'jan': 7597, 'ofice': 8670, 'cn': 5666, 'oficegot': 8671, 'duffer': 6305, 'grr': 7065, 'prescription': 9139, 'Pharmacy': 3255, 'cook': 5807, 'electricity': 6384, '08715500022': 140, 'rpl': 9594, 'cnl': 5667, 'nor': 8572, 'Fffff': 1913, 'kadeem': 7675, 'fujitsu': 6853, 's': 9620, 'lifebook': 7898, 'scold': 9694, 'zhong': 11498, 'qing': 9270, 'act': 4595, '46': 632, 'accordingly': 4582, 'hypertension': 7379, 'mineall': 8276, 'wud': 11349, 'annoyin': 4775, '08702490080': 85, '09066358152': 255, 'prompts': 9216, 'Careful': 1455, 'VPOD': 4217, 'Carry': 1458, 'disturbing': 6181, 'avatar': 4956, 'nigro': 8545, 'scratching': 9703, 'anyplaces': 4798, 'stops': 10230, 'cleaning': 5636, 'upset': 10903, 'priority': 9171, 'constantly': 5784, 'Excellent': 1833, 'ecstasy': 6347, 'dogging': 6209, '09090204448': 276, 'minded': 8273, 'Aå£150': 1124, 'minAPN': 8270, 'LS278BB': 2613, 'flies': 6710, 'hittng': 7247, 'reflex': 9405, 'Costa': 1538, 'Sol': 3764, '09050090044': 191, 'toClaim': 10652, 'POBox334': 3188, 'Stockport': 3827, 'SK38xh': 3536, 'Costå£150pm': 1540, 'Max10mins': 2828, 'Kkwhy': 2553, 'lousy': 8018, 'cat': 5476, '1010': 301, 'woken': 11279, 'hip': 7237, 'yogasana': 11453, 'adewale': 4615, 'Aka': 1037, 'Egbon': 1784, 'minstand': 8284, 'ic': 7388, 'mary': 8147, 'jane': 7599, 'deduct': 6028, 'wrks': 11338, 'j': 7586, 'monkey': 8349, 'asshole': 4905, 'grab': 7022, 'sliding': 9958, 'midnight': 8260, '09065394973': 251, 'payback': 8890, '31': 548, 'Honeybee': 2281, 'Said': 3624, 'Sweetest': 3872, 'Laughed': 2633, 'WaitU': 4330, 'Havnt': 2209, 'Met': 2846, 'Reading': 3424, 'MORAL': 2770, 'GOD': 2004, 'Crack': 1548, 'Jokes': 2475, 'GMGNGEGN': 2001, 'tescos': 10494, 'feathery': 6612, 'bowa': 5237, 'infra': 7472, 'Nvm': 3057, 'gep': 6924, 'ish': 7547, 'Delhi': 1655, 'thinkin': 10566, 'haha': 7098, '2006': 430, 'FIFA': 1856, 'held': 7184, '87239': 863, 'boat': 5198, 'Shhhhh': 3696, 'related': 9422, 'Arul': 1096, 'amk': 4739, '09061743810': 225, 'length': 7867, 'fringe': 6828, 'distract': 6178, 'Santha': 3632, 'corrct': 5822, 'dane': 5955, 'baskets': 5031, 'DARLIN': 1580, 'BACK': 1134, 'HAD': 2120, 'THANKS': 3912, 'MUCH': 2784, 'LIFT': 2582, 'proof': 9218, 'glad': 6957, 'rupaul': 9615, 'TOOL': 3950, '61610': 720, 'help08712400602450p': 7193, 'Provided': 3333, 'tones2youcouk': 10685, 'practising': 9112, 'curtsey': 5918, 'YEH': 4470, 'DEF': 1591, 'SAT': 3493, 'LMAO': 2593, 'memory': 8223, 'mon': 8342, 'Idea': 2369, 'converted': 5800, 'TheMobYo': 4019, 'yoHere': 11451, 'downloads': 6248, 'members': 8218, 'Ssindia': 3810, 'african': 4648, 'soil': 10020, 'major': 8108, 'roles': 9573, 'outreach': 8778, 'mel': 8213, 'Them': 4020, 'raining': 9300, 'birth': 5149, '8lb': 894, '7oz': 788, 'Mother': 2904, 'brilliantly': 5279, 'forwarding': 6786, 'intention': 7500, 'visitors': 11016, 'neva': 8518, 'rules': 9607, 'responsibility': 9503, 'Yet': 4519, 'bend': 5108, 'rule': 9606, 'thia': 10558, 'DOESNT': 1607, 'inlude': 7477, 'previews': 9153, 'News': 3000, 'FREEFONE': 1878, '08006344447': 61, 'Ambrithmaduraimet': 1061, 'arun': 4885, 'dha': 6100, 'marrgeremembr': 8142, 'kitty': 7744, 'shaved': 9814, 'natural': 8475, 'wife': 11215, 'onwards': 8712, 'toa': 10653, 'anybodys': 4793, 'tactful': 10409, 'alex': 4697, 'Music': 2922, 'Vouchers': 4246, 'DRAW': 1620, 'wwwldewcom': 11381, 'SkillGame1Winaweek': 3741, 'age16150ppermessSubscription': 4661, 'theatre': 10534, 'obviously': 8642, 'eggspert': 6369, 'potato': 9089, 'head‰Û': 7164, 'crammed': 5862, 'satsgettin': 9666, '447per': 622, 'lie': 7893, 'apologize': 4815, 'admit': 4622, 'pei': 8906, 'kid': 7722, 'boost': 5216, 'energy': 6410, 'GONNA': 2009, 'subtoitles': 10300, 'sitting': 9926, 'jot': 7650, 'pack': 8809, 'storelike': 10234, 'cereals': 5502, 'gari': 6896, 'infernal': 7461, 'affair': 4639, 'Including': 2382, 'bold2': 5202, 'calicut': 5375, '09094100151': 278, 'cast': 5472, 'provided': 9228, 'AOM': 965, 'GBP5month': 1987, 'Box61M60': 1310, '1ER': 399, 'Ages': 1025, 'thkin': 10574, 'nd': 8483, 'parco': 8847, 'nb': 8482, 'resubbing': 9514, 'shadow': 9799, 'spring': 10140, 'breadstick': 5260, 'Ahmad': 1029, 'Saeed': 3621, 'Hallaq': 2192, '09066362220': 259, 'BOX97N7QP': 1193, 'Pass': 3232, 'Redim': 3434, 'Blueu': 1287, 'Purpleu': 3341, 'realy': 9354, 'Pinku': 3268, 'Orangei': 3136, 'lyk': 8068, 'Greeni': 2099, 'Yelowi': 4505, 'bck': 5049, 'Blackim': 1276, 'jealous': 7611, 'Browni': 1330, 'Nw': 3058, 'giv': 6951, 'color': 5696, 'arranging': 4875, 'eldest': 6382, 'Whos': 4396, 'drugdealer': 6286, 'Sexy': 3678, 'Singles': 3730, 'GENDER': 1989, 'wither': 11255, 'EG23F': 1737, 'eg23G': 6365, 'SleepwellampTake': 3747, 'wondarfull': 11285, 'messagesText': 8249, 'nowUse': 8603, 'web2mobile': 11127, 'Txt250com': 4121, 'BOX139': 1187, 'LA32WU': 2569, 'txtX': 10818, 'ge': 6912, 'normally': 8578, 'hunonbus': 7360, 'donyt': 6229, 'homeBut': 7268, 'latelyxxx': 7823, '85233': 847, 'FREERingtoneReply': 1883, 'mca': 8179, 'aight': 4682, 'Moji': 2884, 'rich': 9537, 'official': 8667, 'flag': 6699, 'yer': 11439, 'FLAG': 1868, '84199': 840, 'ENG': 1742, 'Box39822': 1308, 'W111WX': 4248, 'yor': 11454, 'ownyouve': 8801, 'stressed': 10248, 'Skallis': 3738, 'jason': 7602, 'soooo': 10056, 'provider': 9229, 'tming': 10647, 'Final': 1920, 'Subs': 3845, 'cutest': 5927, 'dice': 6110, 'art': 4881, 'SERVICES': 3511, 'inclusive': 7446, 'help08700469649': 7192, 'BOX420': 1190, 'IP4': 2348, '5WE': 699, 'Howda': 2295, 'Mathe': 2824, 'samachara': 9643, 'Audrie': 1112, 'autocorrect': 4949, 'simulate': 9906, 'readiness': 9341, 'armand': 4866, 'andor': 4758, 'vomiting': 11030, 'yun': 11491, 'rub': 9600, 'feet': 6625, 'Lara': 2627, 'loan': 7960, 'supplies': 10347, 'clever': 5642, 'guesses': 7076, 'attach': 4922, '087123002209am7pm': 106, 'Hols': 2275, 'med': 8196, 'stamped': 10162, 'Drinks': 1725, 'Us': 4197, '113': 317, 'Bray': 1315, 'Wicklow': 4398, 'Eire': 1786, 'Saturday': 3639, 'washob': 11090, 'nobbing': 8557, 'Nickey': 3007, 'Platt': 3272, 'ryan': 9618, 'vikky': 10999, 'wwwIdewcom': 11359, 'SkillGame': 3740, '1Winaweek': 408, '150ppermessSubscription': 368, 'mad': 8085, 'Argh': 1089, 'spotty': 10136, 'province': 9230, 'sterling': 10205, 'problemfree': 9186, 'looked': 7990, 'xam': 11407, 'hall': 7106, 'term': 10489, 'manage': 8119, 'hesitation': 7217, 'intha': 7511, 'ponnungale': 9052, 'ipaditan': 7531, 'rejected': 9421, 'shitload': 9833, 'diamonds': 6108, 'Tessypls': 3999, 'favor': 6606, 'convey': 5802, 'Nimyapls': 3015, 'Shijas': 3698, 'aunty': 4944, 'china': 5595, 'noisy': 8562, 'needa': 8497, 'mcat': 8180, 'Sfrom': 3681, 'manual': 8129, 'processits': 9194, 'reset': 9489, 'troubleshooting': 10776, 'B4U': 1127, 'wc': 11113, '2703': 465, 'MARSMS': 2724, 'wwwB4Utelecom': 11358, '08717168528': 143, 'Spoke': 3798, 'strongly': 10259, 'sacrifice': 9626, 'beg': 5085, 'expecting': 6519, 'creativity': 5875, 'stifled': 10213, 'morphine': 8365, 'requirements': 9479, 'stayin': 10191, 'strangersaw': 10244, 'heåÕs': 7220, 'sorted': 10066, 'nowstill': 8609, 'bloke': 5182, 'MRur': 2779, 'Thinks': 4037, '2GETHA': 481, 'Buffy': 1335, 'satisfy': 9665, 'randy': 9313, 'PIX': 3175, 'QlynnBV': 3350, 'Help08700621170150p': 2227, '8830': 871, 'cld': 5634, 'Wld': 4417, 'prefer': 9128, 'nosh': 8582, 'Waaaat': 4326, 'Lololo': 2672, 'tables': 10404, 'occupied': 8644, 'comei': 5707, 'kindly': 7733, 'documents': 6199, 'submitted': 10289, 'STAPATI': 3581, 'miles': 8264, 'cutie': 5928, 'WALES': 4257, 'hills': 7230, 'avent': 4959, 'killed': 7726, 'Sad': 3620, 'Man': 2810, 'Wife': 4400, 'Parents': 3227, 'Kids': 2531, 'Colleagues': 1512, 'sed': 9730, 'mood': 8358, 'minuts': 8290, 'latr': 7828, 'caken': 5370, 'Kidz': 2532, 'sofa': 10017, 'NAKED': 2931, 'honesty': 7275, 'specialisation': 10096, 'labor': 7780, 'shakara': 9802, 'beggar': 5086, 'smashed': 9979, 'driver': 6274, 'dent': 6058, 'everybodys': 6480, 'crickiting': 5884, 'Thx': 4049, 'PLEASE': 3177, 'COME': 1400, 'IMIN': 2330, 'TOWNDONTMATTER': 3956, 'URGOIN': 4149, 'OUTL8R': 3089, 'Yavnt': 4495, 'Hiya': 2252, 'ESPECIALLY': 1750, 'popping': 9063, 'ibuprofens': 7387, 'sip': 9914, 'grown': 7063, 'Chinatown': 1487, 'porridge': 9065, 'claypot': 5633, 'yam': 11426, 'fishhead': 6689, 'beehoon': 5076, 'Either': 1787, 'tok': 10667, 'specific': 10099, 'jaklin': 7592, 'idk': 7402, 'Google': 2086, 'nearby': 8486, 'cliffs': 5645, '449month': 626, 'ntwk': 8613, 'bundle': 5326, 'deals': 6002, 'avble': 4957, 'call2optoutJ': 5383, 'MF': 2740, 'pages': 8816, 'figures': 6648, 'Ooh': 3124, '4got': 656, 'moseley': 8366, 'weds': 11135, '630': 725, 'Thankyou': 4008, 'Treat': 4092, 'pendingi': 8911, 'dayswill': 5991, 'thruRespect': 10600, 'homecheck': 7269, 'Valuable': 4223, 'Affectionate': 1014, 'Loveable': 2684, 'Eternal': 1810, 'Noble': 3021, 'Truthful': 4098, 'Intimate': 2402, 'Natural': 2985, 'Enamous': 1796, 'VALENTINES': 4206, 'textin': 10503, 'cousin': 5854, 'POWER': 3204, 'excuses': 6508, 'Rajipls': 3409, 'Nimya': 3014, 'legs': 7862, 'neck': 8493, 'amigos': 4738, 'burn': 5333, 'progress': 9205, 'continue': 5793, 'holy': 7266, 'werent': 11167, 'arty': 4884, 'collages': 5687, 'tryin': 10787, 'billion': 5139, 'classes': 5631, '2hrs': 509, 'waliking': 11058, 'cartons': 5463, 'shelves': 9822, 'pix': 8986, '08714712379': 126, 'distance': 6177, 'mirror': 8292, 'turning': 10805, 'freak': 6799, 'Know': 2556, 'ref': 9399, 'K718': 2498, 'å£450': 11540, '09065069120': 245, 'Tues': 4110, 'Alrite': 1053, 'jod': 7631, 'revision': 9531, 'Keris': 2526, 'smidgin': 9984, 'collegexx': 5695, 'belive': 5097, 'kkwhere': 7745, 'exact': 6497, 'intentions': 7501, 'empty': 6401, 'slots': 9965, 'accordin': 4581, 'discussed': 6171, 'knocking': 7750, 'Sicomo': 3719, 'nolistened2the': 8566, 'plaid': 8994, 'albumquite': 4693, 'gdthe': 6911, 'air1': 4685, 'hilariousalso': 7228, 'boughtåÓbraindanceåÓa': 5234, 'compofstuff': 5739, 'aphexåÕs': 4812, 'abel': 4550, 'nelson': 8511, 'bbs': 5046, 'temp': 10483, 'unmits': 10882, 'display': 6176, 'newspapers': 8528, 'Boo': 1293, 'soup': 10076, 'Yummmm': 4532, 'management': 8122, 'puzzeles': 9263, 'include': 7444, '4goten': 657, 'scammers': 9683, 'smartThough': 9976, 'regular': 9420, 'prem': 9130, 'msgsubscription': 8398, '2morro': 513, 'passion': 8874, 'B4': 1126, '09099726481': 286, 'DENA': 1593, 'å£1minMobsmoreLKPOBOX177HP51FL': 11528, 'spoiled': 10125, 'R836': 3362, '09065069154': 246, 'threats': 10588, 'sales': 9637, 'executive': 6510, 'Shifad': 3697, 'raised': 9302, 'complaint': 5730, 'doctors': 6198, 'reminds': 9445, '2godid': 507, 'lounge': 8017, 'Den': 1660, 'lk': 7953, 'role': 9572, 'lov': 8019, 'truth': 10785, 'checked': 5549, 'SplashMobile': 3796, 'subscrition': 10298, '300p': 542, 'ENJOY': 1744, 'dust': 6317, 'U4': 4127, 'private': 9174, '01223585334': 5, 'Wan': 4336, '2C': 478, 'shagged': 9801, '8552': 848, '2End': 480, 'SAM': 3490, '88877FREE': 876, '88877': 875, '88066': 868, 'LOST': 2603, '3POUND': 577, 'HELP': 2141, 'watchin': 11101, 'meaningless': 8191, 'alls': 4715, 'Cold': 1510, 'Brdget': 1317, 'Jones': 2480, 'Inever': 2393, 'HmmBad': 2256, 'newsHype': 8526, '700': 762, 'studio': 10269, 'takenOnly': 10418, 'bedrm900': 5073, 'unable': 10843, 'Whom': 4395, 'waited': 11053, 'Velly': 4227, 'wkend': 11265, 'journey': 7651, 'huge': 7344, 'marking': 8141, 'letters': 7881, 'Alex': 1043, 'mids': 8261, 'Oranges': 3137, 'Upd8': 4187, 'freefone': 6805, '2StopTx': 493, 'ANNIE': 960, 'Remind': 3447, '08718738034': 169, 'MISSIN': 2751, 'HAVING': 2134, '21870000Hi': 440, 'Mailbox': 2803, 'Messaging': 2845, 'alert': 4695, '21': 437, '09056242159': 194, 'retrieve': 9522, 'Draw': 1722, 'vai': 10949, 'Hrishi': 2299, 'Nothin': 3043, 'hanger': 7120, 'poem': 9034, 'Hear': 2214, 'Fear': 1908, 'Cheer': 1482, 'Tear': 3984, 'thatll': 10525, 'Moby': 2882, 'Pub': 3339, 'QuizWin': 3359, 'High': 2243, 'Street': 3833, 'Duchess': 1728, 'Cornwall': 1534, '82277unsub': 817, '008704050406': 1, 'SP': 3564, 'Arrow': 1094, 'bags': 4998, 'blanket': 5167, '08718726971': 158, 'tddnewsletteremc1couk': 10452, 'TheDailyDraw': 4016, 'Helen': 2220, 'Dozens': 1720, 'prizesWith': 9180, 'significant': 9892, 'Waqt': 4342, 'pehle': 8905, 'naseeb': 8469, 'zyada': 11500, 'kisi': 7738, 'ko': 7760, 'kuch': 7773, 'nahi': 8453, 'miltaZindgi': 8268, 'wo': 11275, 'jo': 7627, 'hum': 7349, 'sochte': 10015, 'hai': 7099, 'Zindgi': 4543, 'jeetey': 7613, 'worse': 11319, 'stalking': 10161, 'Dan': 1634, 'reminded': 9442, 'Apps': 1082, 'varaya': 10959, 'elaya': 6381, '100603': 298, '09066368753': 266, '97N7QP': 908, 'anand': 4755, 'Long': 2674, 'beach': 5056, 'Expected': 1837, 'Aww': 1121, 'deadWell': 5996, 'Jez': 2469, 'isComing': 7543, 'workAnd': 11301, 'whillTake': 11198, 'Cheers': 1483, 'Zogtorius': 4544, 'IåÕve': 2426, 'staring': 10170, 'age': 4659, 'whether': 11194, 'financial': 6664, 'problemi': 9187, 'alian': 4703, 'BTooth': 1208, 'FREENokia': 1880, 'or2optoutHV9D': 8738, 'posible': 9070, 'century': 5501, 'cm': 5663, 'frwd': 6844, 'dint': 6149, 'unnecessarily': 10883, 'affectionate': 4642, 'sorts': 10068, 'Download': 1719, 'ringtones': 9551, 'restrictions': 9512, 'buddys': 5314, '80082': 797, '08712402902': 113, 'remind': 9441, 'owned': 8799, 'possessive': 9075, 'Nohe': 3025, 'clarification': 5626, 'Spook': 3799, 'Halloween': 2193, 'eerie': 6358, 'CARD': 1363, 'SPOOK': 3573, '08701417012150p': 79, 'logopic': 7976, 'issue': 7555, 'weigh': 11146, 'regret': 9418, 'Fantasy': 1905, 'Football': 1938, 'Sky': 3743, 'Gamestar': 2041, 'Active': 1007, 'å£250k': 11532, 'Dream': 1723, 'Team': 3983, 'Scoring': 3650, 'nowSKY': 8599, 'OPT': 3080, '88088': 869, 'coimbatore': 5680, 'subs': 10291, 'expired': 6526, 'resub': 9513, 'MONOC': 2768, 'monos': 8352, 'POLYC': 3197, 'Stream': 3832, '0871212025016': 104, 'sheffield': 9819, 'tom': 10674, 'opinions': 8723, 'categories': 5480, 'measure': 8194, 'ethnicity': 6462, 'census': 5498, 'transcribing': 10743, 'Boy': 1311, 'propsd': 9224, 'gv': 7087, 'lv': 8064, 'lttrs': 8047, 'threw': 10590, 'thm': 10575, 'Again': 1022, 'aproach': 4842, 'dt': 6296, 'truck': 10778, 'speeding': 10104, 'Wn': 4418, 'girld': 6946, 'hw': 7375, 'Boost': 1298, 'instantly': 7494, 'Thy': 4050, 'lived': 7949, 'happily': 7133, '2gthr': 508, 'drinking': 6270, 'evrydy': 6495, 'Moral': 2896, 'msgsD': 8396, 'paragon': 8842, 'unfortunately': 10866, 'Pics': 3262, 'cakes': 5371, 'bluff': 5194, 'Izzit': 2423, 'impossible': 7430, 'XMAS': 4451, 'draws': 6258, 'goodmate': 6999, 'RITE': 3394, 'SARY': 3492, 'ASUSUAL1': 977, 'CHEERED': 1385, 'FRANYxxxxx': 1875, 'Went': 4372, 'batt': 5041, 'added': 4608, 'wwwfullonsmscom': 11378, 'Gn': 2068, 'pussy': 9258, 'becausethey': 5067, '09058098002': 210, 'PoBox1': 3284, 'W14RG': 4249, 'messageno': 8246, 'responcewhat': 9498, 'happend': 7126, 'piece': 8971, 'wiskey': 11251, 'Brandy': 1314, 'Rum': 3481, 'Gin': 2063, 'Beer': 1250, 'Vodka': 4242, 'Scotch': 3651, 'Shampain': 3687, 'Wine': 4405, 'KUDIyarasu': 2509, 'dhina': 6101, 'vaazhthukkal': 10946, 'gained': 6879, 'kg': 7714, 'Second': 3655, 'sugar': 10315, 'pressure': 9146, 'limits': 7917, 'PICK': 3170, 'DUMB': 1627, 'thangam': 10512, 'Okey': 3106, 'doke': 6218, 'dressed': 6266, 'laying': 7838, 'kills': 7728, 'Neshanthtel': 2990, 'BYATCH': 1214, 'WHASSUP': 4277, 'Kay': 2518, 'Roger': 3471, 'CL': 1391, 'nasty': 8470, 'filthyguys': 6659, 'slo': 9963, 'SLO4msgs': 3542, 'Wasted': 4348, 'chiong': 5599, 'Jesus': 2468, 'christ': 5611, 'dialogue': 6106, 'cute': 5926, 'reltnship': 9433, 'Die': 1676, 'Solve': 3766, 'Case': 1459, 'Murdered': 2921, 'AfterNoon': 1018, '1His': 401, 'Police': 3293, '2Police': 492, 'questioned': 9275, '3Wife': 583, 'SirI': 3732, '4Cook': 639, 'cooking': 5810, '5Gardener': 692, 'vegetables': 10969, '6HouseMaid': 748, '7Children': 780, '8Neighbour': 890, 'murderer': 8426, 'Immediately': 2378, 'Reason': 3429, 'Brilliant': 1322, 'Pose': 3302, 'comb': 5701, 'dryer': 6294, 'fps': 6794, 'computational': 5743, 'science': 9693, 'push': 9256, 'answered': 4783, 'Lk': 2662, 'Madamregret': 2800, 'disturbancemight': 6180, 'DLF': 1602, 'Premaricakindly': 3315, 'informedRgdsRakheshKerala': 7468, 'gotto': 7014, '08702840625': 86, 'comuk220cm2': 5747, 'settle': 9785, 'Err': 1805, 'Cud': 1563, '8pm': 896, 'bloo': 5185, 'kbut': 7697, 'hitteranyway': 7246, 'offline': 8669, 'anjolas': 4768, 'IThis': 2359, 'WWWASJESUSCOM': 4324, 'wrote': 11342, 'Indians': 2391, 'Says': 3644, 'swiss': 10389, 'directors': 6154, 'lac': 7781, 'crore': 5887, 'deposited': 6067, 'taxless': 10446, 'budget': 5315, 'jobs': 7629, 'lane': 7803, 'Forever': 1941, 'suply': 10344, 'projects': 9207, 'citizen': 5619, 'monthly': 8355, 'Bank': 1230, 'IMF': 2329, 'blocked': 5179, 'politicians': 9042, 'rights': 9543, 'corrupt': 5827, 'Itna': 2415, 'karo': 7694, 'pura': 9250, 'INDIA': 2336, 'padhegm': 8814, 'Uncle': 4171, 'torrents': 10713, 'particularly': 8861, 'slowing': 9969, 'honey': 7276, 'Btw': 1334, 'commit': 5718, 'random': 9310, '83370': 830, 'wwwmusictrivianet': 11384, 'Rightio': 3461, '1148': 320, 'bright': 5275, 'brum': 5304, 'donno': 6227, 'scorable': 9695, 'paranoid': 8844, 'brin': 5280, 'Mayb': 2830, 'properly': 9221, 'sheet': 9817, 'Kgive': 2527, 'complain': 5728, 'onlybettr': 8709, 'bsnl': 5307, 'offc': 8654, 'payed': 8891, 'Suganya': 3852, 'Left': 2641, 'dessert': 6083, 'Abeg': 993, 'sponsors': 10129, 'Onum': 3123, 'ela': 6376, 'Normal': 3040, 'candont': 5419, 'Rose': 3474, 'poet': 9035, 'imaginationMy': 7418, 'frndship': 6833, 'carso': 5462, 'rr': 9596, 'famamus': 6574, 'pongaldo': 9051, 'sry': 10150, 'furniture': 6869, 'lock': 7966, 'locks': 7967, 'key': 7709, 'jenne': 7616, 'easiest': 6335, 'barcelona': 5017, 'ru': 9599, 'Sppok': 3802, '09066612661': 269, 'complementary': 5731, 'WA14': 4254, '2PX': 491, 'Sender': 3663, 'Hol': 2269, 'Kdo': 2519, 'daurgent': 5980, 'Pansy': 3225, 'Youve': 4530, 'jungle': 7666, 'kanji': 7686, 'SOON': 3557, 'drinkpa': 6271, 'srs': 10147, 'drizzling': 6277, 'appointments': 4830, 'shoving': 9862, 'Concentrate': 1524, 'papers': 8837, 'Greetings': 2100, 'Consider': 1528, 'excused': 6507, 'drama': 6252, 'Plsi': 3279, 'struggling': 10262, 'strange': 10242, 'placeNo': 8990, 'ego': 6370, 'INVITED': 2347, 'necessity': 8492, 'gowait': 7017, 'reppurcussions': 9472, 'released': 9428, 'cosign': 5830, 'hvae': 7374, '09061701444': 218, '24': 447, 'ACL03530150PM': 926, 'HCL': 2135, 'requires': 9480, 'FRESHERS': 1884, 'processExcellent': 9192, 'neededSalary': 8499, 'MsSuman': 2911, 'Telephonic': 3988, 'Indyarockscom': 2392, 'Dai': 1632, 'resume': 9518, 'datoday': 5978, 'Ola': 3111, 'US': 4152, 'cars': 5461, 'bids': 5132, 'Invest': 2404, 'restUWud': 9506, 'reliant': 9429, 'Fwiw': 1974, 'afford': 4644, 'happens': 7130, 'kanowhr': 7690, 'maga': 8093, 'sq825': 10143, 'arrival': 4877, 'Yunny': 4535, 'citylink': 5621, 'Er': 1803, 'yep': 11438, 'Props': 3331, 'pleasant': 9012, 'statements': 10185, '6230': 722, 'digital': 6136, '83383': 831, 'POBOX11414TCRW1': 3184, 'Bognor': 1289, 'splendid': 10120, 'Yesim': 4514, 'ktv': 7772, 'Misplaced': 2861, 'Wondering': 4423, 'atlanta': 4918, 'computers': 5746, 'Mmmmm': 2870, 'medicine': 8198, 'begun': 5090, 'registration': 9417, 'permanent': 8926, 'residency': 9490, 'plenty': 9017, 'claire': 5625, 'relatives': 9425, 'deliver': 6049, 'risks': 9556, 'benefits': 5111, 'amount': 4745, 'Hmmmhow': 2259, 'predicting': 9125, 'accumulation': 4587, 'Package': 3220, 'programs': 9204, 'belongs': 5103, 'Pray': 3311, 'herwho': 7212, 'fated': 6596, 'Shoranur': 3709, 'incident': 7443, 'fuelled': 6852, 'concern': 5752, 'prior': 9170, 'grief': 7050, 'VIOLENCE': 4214, 'AGAINST': 938, 'WOMEN': 4303, 'Company': 1520, 'goodenvironment': 6996, 'terrific': 10492, 'Text82228': 4002, 'logos': 7977, 'wwwtxt82228com': 11401, 'Questions': 3355, 'infotxt82228couk': 7469, 'Honestly': 2279, 'promptly': 9215, 'burnt': 5336, 'advice': 4634, 'FreeMSG': 1952, 'mini': 8279, 'DIGITAL': 1598, 'SNAP': 3547, 'quizclub': 9285, 'Opt': 3131, '80122300pwk': 799, 'SPRWM': 3576, 'Ph08704050406': 3254, 'GMW': 2002, 'connected': 5772, 'someplace': 10033, 'goods': 7003, 'pressies': 9145, 'Dr': 1721, 'superior': 10342, 'Ultimately': 4166, 'tor': 10711, 'motive': 8372, 'tui': 10798, 'achieve': 4590, 'korli': 7767, 'we‰Û÷ll': 11178, 'dock': 6195, 'rolled': 9574, 'newscaster': 8527, 'dabbles': 5938, 'flute': 6729, 'behind': 5093, 'wheel': 11184, 'polypH': 9046, 'bx420': 5357, 'ip4': 7529, '5we': 710, 'amazing': 4735, 'PICSFREE1': 3172, 'vid': 10989, 'keyword': 7712, 'ruin': 9604, 'Erm': 1804, 'the4th': 10531, 'october': 8649, '83435': 832, 'elaborating': 6378, 'safety': 9630, 'aspects': 4902, 'issues': 7556, 'TAROT': 3889, 'TEXTS': 3909, 'CHANCE': 1378, '85555': 849, 'department': 6063, 'oursso': 8766, 'youany': 11459, 'hr': 7322, 'conform': 5767, 'horniest': 7294, 'follow': 6739, 'instructions': 7496, 'ENTRY': 1747, 'NytEC2A3LPmsg150p': 3060, 'flow': 6723, 'developed': 6093, 'ovarian': 8784, 'cysts': 5933, 'Bc': 1235, 'shrink': 9872, 'onit': 8704, 'upping': 10902, 'grams': 7026, 'timin': 10628, 'That‰Û÷s': 4014, 'apes': 4810, 'death': 6013, 'ibm': 7385, 'hp': 7320, 'toshiba': 10717, 'Gosh': 2088, 'Spose': 3801, 'usualiam': 10935, 'rimac': 9545, 'arestaurant': 4854, 'squid': 10146, '1030': 304, 'dosomething': 6237, 'UCALL': 4129, 'WEN': 4271, 'FINISH': 1864, 'WRKI': 4319, 'FANCY': 1848, 'MEETIN': 2732, 'WIV': 4297, 'TONITE': 3949, 'BREAK': 1197, 'DABOOKS': 1576, 'DID': 1595, 'HRS': 2173, 'LAST': 2572, 'NITE2': 2952, 'WRK': 4318, 'EACHOTHER': 1734, 'MEET': 2731, 'HOUSE': 2168, 'Luckily': 2697, 'starring': 10171, 'madam': 8086, 'restocked': 9510, 'Knock': 2555, 'wwwtklscom': 11398, 'stoptxtstopå£150week': 10232, 'innocent': 7481, 'mental': 8227, 'smoothly': 9994, 'hoped': 7287, 'bills': 5140, 'challenging': 5509, '2marrow': 510, 'hon': 7273, 'pple700': 9102, '900': 899, 'nightsExcellent': 8542, 'breakfast': 5262, 'hamper': 7109, 'cc100pmin': 5488, 'reality': 9349, 'daal': 5936, 'above': 4557, 'POLYS': 3199, '0870737910216yrs': 91, 'å£150wk': 11526, 'Unni': 4181, 'rechargeRakhesh': 9380, 'lacking': 7782, 'particular': 8860, 'dramastorms': 6253, 'forfeit': 6764, 'treated': 10761, 'urself': 10917, 'digi': 6135, '9pm': 918, 'fab': 6546, 'coupla': 5848, 'wks': 11269, '077xxx': 35, '09066362206': 258, 'CAL': 1353, 'SIR': 3531, 'sundayish': 10332, 'prasad': 9117, 'Tiwary': 4060, 'rcbbattle': 9325, 'bang': 5009, 'kochi': 7761, 'cancer': 5418, 'Moms': 2888, 'checkup': 5551, 'aka': 4690, 'pap': 8834, 'smear': 9980, 'gobi': 6973, 'arts': 4883, 'Pandy': 3224, '4w': 671, 'technologies': 10467, 'todayhe': 10661, 'Em': 1792, 'olowoyey': 8693, 'uscedu': 10923, 'argentina': 4856, 'secretary': 9723, 'taxt': 10447, 'massagetiepos': 8151, 'argh': 4857, 'Lool': 2678, 'dollar': 6220, 'pull': 9241, 'spending': 10110, 'taylors': 10449, 'shaking': 9804, 'booty': 5217, 'timeslil': 10625, 'busyi': 5345, 'sarcasm': 9656, 'scarcasim': 9684, 'naal': 8449, 'eruku': 6447, 'chikkuwat': 5585, 'W4': 4252, '5WQ': 700, 'remains': 9436, 'bro': 5286, 'amongst': 4743, 'bros': 5291, 'impressively': 7435, 'sensible': 9765, 'Whens': 4387, 'PARK': 3156, '69696': 736, 'Nyt': 3059, '3lp': 589, 'å£150msg': 11520, 'response': 9501, 'alsoor': 4727, 'danalla': 5950, 'obedient': 8636, 'ft': 6846, 'combination': 5702, 'needy': 8503, 'pouts': 9097, 'stomps': 10222, 'northampton': 8580, 'abj': 4553, 'serving': 9781, 'playng': 9010, '1McFlyAll': 404, 'Ab': 991, 'Sara': 3634, 'JorgeShock': 2483, 'SmithSwitch': 3758, 'anna': 4769, 'nagar': 8452, 'Chasing': 1476, 'Yupz': 4537, 'modelsony': 8330, 'ericson': 6441, 'der': 6071, 'luks': 8053, 'modl': 8331, 'cheesy': 5556, 'frosty': 6843, 'witin': 11258, 'sports': 10134, 'fans': 6583, 'PLUS': 3180, 'SPORT': 3574, '0870141701216': 80, '4txt120p': 666, 'Europe': 1814, '10th': 314, 'Sept': 3670, '09050000555': 183, 'BA128NNFWFLY150ppm': 1128, 'shirts': 9830, 'nudist': 8615, 'themed': 10539, 'YM': 4480, 'pump': 9244, 'petrol': 8940, 'å£12': 11513, 'Feb': 1909, 'VALUED': 4207, 'FRNDS': 1889, 'evn': 6491, 'ignore': 7409, 'Evr': 1827, 'signal': 9890, 'neither': 8510, 'unusual': 10892, 'Hugs': 2301, 'snogs': 10007, 'Omw': 3115, 'west': 11170, 'palm': 8826, 'printing': 9169, 'handing': 7113, 'fastest': 6593, 'growing': 7062, 'optout': 8736, '83021': 821, 'chase': 5535, 'stated': 10183, 'Reaction': 3422, 'DOUBLE': 1615, 'tariffs': 10436, '2stoptxt': 528, 'perpetual': 8929, 'DD': 1588, 'steam': 10198, 'reg': 9411, 'pract': 9107, 'Flung': 1931, 'HouseMaid': 2293, 'murdered': 8425, 'public': 9237, 'govtinstituitions': 7016, 'closedincluding': 5652, 'officeunderstand': 8665, 'Juz': 2494, 'process': 9191, 'justbeen': 7670, 'overa': 8786, 'broke': 5288, 'brains': 5253, 'mush': 8428, 'Tunde': 4112, 'missions': 8303, 'luxury': 8063, 'Canary': 1446, 'Islands': 2410, '20M12AQ': 434, '‰ÛÏ': 11568, 'Lux': 2703, '28': 467, 'EH74RR': 1738, 'Next': 3001, 'sleepy': 9953, 'dare': 5961, 'ben': 5107, 'mag': 8092, 'avo': 4962, 'middle': 8259, 'crashed': 5866, 'cuddled': 5903, 'Chachi': 1470, 'Pl': 3270, 'tiz': 10642, 'Kanagu': 2513, 'prices': 9158, 'ringing': 9547, 'houseful': 7310, 'brats': 5257, 'pulling': 9242, 'diwali': 6185, 'Tick': 4051, 'tick': 10609, 'nowonion': 8608, 'prepare': 9133, 'Sat': 3638, 'Derp': 1663, 'abusers': 4565, 'lipo': 7934, 'Watch': 4350, 'easter': 6338, 'netflix': 8514, 'Thgt': 4031, 'clash': 5629, 'ARR': 972, 'oscar': 8756, 'Open': 3129, 'rebtel': 9364, 'firefox': 6682, 'lower': 8034, 'pin': 8980, 'Married': 2821, 'action': 4599, 'MATCH': 2726, '69969': 744, 'BCMSFWC1N3XX': 1152, 'impressed': 7433, 'funs': 6868, 'Burger': 1339, 'footy': 6756, 'stadium': 10154, 'Large': 2628, 'CocaCola': 1506, 'dark': 5962, 'teenager': 10468, 'teluguthts': 10481, 'gudk': 7073, 'Took': 4080, 'Centre': 1468, 'exhaust': 6513, 'replacing': 9465, 'Mittelschmertz': 2866, 'paracetamol': 8839, 'salespee': 9639, 'arrived': 4879, 'cThen': 5365, 'enuff': 6435, 'conclusion': 5754, 'contents': 5791, 'pg': 8941, 'references': 9401, 'cover': 5855, 'atyour': 4935, 'success': 10301, 'U‰Ûªve': 4204, 'Bin': 1267, 'Awarded': 1119, 'å£50': 11543, 'Instant': 2399, '08715203028': 132, 'EVERY': 1757, '9th': 920, 'Player': 3274, 'Wins': 4410, 'Min': 2854, 'å£50å£500': 11548, 'rugby': 9603, 'affidavit': 4643, 'Twiggs': 4116, 'division': 6183, 'courtroom': 5853, 'creep': 5879, 'FreeMsgFAV': 1954, 'TONESReply': 3946, 'Lil': 2651, 'Thinkin': 4035, 'showers': 9867, 'possessiveness': 9076, 'poured': 9095, 'lies': 7894, 'golden': 6986, 'lasting': 7818, 'Genius': 2053, 'mobs': 8325, '2u': 529, 'BREATHE1': 1199, 'CRAZYIN': 1413, 'SLEEPINGWITH': 3539, 'FINEST': 1863, 'YMCA': 4481, 'getzedcouk': 6935, 'POBox365O4W45WQ': 3190, 'wtc': 11345, 'Weiyi': 4366, 'property': 9222, 'INTERFLORA': 2344, 'åÒIts': 11563, 'Interflora': 2401, 'flowers': 6725, '505060': 678, 'godtaken': 6978, 'teethis': 10471, 'paining': 8822, 'ROMCAPspam': 3395, 'Everyone': 1823, 'presence': 9140, 'outgoing': 8774, 'sian': 9881, 'maggi': 8095, 'mee': 8200, '08712103738': 103, 'cough': 5838, 'Com': 1515, 'EURO2004': 1752, 'CUP': 1421, 'FINAL': 1860, '09058099801': 211, 'b4190604': 4979, '7876150ppm': 778, 'BBDpooja': 1146, 'pimpleseven': 8979, 'blackand': 5160, 'sweatter': 10380, 'Nicenicehow': 3005, 'quick': 9278, 'ambitious': 4736, 'miiiiiiissssssssss': 8263, 'Tunji': 4113, 'queen': 9273, 'iZ': 7384, 'Yellow': 4504, 'misscall': 8298, 'frndZ': 6831, '6missed': 755, 'Freemessage': 1957, 'JamsterGet': 2452, 'frog': 6838, 'MAD1': 2714, 'MAD2': 2715, '88888': 877, 'GBPweek': 1988, 'REALITY': 3371, 'FANTASY': 1851, 'SHOW': 3524, 'wipro': 11241, 'tall': 10427, 'doubt': 6242, 'handle': 7114, 'note': 8585, 'robs': 9566, 'Avenge': 1118, 'Japanese': 2456, 'Proverb': 3332, 'none': 8569, 'itU': 7559, 'LET': 2579, 'HIM': 2149, 'itLEAVE': 7558, 'Kerala': 2524, 'strike': 10254, 'choices': 5603, 'toss': 10718, 'coin': 5681, 'Gudni8': 2107, 'Adult': 1012, 'dancin': 5953, 'explicitly': 6531, 'nora': 8573, 'Smith': 3757, 'gayle': 6905, 'Woke': 4420, 'Crucify': 1555, 'moved': 8379, 'butting': 5348, 'freedom': 6804, 'vs': 11038, 'cedar': 5491, 'twenty': 10813, 'durham': 6314, 'reserved': 9487, 'seat': 9717, 'PORN': 3201, '69855': 738, '24Hrs': 451, '50p': 679, 'STOPBCM': 3590, 'SF': 3515, 'painting': 8824, 'wall': 11065, 'Printer': 3323, 'groovy': 7056, 'groovying': 7057, 'Harishs': 2202, 'transfred': 10749, 'Acnt': 1004, 'Cbe': 1465, 'nowadayslot': 8604, 'showroomscity': 9869, 'shaping': 9809, 'attending': 4929, 'talks': 10426, 'probs': 9190, 'doinat': 6214, 'callon': 5399, 'low': 8033, 'bought': 5233, 'rons': 9578, 'swatch': 10376, 'Kkyesterday': 2554, 'ganesh': 6889, 'dress': 6265, 'pdateNow': 8898, 'call2optoutYHL': 5387, 'collecting': 5691, 'configure': 5762, 'trips': 10771, 'i‰Ûªm': 7583, 'orange': 8741, 'isn‰Ûªt': 7553, 'WISH': 4293, 'CANT': 1362, 'WAIT': 4255, 'WANT': 4260, 'ANAL': 958, 'SEX': 3513, 'GANG': 1981, 'BANG': 1139, 'pears': 8902, 'Helloooo': 2225, 'Wake': 4334, 'welcomes': 11155, 'GUD': 2033, 'MRNG': 2778, 'summer': 10326, 'celebrate': 5495, 'Such': 3850, 'white': 11200, 'Oooooh': 3126, '09058094454': 198, 'thatnow': 10526, 'Kindly': 2535, 'MOB': 2761, '54': 688, 'resubmit': 9515, 'expiry': 6528, 'THEMOB': 3922, 'weåÕve': 11177, '2geva': 505, 'mint': 8286, 'uxxxx': 10944, 'simply': 9905, 'gods': 6977, 'humans': 7351, 'studyn': 10272, 'wuld': 11351, 'everyboy': 6481, 'xxxxxxxx': 11420, 'Test': 4000, 'solved': 10025, 'CAT': 1368, '532': 687, '924': 902, '863': 852, '725': 763, 'brilliant1thingi': 5278, 'answr': 4787, 'liquor': 7936, 'flaked': 6700, 'loko': 7979, '730': 766, 'lined': 7921, 'tm': 10646, 'MINE': 2745, 'laughs': 7831, 'fireplace': 6683, 'icon': 7393, '08712400200': 108, 'fifth': 6642, 'woozles': 11293, 'weasels': 11123, 'exeter': 6512, '08718723815': 153, 'Gary': 2044, 'machines': 8080, 'fucks': 6851, 'sake': 9634, 'ignorant': 7408, 'mys': 8443, 'bruce': 5303, 'downs': 6249, 'fletcher': 6708, '27603': 466, '08714714011': 130, 'teaching': 10457, 'bowls': 5239, 'cozy': 5859, 'nightnobody': 8540, 'Everything': 1824, 'Buzzzz': 1345, 'Buzz': 1344, 'chest': 5565, 'vibrator': 10985, 'shake': 9803, 'covers': 5857, 'trends': 10767, 'pros': 9225, 'cons': 5775, 'Brief': 1320, 'description': 6075, 'nuclear': 8614, 'fusion': 6871, 'brief': 5274, 'history': 7242, 'iter': 7563, 'jet': 7620, 'NONENOWHERE': 2963, 'IKNO': 2322, 'DOESDISCOUNTSHITINNIT': 1606, 'jabo': 7587, 'abi': 4551, 'slower': 9968, 'maniac': 8127, 'hadya': 7096, 'sapna': 9653, 'manege': 8125, 'yday': 11431, 'hogidhechinnu': 7255, 'swalpa': 10373, 'agidhane': 4667, 'Mostly': 2903, 'typelyk': 10826, 'footblcrckt': 6753, 'Ma': 2794, 'swell': 10384, 'Sary': 3637, 'Tim': 4055, 'bollox': 5203, 'tol': 10670, 'hang': 7119, 'ingredients': 7475, 'pocy': 9033, 'bell': 5098, 'non': 8567, 'call2optout4QF2': 5380, 'Done': 1709, 'Tonight': 4078, 'senor': 9761, 'giggle': 6942, 'possibly': 9080, 'person2die': 8932, 'NVQ': 2974, 'professional': 9198, 'Tiger': 4053, 'Woods': 4427, 'reboot': 9362, 'grinder': 7051, 'POLYPHONIC': 3198, 'PT2': 3215, 'youkwhere': 11465, 'buyers': 5352, 'figuring': 6649, 'entirely': 6430, 'understood': 10859, 'bottom': 5232, 'knowhe': 7752, 'phoned': 8953, 'disconnected': 6167, 'onluy': 8707, 'matters': 8166, 'offcampus': 8655, 'Welcome': 4367, 'improved': 7437, 'msgs150p': 8395, 'rileys': 9544, 'Ew': 1830, 'wesley': 11168, 'howve': 7319, 'lingo': 7926, '12Mths': 335, 'Half': 2191, 'Price': 3321, '400minsCall': 601, 'call2optoutJ5Q': 5384, 'WITHOUT': 4296, 'meDont': 8183, 'lm': 7955, 'Goodnoon': 2084, 'Hm': 2254, 'HARDCORE': 2124, '69200': 734, 'hrs': 7323, 'chrgd50p': 5610, '2exit': 504, 'salon': 9641, 'approaching': 4834, 'Sankranti': 3630, 'republic': 9474, 'Shivratri': 3703, 'Ugadi': 4158, 'Fools': 1937, 'Independence': 2387, 'FriendshipMotherFatherTeachersChildrens': 1964, 'Ganesh': 2042, 'festival': 6631, 'Dasara': 1638, 'Diwali': 1692, 'Mornings': 2901, 'Afternoons': 1020, 'Evenings': 1818, 'Nights': 3011, 'RememberI': 3443, 'WISHING': 4294, 'THESEyours': 3926, 'Raj': 3408, 'joys': 7653, 'lifeis': 7899, 'daywith': 5994, 'thoughts': 10584, 'somewhereSomeone': 10044, 'tosend': 10716, 'greeting': 7048, 'selflessness': 9750, 'initiate': 7476, 'tallent': 10429, 'wasting': 11096, 'usc': 10922, 'payment': 8893, 'portal': 9067, 'explain': 6529, 'Dont4get2text': 1711, 'Jokin': 2476, 'lennon': 7869, 'bothering': 5230, 'crab': 5861, 'shoreThe': 9847, 'waves': 11110, 'footprints': 6755, 'Crab': 1547, 'clearing': 5640, 'Waves': 4356, 'fox': 6793, 'frndsship': 6835, 'dwn': 6320, 'Slaaaaave': 3744, 'summon': 10327, 'å£3365': 11536, 'changes': 5517, 'appendix': 4821, 'range': 9315, 'However': 2296, 'HM': 2154, 'Become': 1246, 'slob': 9964, 'smiled': 9986, 'Gudnite': 2108, 'topicsorry': 10707, 'Webpage': 4360, 'Yeesh': 4502, 'unsubscribed': 10890, 'hunks': 7358, 'httpgotbabescouk': 7329, 'subscriptions': 10297, 'Gopalettan': 2087, 'participate': 8859, 'admin': 4618, 'Kkfrom': 2544, 'abroad': 4558, 'xxSP': 11416, 'visionsmscom': 11012, 'stopCost': 10228, '08712400603': 109, 'agent': 4664, 'goodies': 6998, 'MAT': 2725, 'Ay': 1123, 'satÌ': 9668, 'Apart': 1077, 'andros': 4762, 'steal': 10196, 'IsaiahD': 2409, 'Hoping': 2285, 'meets': 8206, 'foot': 6751, 'penis': 8912, 'expert': 6525, 'sigh': 9886, 'Ssi': 3809, 'thinl': 10569, 'sachinjust': 9623, 'Others': 3144, 'Bye': 1349, 'importantly': 7428, 'Holding': 2272, 'tightly': 10614, 'Wnevr': 4419, 'fal': 6567, 'vth': 11039, 'books': 5214, 'fals': 6573, 'Yen': 4506, 'madodu': 8088, 'nav': 8480, 'pretsorginta': 9149, 'nammanna': 8462, 'pretsovru': 9150, 'alwa': 4731, 'eveB': 6469, 'window': 11230, 'LORD': 2602, 'RINGSRETURN': 3392, 'KING': 2502, 'NOWREPLY': 2968, 'LOTR': 2605, 'soundtrack': 10075, 'StdTxtRate': 3822, 'homelove': 7271, 'staffsciencenusedusgphyhcmkteachingpc1323': 10156, 'emigrated': 6398, 'hopeful': 7288, 'Olol': 3113, 'Hopefully': 2284, 'stagwood': 10158, 'winterstone': 11240, 'victors': 10988, 'hill': 7229, 'Address': 1009, 'jp': 7654, 'mofo': 8334, 'Pathaya': 3234, 'enketa': 6420, 'maraikara': 8134, 'priest': 9161, 'reserves': 9488, 'intrude': 7515, 'hun': 7352, 'walkabout': 11060, 'cashed': 5468, 'announced': 4773, 'blog': 5180, '28th': 471, '06': 18, 'removal': 9446, '08708034412': 96, 'Short': 3710, 'Cute': 1570, 'footie': 6754, 'blow': 5190, 'Phil': 3256, 'Neville': 2996, 'Abbey': 992, 'returning': 9525, 'knowing': 7753, 'roger': 9571, 'Small': 3752, 'auctionpunj': 4937, 'tiwary': 10640, 'str8': 10239, 'Classic': 1499, 'Polys': 3298, 'Nokia150p': 3031, 'Poly200p': 3296, 'fuckin': 6849, 'thurs': 10605, 'pre': 9122, 'cancelled': 5417, 'sacked': 9625, 'LookAtMe': 2675, 'clip': 5646, '35p': 561, 'MMSto': 2758, '32323': 555, 'barred': 5022, 'stores': 10235, 'lifeThis': 7896, 'twat': 10811, 'dungerees': 6310, 'decking': 6024, 'punch': 9245, 'mentionned': 8230, 'chinese': 5597, 'porn': 9064, 'RECD': 3375, 'MSGS': 2781, '150P': 353, 'INC': 2333, 'VAT': 4208, 'CANCEL': 1361, 'planned': 8999, 'onlydon': 8710, 'Grl': 2101, 'Hogolo': 2268, 'kodstini': 7762, 'Agalla': 1023, 'madstini': 8090, 'agalla': 4658, 'Hogli': 2267, 'mutai': 8435, 'eerulli': 6359, 'kodthini': 7763, 'kano': 7687, 'THASA': 3915, 'MESSED': 2739, 'UPYEH': 4144, 'CHEERS': 1386, 'TEX': 3903, 'MECAUSE': 2730, 'WEREBORED': 4275, 'YEAH': 4466, 'OKDEN': 3071, 'HUNNY': 2178, 'UIN': 4130, 'SATSOUNDåÕS': 3495, 'LIKEYOUR': 2585, 'HAVIN': 2133, 'GR8FUN': 2026, 'UPDAT': 4142, 'COUNTINLOTS': 1410, 'XXXXX': 4457, 'rang': 9314, 'L': 2562, 'tagged': 10412, 'count': 5844, 'BETTER': 1164, 'CAUSE': 1370, 'FEEL': 1853, 'USED': 4153, 'OTHERWISE': 3085, 'challenge': 5508, 'hdd': 7157, 'casing': 5471, 'opened': 8715, 'Isnt': 2411, 'describe': 6074, '09053750005': 193, '310303': 550, '08718725756': 154, '140ppm': 348, 'asus': 4914, 'randomly': 9312, 'reformat': 9406, 'Mah': 2802, 'otside': 8762, 'leu': 7882, 'plumbers': 9022, 'tape': 10435, 'wrench': 11332, 'httpwwwetlpcoukreward': 7335, 'bcum': 5051, 'films': 6657, 'appeal': 4819, 'thriller': 10591, 'director': 6153, '830': 820, 'size': 9931, 'elephant': 6385, 'shove': 9861, 'um': 10841, 'cr': 5860, 'pookie': 9054, 'MAYBE': 2729, 'WOKE': 4301, 'WOULDNT': 4315, 'PROBLEM': 3210, 'youdearwith': 11462, 'loverakhesh': 8025, 'NRI': 2970, '08712101358': 102, 'X2': 4445, 'ItåÕs': 2419, 'deserve': 6077, 'Sleep': 3745, 'tight': 10613, '88039SkilGmeTsCs087147403231WinawkAge16å£150perWKsub': 867, 'lick': 7890, 'diddy': 6115, 'neighbor': 8508, 'toothpaste': 10703, 'av': 4950, 'oneta': 8702, 'poking': 9039, 'everyday': 6482, 'canada': 5413, 'deam': 6003, 'curious': 5914, 'def': 6033, 'coccooning': 5672, 'auto': 4948, 'mus': 8427, 'YEAHAND': 4467, 'HAV': 2129, 'GREAT': 2029, 'NEWQUAYSEND': 2944, 'POSTCARD': 3203, 'AFTER': 934, 'WHILE': 4282, 'GONEU': 2008, '1IM': 402, 'TALKIN': 3886, 'BOUTxx': 1185, 'divorce': 6184, 'bread': 5259, 'windy': 11233, '09066358361': 256, 'Y87': 4465, 'mahal': 8100, 'knowthis': 7756, 'tirunelvai': 10635, 'dusk': 6316, 'solve': 10024, 'puzzles': 9264, 'X29': 4446, '450': 628, '09065989180': 252, 'stairs': 10159, 'phews': 8946, 'thangamits': 10513, 'redred': 9396, 'bloodblood': 5187, 'heartheart': 7175, '1u': 420, 'relation': 9423, '3u': 595, '4some1': 662, 'luvs': 8062, 'praying': 9120, 'Sup': 3862, 'recycling': 9393, 'People': 3240, 'earning': 6330, 'Toledo': 4071, 'Ron': 3473, 'ding': 6145, 'tai': 10414, 'feng': 6630, 'reservations': 9485, 'swimsuit': 10387, 'allowed': 4713, 'necessary': 8491, 'Frnd': 1965, 'accept': 4572, 'Squeeeeeze': 3806, 'hug': 7343, 'lik': 7908, 'frndshp': 6834, 'luvd': 8061, 'asks': 4900, 'themP': 10538, 'Funny': 1971, 'volcanoes': 11027, 'erupt': 6448, 'tsunamis': 10791, 'arise': 4862, 'hurricanes': 7363, 'sway': 10377, 'aroundn': 4873, 'disasters': 6163, 'lighters': 7906, '7pm': 789, 'Kkits': 2548, 'goodwhen': 7004, 'lasagna': 7815, 'vodka': 11024, 'KATE': 2499, 'drunk': 6289, 'chickened': 5574, 'messaged': 8244, 'woould': 11292, '08718726978': 159, 'city': 5620, 'drove': 6283, 'shore': 9846, 'takin': 10420, 'deus': 6091, '44': 618, '7732584351': 775, '3510i': 560, 'DeliveredTomorrow': 1658, '300': 538, 'tap': 10434, 'spile': 10114, 'broad': 5287, 'canal': 5414, 'engin': 6414, 'onedge': 8700, 'Raviyog': 3418, 'Peripherals': 3243, 'bhayandar': 5128, 'east': 6337, 'sunoco': 10335, 'howard': 7315, 'MOON': 2769, 'STARS': 3583, 'musical': 8431, 'Peaceful': 3238, 'plate': 9002, 'leftovers': 7858, 'Hang': 2195, 'Food': 1936, 'starving': 10181, 'cooked': 5808, 'Everyday': 1822, 'cheat': 5544, 'fatty': 6600, 'Badrith': 1223, 'chennaii': 5560, 'usno': 10932, 'owe': 8795, 'NIC': 2947, 'CHECKIN': 1383, 'NUMBERSO': 2973, 'ITTB': 2357, 'block': 5178, 'armenia': 4868, 'swann': 10374, '09058097189': 208, '09061221066': 217, 'fromm': 6840, '330': 558, '1120': 316, '1205': 328, 'smoking': 9993, 'wylie': 11404, 'justify': 7671, 'ruining': 9605, 'Meds': 2835, 'hunt': 7361, 'in2': 7439, '5226': 683, 'hava': 7149, '1131': 318, 'RCT': 3366, 'THNQ': 3931, 'Adrian': 1011, 'Rgds': 3458, 'Vatian': 4225, 'everyones': 6484, 'babysitting': 4988, 'Monday': 2890, 'Itll': 2414, 'GONNAMISSU': 2010, 'MUCHI': 2785, 'WOULD': 4314, 'SEND': 3507, 'BUTTHERES': 1212, 'ABOUTAS': 923, 'MEREMEMBERIN': 2736, 'ASTHERE': 976, 'OFSI': 3066, 'BREAKIN': 1198, 'CONTRACT': 1406, 'Yaxx': 4496, 'Ee': 1781, 'poortiyagi': 9059, 'odalebeku': 8650, 'Hanumanji': 2197, '1Hanuman': 400, '2Bajarangabali': 477, '3Maruti': 576, '4Pavanaputra': 644, '5Sankatmochan': 696, '6Ramaduth': 749, '7Mahaveer': 781, 'ee': 6357, 'janarige': 7598, 'ivatte': 7577, 'kalisidare': 7681, 'olage': 8688, 'ondu': 8698, 'keluviri': 7704, 'Maretare': 2817, 'inde': 7452, 'dodda': 6200, 'problum': 9189, 'nalli': 8457, 'siguviri': 9895, 'idu': 7403, 'matra': 8162, 'neglet': 8507, 'OR': 3081, 'NUMBER': 2972, 'Set': 3675, 'easily': 6336, 'forgets': 6766, 'bishan': 5152, 'INTO': 2346, 'TROUBLE': 3957, 'IJUST': 2320, 'TALKED': 3885, 'MORNING': 2772, 'Hyde': 2308, 'opps': 8730, 'tts': 10793, 'gei': 6913, 'tron': 10774, 'dl': 6186, 'selfish': 9749, 'spiffing': 10113, 'workage': 11303, 'craving': 5869, 'Fml': 1932, 'supose': 10345, 'muchi': 8409, 'babysit': 4987, 'therexx': 10550, 'spaces': 10084, 'embassy': 6395, 'Dat': 1639, 'lightly': 7907, 'custom': 5921, 'checkboxes': 5548, 'hardcore': 7137, 'Sac': 3619, 'hundredhe': 7354, 'batsman': 5040, 'yettys': 11444, 'Per': 3241, 'theory': 10543, 'jiayin': 7624, '09050000928': 185, 'PoBox45W2TG150P': 3288, 'GAS': 1982, 'STATION': 3585, 'forgotten': 6771, 'Reverse': 3457, 'cheating': 5545, 'mathematics': 8160, 'Ure': 4194, 'Caught': 1463, '2waxsto': 531, 'basic': 5028, 'emailed': 6391, 'yifeng': 11447, 'theyll': 10556, 'slurp': 9971, 'Minimum': 2857, '3miles': 590, 'ing': 7474, 'tuesday': 10797, 'Brainless': 1313, 'DollD': 1705, 'vehicle': 10971, 'sariyag': 9658, 'madoke': 8089, 'barolla': 5021, '07090201529': 23, 'postponed': 9087, 'stocked': 10219, 'elaine': 6379, 'tiime': 10617, 'tears': 10462, 'fml': 6734, 'afternon': 4651, 'interviews': 7510, 'Wun': 4442, 'resizing': 9491, 'STAR': 3582, '09066364349': 262, 'Box434SK38WP150PPM18': 1309, 'opposed': 8728, 'drunken': 6291, 'MSGWe': 2782, 'billed': 5138, 'shortcode': 9850, '83332Please': 827, '08081263000': 63, 'refundedThis': 9409, 'somerset': 10034, 'Bit': 1272, 'overtime': 8790, 'nigpun': 8544, 'dismissial': 6175, 'screwd': 9708, '08712402972': 114, 'Bull': 1338, 'floating': 6718, 'IKEA': 2321, 'mess': 8241, '09058095201': 207, 'Heehee': 2218, 'arithmetic': 4864, 'percentages': 8917, 'wouldnt': 11327, 'An': 1067, 'Amazing': 1060, 'Quote': 3360, 'tear': 10461, 'chillaxin': 5593, 'DAS': 1581, 'COOL': 1408, 'IKNOW': 2323, 'WELLDA': 4270, 'PERIL': 3163, 'STUDENTFINANCIAL': 3597, 'CRISISSPK': 1415, 'L8R': 2564, 'monster': 8353, 'ths': 10601, 'Tis': 4058, 'IAS': 2310, 'obey': 8638, 'resend': 9483, 'Uhhhhrmm': 4161, 'mb': 8177, 'gbpsms': 6908, '600': 714, '400': 600, 'Inclusive': 2383, 'delTOMORROW': 6043, '09066368470': 265, '24M': 452, 'Freemsg': 1958, '1month': 413, 'SmartCall': 3753, '68866': 732, 'Subscriptn3gbpwk': 3849, '08448714184': 68, 'Stoptxt': 3830, 'landlineonly': 7800, 'mths': 8404, 'cameravideo': 5408, 'å£s': 11559, 'textsweekend': 10507, 'callback': 5388, 'orno': 8752, 'fink': 6678, '09099726553': 287, 'promised': 9212, 'CARLIE': 1366, 'Callså£1minMobsmore': 1438, 'LKPOBOX177HP51FL': 2592, 'youPhone': 11457, 'atHome': 4916, 'youwanna': 11481, 'jack': 7588, 'sayask': 9676, 'helpful': 7194, 'pretend': 9148, 'hypotheticalhuagauahahuagahyuhagga': 7380, 'brainy': 5254, 'NEVER': 2942, 'STUDY': 3598, 'occasion': 8643, 'Celebrated': 1466, 'Reflection': 3438, 'Values': 4224, 'Desires': 1665, 'Affectionsamp': 1015, 'Traditions': 4087, 'Sending': 3665, 'greetings': 7049, 'cantdo': 5425, 'anythingtomorrow': 4803, 'myparents': 8442, 'aretaking': 4855, 'outfor': 8773, 'Katexxx': 2516, 'level': 7883, 'gate': 6900, 'Charles': 1474, 'uh': 10835, '89105': 881, 'Extra': 1843, 'ts': 10789, 'cs': 5896, 'wedding': 11133, 'lingerie': 7925, 'wwwbridalpetticoatdreamscouk': 11370, 'superb': 10341, 'Brought': 1329, 'WeddingFriend': 4362, 'board': 5197, 'overheating': 8789, 'reslove': 9492, 'inst': 7490, 'pending': 8910, '8o': 895, 'Mon': 2889, 'western': 11171, 'Sitting': 3736, 'outta': 8783, 'Nowadays': 3050, 'notixiquating': 8594, 'laxinorficated': 7837, 'bambling': 5006, 'entropication': 6433, 'oblisingately': 8640, 'opted': 8732, 'masteriastering': 8153, 'amplikater': 4747, 'fidalfication': 6638, 'champlaxigating': 5511, 'atrocious': 4921, 'Wotz': 4435, 'Opinion': 3130, 'Junna': 2491, 'knickers': 7749, '01223585236': 4, 'Nikiyu4net': 3012, 'accident': 4576, 'a30': 4545, 'divert': 6182, 'wadebridgeI': 11046, 'brilliant': 5277, 'vill': 11002, 'orc': 8742, 'Bloomberg': 1283, '447797706009': 620, 'Apply': 1081, 'httpcareers': 7327, 'bloombergcom': 5189, 'seeking': 9735, 'priscillas': 9172, 'january': 7600, 'dayexcept': 5986, 'wisdom': 11243, 'Eyes': 1845, 'Alwys': 1057, 'Touch': 4083, 'Inform': 2395, 'yetunde': 11445, 'Wherres': 4392, 'phone750': 8951, 'resolution': 9493, 'replyBe': 9469, 'frankgood': 6797, 'logoff': 7975, 'parkin': 8856, 'kent': 7705, 'vale': 10950, 'cannt': 5423, 'asa': 4887, '09050000878': 184, 'Wan2': 4337, 'MeetGreet': 2837, 'Westlife': 4374, 'm8': 8073, '1Unbreakable': 407, '2Untamed': 496, '3Unkempt': 582, '83049': 823, 'prince': 9163, 'charming': 5532, 'mention': 8228, 'served': 9777, 'arnt': 4871, 'xxxxxxxxxxxxxX': 11421, 'Dorothykiefercom': 1715, 'Granite': 2095, 'StrongBuy': 3836, 'EXPLOSIVE': 1767, 'OUR': 3086, 'MEMBERS': 2735, 'Nasdaq': 2980, 'Symbol': 3875, 'CDGT': 1373, 'alle': 4711, 'moneeppolum': 8346, 'oru': 8755, 'allalo': 4709, 'fundamentals': 6863, 'Walk': 4335, '101mega': 303, 'pixels': 8987, '3optical': 592, '5digital': 701, 'dooms': 6232, 'PeteynoiåÕm': 3251, 'timehope': 10623, 'alritehave': 4725, 'js': 7655, 'amx': 4751, 'burgundy': 5331, 'captaining': 5434, 'base': 5026, 'Staff': 3813, 'placement': 8992, 'Amrita': 1065, 'profile': 9200, 'bpo': 5250, 'didn‰Û÷t': 6119, 'nighters': 8538, 'persevered': 8930, 'regretted': 9419, 'Hanging': 2196, 'wasnåÕt': 11092, 'spouse': 10137, 'pmt': 9028, 'sumthin': 10328, '4give': 655, 'shldxxxx': 9837, 'thatd': 10522, 'scenario': 9687, 'SPUNOUT': 3579, 'DEAD': 1589, 'WRLD': 4321, 'BEEN': 1158, 'SLEEPING': 3538, 'SOFA': 3550, 'Guaranteed': 2105, '09071517866': 274, '150ppmPOBox10183BhamB64XE': 370, 'Eve': 1815, '10am': 307, 'Thurs': 4047, 'Tyler': 4125, 'pounded': 9093, 'Lion': 2656, 'devouring': 6096, 'inform': 7465, 'Airtel': 1032, 'Broadband': 1327, 'processed': 9193, 'installation': 7492, 'tensed': 10488, 'coughing': 5839, 'warned': 11084, 'Sprint': 3804, 'prolly': 9208, 'TH': 3910, 'GOWER': 2025, 'MATE': 2728, 'WHICH': 4281, 'WHERE': 4280, 'ILL': 2326, 'åÔMORROW': 11564, 'åÐ': 11561, 'RANDOM': 3364, 'Rock': 3467, 'chik': 5576, '100s': 300, 'filthy': 6658, 'FILTH': 1859, '69669': 735, 'Saristar': 3636, 'E14': 1733, '9YT': 912, '08701752560': 82, '450p': 629, 'Stop2': 3829, 'cancel': 5415, 'Din': 1679, '420': 611, '9061100010': 900, 'Wire3net': 4411, '1st4Terms': 417, 'PoBox84': 3290, 'MobcudB': 2876, 'alreadysabarish': 4721, 'Vijay': 4236, 'jaya': 7605, '09050000460': 182, 'J89': 2431, 'box245c2150pm': 5241, 'inpersonation': 7485, 'flea': 6707, 'forums': 6783, 'BANNEDUK': 1141, 'itlet': 7566, 'highest': 7227, 'å£54': 11549, 'maximum': 8172, 'å£71': 11553, 'BIDS': 1166, 'NYs': 2976, 'TAJ': 3881, 'MAHAL': 2717, 'symbol': 10396, 'lesser': 7875, 'known': 7754, 'facts': 6554, 'Mumtaz': 2919, 'Shahjahans': 3684, 'wifes': 11217, 'Shahjahan': 3683, 'Mumtazs': 2920, 'Question': 3354, 'arises': 4863, 'Hell': 2221, 'Hari': 2201, 'okcome': 8680, 'Collect': 1513, 'PARIS': 3154, 'Flight': 1929, 'Hotel': 2291, '69101': 733, 'wwwrtfsphostingcom': 11390, 'webadres': 11128, 'geting': 6929, 'Sends': 3666, 'Incredible': 2385, 'O2FWD': 3062, '18ptxt': 392, 'ship': 9826, 'maturity': 8168, 'EVENING': 1755, 'confirmed': 5766, 'passport': 8876, 'Multiply': 2917, 'independently': 7454, 'decimal': 6020, 'showed': 9864, 'twins': 10815, 'strt': 10260, 'LtdHelpDesk': 2694, '02085076972': 13, 'equally': 6440, 'uneventful': 10864, 'pesky': 8939, 'cyclists': 5932, 'wereare': 11166, 'nalla': 8456, 'adi': 4616, 'entey': 6428, 'nattil': 8473, 'kittum': 7743, 'KAVALAN': 2500, 'hire': 7239, 'hitman': 7244, 'Colour': 1514, 'Delivered': 1657, '200': 424, 'YOUVE': 4488, 'Won': 4422, 'Winner': 4407, '09066660100': 271, '2309': 445, 'Cps': 1546, 'causing': 5484, 'outages': 8769, 'conserve': 5778, 'voted': 11032, 'epi': 6438, 'bare': 5018, 'bhaskar': 5127, 'dubsack': 6299, 'individual': 7458, 'gong': 6991, 'kaypoh': 7695, 'football': 6752, 'basketball': 5030, 'outdoors': 8771, 'macho': 8081, 'interfued': 7505, 'blank': 5165, 'listed': 7938, 'Alfie': 1044, 'CHARITY': 1380, 'nokias': 8564, 'apology': 4816, 'hustle': 7371, 'forth': 6780, 'audition': 4939, 'harlem': 7140, 'Goin': 2075, 'workout': 11306, 'fats': 6599, 'zac': 11494, 'SENT': 3509, 'tonights': 10689, 'Hui': 2303, 'xin': 11409, 'lib': 7888, 'difference': 6129, 'versus': 10979, 'edge': 6348, 'underdtand': 10856, 'SAME': 3491, 'LETS': 2580, '4GET': 641, 'ITBOTH': 2354, 'CHEER': 1384, 'UPNOT': 4143, 'FIT': 1866, 'SOO': 3556, 'MUCHXXLOVE': 2786, 'LOCAXX': 2595, '07090298926': 24, 'reschedule': 9481, 'Ref9307622': 3436, 'skateboarding': 9933, 'despite': 6082, 'thrown': 10597, 'winds': 11232, 'bandages': 5008, 'mytonecomenjoy': 8445, 'html': 7325, 'GBP450week': 1986, 'MFL': 2741, 'sky': 9940, 'hectic': 7182, 'fell': 6626, 'swoop': 10392, 'wamma': 11072, 'laidwant': 7792, 'doggin': 6208, 'dogs': 6211, 'nownyt': 8607, 'Langport': 2626, 'virtual': 11010, 'Senthil': 3669, 'Apnt': 1078, 'Studying': 3838, 'pants': 8833, 'Waiti': 4331, 'langport': 7804, 'go2sri': 6968, 'lanka': 7806, 'wordnot': 11298, 'merely': 8236, 'relationshipits': 9424, 'Wherevr': 4391, 'Forevr': 1942, 'Gudnyt': 2110, 'mistakes': 8309, 'Darling': 1636, 'Sugar': 3853, 'plum': 9021, 'Loverboy': 2688, 'smacks': 9972, '50s': 680, 'alot': 4719, 'formatting': 6776, 'attracts': 4933, 'Promotion': 3330, '8714714': 862, 'Vegas': 4226, 'vegas': 10968, 'lou': 8015, 'Lancaster': 2623, 'Neway': 2998, 'couldnåÕt': 5843, 'båÕday': 5362, 'soc': 10014, 'bsn': 5306, 'advising': 4636, 'lobby': 7962, 'texted': 10502, 'showered': 9866, 'erything': 6449, 'vewy': 10981, 'lubly': 8048, 'Rs5': 3480, '087147123779am7pm': 125, 'Sbut': 3645, 'luck2': 8050, 'catches': 5478, 'specify': 10100, 'domain': 6222, 'nusstu': 8624, 'Ohi': 3101, 'Hahatake': 2187, 'Kent': 2523, 'habit': 7093, 'bari': 5020, 'hudgi': 7342, 'yorge': 11455, 'pataistha': 8879, 'ertini': 6446, 'Hasbroin': 2203, 'AUGUST': 980, 'jump': 7663, 'hoops': 7283, 'lateso': 7825, 'morningtake': 8364, 'dreamsu': 6264, 'meummifyingbye': 8255, 'Networking': 2993, 'associate': 4907, 'rip': 9553, 'uterus': 10937, 'pool': 9055, 'jacuzzi': 7591, 'X49': 4447, '09065989182': 253, 'colourredtextcolourTXTstar': 5699, 'Blank': 1278, '2nights': 521, 'Uks': 4163, 'wildest': 11222, 'splwat': 10123, 'whr': 11207, 'Aldrine': 1041, 'rakhesh': 9305, 'RTM': 3401, 'herepls': 7204, 'callurgent': 5402, 'sources': 10078, 'unhappiness': 10868, 'necesity': 8489, 'witout': 11260, 'hwd': 7376, 'colleg': 5693, 'watll': 11107, 'wth': 11347, 'functions': 6861, 'events': 6475, 'espell': 6455, 'irritated': 7538, '4wrd': 672, 'dearloving': 6008, 'wthout': 11348, 'jst': 7656, 'Takecare': 3973, 'Old': 3112, 'Orchard': 3138, 'univ': 10877, 'rajas': 9303, 'burrito': 5337, 'It‰Û÷s': 2420, 'Disconnect': 1687, 'callcoz': 5390, 'iz': 7579, 'terrorist': 10493, 'Itz': 2418, 'confirmd': 5764, 'motorola': 8374, 'verified': 10975, 'CNN': 1397, 'IBN': 2313, 'stitch': 10217, 'trouser': 10777, '146tf150p': 350, 'Wednesday': 4363, 'cheetos': 5557, 'synced': 10397, 'shangela': 9807, 'hppnss': 7321, 'sorrow': 10060, 'forevr': 6763, 'GOODFRIEND': 2013, 'passes': 8873, '08704439680': 88, 'againloving': 4656, 'poo': 9053, 'gloucesterroad': 6965, 'uup': 10940, 'ouch': 8764, 'stayed': 10190, 'ASKED': 975, 'forgiveness': 6769, 'glo': 6961, '09058095107': 206, 'S3XY': 3484, 'Yesmum': 4515, 'wlcome': 11270, 'eaten': 6341, 'lion': 7930, 'timi': 10627, 'Mila': 2850, 'age23': 4662, 'blonde': 5184, 'MTALK': 2783, '6986618': 739, '30pptxt': 545, '5free': 702, 'increments': 7451, 'Help08718728876': 2229, 'fishrman': 6690, 'sack': 9624, 'ful': 6854, 'stones': 10225, 'strtd': 10261, 'throwin': 10595, 'Atlast': 1108, '1stone': 419, 'MoralDont': 2897, '08717895698': 149, 'MobStoreQuiz10ppm': 2875, 'physics': 8959, 'ArPraveesh': 1084, 'delicious': 6048, 'transaction': 10742, 'Salad': 3625, 'desert': 6076, 'beers': 5080, 'WHORE': 4285, 'UNBELIEVABLE': 4135, 'funk': 6865, 'TONES2U': 3945, 'Twinks': 4117, 'bears': 5059, 'scallies': 9682, 'skins': 9936, 'jocks': 7630, '08712466669': 120, '08712460324nat': 119, 'flood': 6719, 'dr': 6251, 'beads': 5057, 'wishlist': 11250, 'section': 9727, 'nitro': 8552, 'History': 2248, 'Comfort': 1517, 'Luxury': 2704, 'Sold': 3765, 'OnionRs': 3120, 'PetrolRs': 3252, 'BeerRs': 1251, 'nvm': 8626, 'armands': 4867, 'creative': 5874, 'fakemy': 6565, 'reffering': 9403, 'uif': 10836, 'rs': 9597, 'getiing': 6928, 'rsi': 9598, 'weirdy': 11153, 'brownies': 5299, '09061701851': 220, 'K61': 2497, '12hours': 336, 'restrict': 9511, 'funeral': 6864, 'Audrey': 1111, 'godnot': 6976, 'chikkuk': 5583, 'vivek': 11019, '74355': 770, 'iscoming': 7546, 'TnC': 4064, 'brah': 5251, 'exams': 6500, 'possession': 9074, 'outif': 8776, 'greece': 7045, 'protect': 9227, 'ethreats': 6463, 'SIB': 3527, 'sensitive': 9766, 'PasswordsATMSMS': 3233, 'PIN': 3173, 'recorded': 9387, 'someday': 10029, 'Goodmorningmy': 2082, 'grandfather': 7028, 'expiredso': 6527, 'Blu': 1284, 'concert': 5753, 'November': 3047, '09061104276': 212, 'TSCs': 3961, 'costå£375max': 5836, 'yuou': 11493, 'pc': 8897, 'spot': 10135, 'ipad': 7530, 'bunch': 5325, 'lotto': 8012, 'Deal': 1645, 'Early': 1771, 'bird': 5146, 'purchases': 9252, 'authorise': 4947, '645pm': 728, 'Thatll': 4011, 'HOWS': 2171, 'HONEYDID': 2160, 'HOLIDAY': 2158, 'GIMMI': 1995, 'GOSSx': 2021, 'painit': 8823, 'todaydo': 10660, 'ystrdayice': 11489, 'chile': 5591, 'subletting': 10288, 'febapril': 6615, 'ammaelife': 4740, 'steering': 10201, 'anythings': 4802, 'sleeps': 9952, 'rounderso': 9588, 'required': 9478, 'truekDo': 10780, 'lambu': 7795, 'ji': 7623, 'cometil': 5709, 'batchlor': 5035, 'zoom': 11499, 'nowSend': 8601, '62220Cncl': 721, 'STOPCS': 3591, '08717890890å£150': 148, 'cheese': 5555, 'åÒHarry': 11562, 'pink': 8981, 'RingtoneFrom': 3464, 'httptms': 7331, 'widelivecomindex': 11213, 'wmlid1b6a5ecef91ff937819firsttrue180430JUL05': 11272, 'xafter': 11406, 'cst': 5897, 'chg': 5569, 'pure': 9253, 'hearted': 7173, 'hisher': 7241, 'enemies': 6408, 'SMILEY': 3543, 'GAIL': 1978, 'NEVA': 2941, 'WRONGTAKE': 4322, 'SWEET': 3616, 'WORRYC': 4311, 'L8TR': 2565, 'HUNLOVE': 2177, 'Yaxxx': 4497, 'Theoretically': 4022, 'hooked': 7282, 'therere': 10548, 'formallyPls': 6774, 'prayingwill': 9121, 'multimedia': 8414, 'senthilhsbc': 9770, 'vague': 10947, 'accounting': 4585, 'delayed': 6045, 'housing': 7313, 'agency': 4663, 'renting': 9455, 'presents': 9142, 'Loads': 2665, 'nicky': 8534, 'Gumbys': 2115, 'httpalto18coukwavewaveaspo44345': 7326, 'sized': 9932, 'tarpon': 10437, 'springs': 10141, 'Cab': 1426, 'availablethey': 4954, 'steps': 10203, 'oktake': 8684, 'careumma': 5451, 'Unlimited': 4180, 'Limited': 2652, 'call2optoutHF8': 5382, 'YESTERDAY': 4478, '09061702893': 222, 'practice': 9109, '07XXXXXXXXX': 48, '08719181259': 172, '260305': 460, 'handset': 7116, 'Line': 2654, 'deartake': 6011, 'radiator': 9291, 'Serious': 3672, 'proper': 9220, 'tongued': 10687, 'shorts': 9853, 'qi': 9269, 'suddenly': 10308, 'flurries': 6728, 'melt': 8216, 'ground': 7058, 'Eek': 1782, 'born': 5223, 'FREERingtone': 1882, 'REAL1': 3369, 'PushButton': 3342, 'DontCha': 1712, 'BabyGoodbye': 1220, 'GoldDigger': 2078, 'WeBeBurnin': 4358, 'perform': 8920, 'cards': 5439, 'rebooting': 9363, 'Nigh': 3009, 'Nooooooo': 3036, 'Cable': 1427, 'outage': 8768, 'Sos': 3781, 'Playin': 3275, 'guoyang': 7083, 'rahul': 9296, 'dengra': 6056, 'STRIKE': 3594, 'RED': 3378, 'BIRD': 1170, 'ANTELOPE': 963, 'TOPLAY': 3952, 'FIELDOF': 1855, 'SELFINDEPENDENCE': 3506, 'BELIEVE': 1162, 'CONTENTION': 1405, 'GROWRANDOM': 2030, 'Gnarls': 2069, 'Barkleys': 1232, 'TOTALLY': 3954, 'borderline': 5219, 'Until': 4185, '545': 690, 'nightnight': 8539, 'possibility': 9077, 'HMM': 2155, 'grooved': 7055, 'affairs': 4640, 'mising': 8296, 'Refused': 3439, 'Secured': 3657, 'Unsecured': 4182, '195': 394, '6669': 730, 'lanre': 7807, 'fakeyes': 6566, 'Eckankar': 1779, 'ph': 8942, '3000': 539, '09061743386': 223, 'heater': 7178, 'degrees': 6040, 'dodgey': 6201, 'Expecting': 1838, 'Call2OptOut674': 1430, 'We‰Û÷re': 4378, 'seing': 9744, 'faceasssssholeeee': 6549, 'CERI': 1376, 'REBEL': 3374, 'DREAMZ': 1622, 'LITTLE': 2590, 'BUDDY': 1209, '2MORO': 485, 'NEEDS': 2937, 'BLOKES': 1174, 'ringtoneking': 9550, '84484': 841, 'Nationwide': 2984, 'Newport': 2999, 'Whatever': 4380, 'juliana': 7661, 'Sort': 3780, 'nachos': 8450, 'eta': 6460, 'Dizzamn': 1693, 'suitemates': 10321, 'Nimbomsons': 3013, 'Obviously': 3092, 'continent': 5792, 'housewives': 7311, '08717507711': 146, 'BTnational': 1206, 'landlines': 7801, 'å£400': 11539, '087104711148': 101, 'emerging': 6397, 'fiendmake': 6640, 'muchimpede': 8410, 'hesitant': 7215, 'ow': 8794, 'deyi': 6099, '60400thousadi': 716, 'FINE': 1862, 'BABES': 1130, 'AINT': 947, 'THO': 3932, 'SAW': 3496, 'SCARY': 3498, 'MOVIE': 2774, 'YEST': 4477, 'QUITE': 3346, 'FUNNY': 1898, 'AFTERNOON': 935, 'MALL': 2719, 'SUMTHINxx': 3605, 'nose': 8581, 'essay': 6457, 'Cannot': 1449, 'tram': 10740, 'vic': 10986, 'Discussed': 1688, 'coherently': 5679, 'Triple': 4093, 'Echo': 1778, 'Pie': 3263, 'GRAN': 2027, 'ONLYFOUND': 3078, 'AFEW': 933, 'DAYS': 1586, 'AGOCUSOON': 943, 'HONI': 2161, 'Dial': 1671, 'Bx526': 1347, 'University': 4177, 'southern': 10080, 'california': 5376, 'rayan': 9323, 'macleran': 8083, 'Balls': 1226, 'evenings': 6473, 'olave': 8689, 'mandara': 8124, 'trishul': 10772, 'Woo': 4425, 'hoo': 7279, 'italian': 7560, 'panties': 8832, 'Thout': 4045, 'CHOSEN': 1389, 'AWARD': 986, '09066364311': 261, 'flatter': 6705, 'pints': 8982, 'carlin': 5453, 'literally': 7946, 'Ciao': 1495, 'X49Your': 4448, 'starve': 10180, 'impression': 7434, 'Motivate': 2906, 'Behind': 1254, 'darkness': 5965, 'timeyou': 10626, 'wknd': 11268, 'nan': 8463, 'yalrigu': 11425, 'heltiniIyo': 7197, 'kothi': 7770, 'shared': 9811, 'meso': 8240, 'uttered': 10939, 'trusting': 10784, 'meok': 8233, 'chikkuB': 5578, 'Noice': 3027, 'esaplanade': 6450, 'accessible': 4574, '08709501522': 99, '139': 345, 'LA3': 2568, '2WU': 498, 'å£150week': 11525, 'occurs': 8647, 'Prof': 3328, 'sem': 9754, 'congrats': 5770, 'Student': 3837, 'Enna': 1802, 'kalaachutaarama': 7679, 'coco': 5676, 'Fyi': 1975, 'sporadically': 10132, 'bc': 5047, 'Dating': 1642, '09064017305': 241, 'PoBox75LDNS7': 3289, 'TBSPERSOLVO': 3891, 'forå£38': 6787, 'Kath': 2517, 'Manchester': 2811, 'youåÕre': 11483, 'jess': 7618, 'burden': 5329, 'Loans': 2667, 'Credit': 1552, 'NoWorriesLoanscom': 3020, '08717111821': 142, 'actual': 4604, 'harder': 7138, 'NBME': 2935, 'sickness': 9884, 'Kick': 2530, 'goals': 6971, 'VILLA': 4213, 'sathya': 9663, 'Gam': 2038, 'smash': 9978, 'religiously': 9431, 'feb': 6614, 'Soup': 3784, 'Chart': 1475, 'Heroes': 2234, 'Ringtones': 3465, 'tips': 10632, 'Lemme': 2642, '07973788240': 47, '08715203649': 133, 'dealing': 6001, 'Muhommad': 2916, 'Penny': 3239, 'doc': 6194, 't': 10401, 'hubby': 7340, 'fiting': 6692, 'load': 7958, 'hwkeep': 7377, 'mj': 8314, 'unconvinced': 10852, 'elaborate': 6377, 'willpower': 11226, 'Real': 3426, 'value': 10955, 'absence': 4559, 'answerin': 4784, 'reasonable': 9358, 'åÈ10': 11560, 'evey': 6488, 'mnth': 8318, 'prin': 9162, '‰ÛThanks': 11567, 'GSOH': 2031, 'SPAM': 3565, 'ladiesU': 7786, 'male': 8116, 'gigolo': 6943, 'uks': 10838, 'mens': 8226, 'ONCALL': 3075, 'mjzgroup': 8315, '087143423992stop': 124, 'msgå£150rcvd': 8400, 'ashwini': 4893, '08707500020': 92, 'tomorrowtoday': 10682, 'UKP2000': 4132, '09061790125': 230, 'Seem': 3659, 'jokethet': 7644, 'skinny': 9935, 'lineyou': 7924, 'casting': 5473, 'hockey': 7254, 'elections': 6383, 'shouldn‰Û÷t': 9858, '116': 321, 'hlday': 7249, 'horrible': 7296, 'camp': 5409, 'Amrca': 1064, 'Serena': 3671, 'Doc': 1698, 'prescribed': 9137, 'meds': 8199, 'kappa': 7691, 'meatballs': 8195, 'approve': 4836, 'panalambut': 8828, 'SPJanuary': 3571, 'fortune': 6781, 'allday': 4710, 'piss': 8984, 'boys': 5247, 'perf': 8918, 'outsider': 8781, 'receipts‰ÛÓwell': 9370, 'What‰Û÷s': 4383, 'carry': 5459, '98321561': 909, 'familiar': 6575, 'Expression': 1842, 'depression': 6069, 'Loved': 2685, 'Ni8': 3002, 'Infact': 2394, 'Simpsons': 3725, 'Movie': 2909, 'band': 5007, 'AGreen': 944, 'BBlue': 1148, 'CRed': 1417, 'cramps': 5863, 'canåÕt': 5427, 'cornwall': 5820, 'isnåÕt': 7552, 'itåÕs': 7575, 'shite': 9832, 'iåÕm': 7582, 'kip': 7737, 'hont': 7278, 'Amanda': 1059, 'regard': 9412, 'renewing': 9452, 'upgrading': 10897, '3680': 564, 'subject': 10287, 'Ts': 4102, 'nannys': 8466, 'fighting': 6644, 'puts': 9260, 'perspective': 8937, 'sonot': 10050, 'conveying': 5803, 'karaoke': 7692, 'debating': 6014, 'Feeling': 1911, 'httpwwwwtlpcouktext': 7338, 'guessing': 7077, 'jb': 7609, 'youso': 11477, 'university': 10878, 'florida': 6722, 'teeth': 10469, 'hidden': 7222, 'royal': 9593, 'tog': 10663, 'teams': 10460, 'swhrt': 10385, 'deyhope': 6098, '2daylove': 503, 'misstake': 8305, '0906346330': 235, 'Spanish': 3788, '47': 633, 'PO19': 3182, '2EZ': 479, 'general': 6915, 'ifwhenhow': 7407, 'Moment': 2887, 'dayhas': 5987, 'valueMorning': 10956, 'hopeafternoon': 7286, 'faithEvening': 6563, 'luvNight': 8060, 'restWish': 9507, 'todayGood': 10658, 'jetton': 7621, 'friendofafriend': 6822, 'cmon': 5665, 'fantasy': 6586, 'sticky': 10212, 'replies': 9467, 'Wylie': 4443, 'dealer': 5999, 'lunsford': 8057, 'enjoying': 6419, 'ORANGE': 3082, '0796XXXXXX': 46, 'DAY2': 1585, 'THERES': 3925, 'PRIZEAWAITING': 3209, 'kfc': 7713, 'meals': 8187, 'gravy': 7036, 'dahe': 5944, 'daalways': 5937, 'thisdon': 10572, 'messagepandy': 8247, 'These': 4028, '07008009200': 21, 'attended': 4928, 'mw': 8438, 'tuth': 10807, 'mines': 8278, 'Stupid': 3840, 'eviction': 6489, 'Spiral': 3794, 'Michael': 2847, 'riddance': 9538, 'suffers': 10313, 'violence': 11006, 'raglan': 9295, 'edward': 6355, 'cricket': 5882, 'closeby': 5650, 'daplease': 5960, 'skye': 9941, 'bookedthe': 5212, 'hut': 7372, 'drastic': 6255, 'FREEMSG': 1879, 'records': 9389, 'indicate': 7457, '3750': 567, 'Accident': 999, 'garments': 6897, 'Sez': 3679, 'arab': 4847, 'evry1': 6494, 'eshxxxxxxxxxxx': 6453, 'LAY': 2575, 'bimbo': 5143, 'ugos': 10834, 'Safe': 3622, 'Show': 3713, 'Euro': 1811, '241': 448, 'Flag': 1928, '3Lions': 574, 'portege': 9068, 'm100': 8072, 'semiobscure': 9757, 'PASS': 3159, 'polyphonic': 9047, 'gprs': 7018, 'repeat': 9460, 'Loosu': 2680, 'careless': 5447, 'freaking': 6801, 'MySpace': 2928, 'logged': 7971, 'PARTNERS': 3157, 'method': 8254, 'calculation': 5374, 'blur': 5195, 'clothes': 5657, 'jewelry': 7622, 'Block': 1281, 'Breaker': 1319, 'deluxe': 6052, 'features': 6613, 'graphics': 7032, 'å£5': 11542, 'BBDELUXE': 1145, 'lush': 8058, 'fumbling': 6858, 'day2find': 5985, 'stone': 10223, 'taunton': 10443, 'weekdays': 11140, 'Haiz': 2190, 'Cut': 1569, 'nails': 8454, 'nobodys': 8559, 'common': 5719, 'asia': 4894, 'greatest': 7042, 'courage': 5850, 'bear': 5058, 'defeat': 6034, 'heartgn': 7174, 'tc': 10451, 'STIL': 3586, 'FUCKED': 1893, 'NITE': 2951, 'WENT': 4272, 'TOBED': 3939, '430': 616, 'Beauty': 1242, 'pimples': 8978, 'Natalja': 2982, '25F': 458, 'YES440': 4474, 'NO440': 2957, 'wwwSMSacunat27081980': 11367, 'asthma': 4910, 'attack': 4924, 'Ball': 1225, 'moving': 8384, 'spin': 10115, 'Haiyoh': 2189, 'million': 8267, 'auntys': 4945, '02': 7, 'prsn': 9232, 'somtimes': 10046, 'saves': 9672, 'nothin': 8588, 'Science': 3649, 'sunlight': 10333, 'BCozI': 1153, 'loss': 8004, 'audiitions': 4938, 'relocate': 9432, 'pocked': 9031, 'motivating': 8371, 'sharing': 9812, 'brison': 5285, 'spelled': 10107, 'caps': 5432, 'bullshit': 5324, 'GWR': 2035, 'motherfucker': 8370, 'Kit': 2538, 'Strip': 3834, '1013': 302, 'IG11': 2319, 'OJA': 3069, '08712402578': 111, 'thesmszonecom': 10554, 'anonymous': 4777, 'masked': 8149, 'messagesim': 8250, 'theredo': 10546, 'abuse': 4564, 'Woodland': 4426, 'avenue': 4960, 'parish': 8852, 'magazine': 8094, 'TA': 3880, 'billy': 5141, 'jogging': 7633, 'Awww': 1122, 'useless': 10927, 'loo': 7988, 'helloed': 7190, 'shelf': 9820, 'swollen': 10391, 'glands': 6958, 'previous': 9154, 'Captain': 1451, 'bcaz': 5048, 'STU': 3595, '2IM': 483, 'TRUBLE': 3958, 'MOMENT': 2763, 'EVONE': 1760, 'HATES': 2127, 'EVEN': 1754, 'HELL': 2137, 'AV': 981, 'WONT': 4305, 'BCK': 1149, 'DAN': 1579, 'mokka': 8336, 'view': 10996, 'gays': 6906, 'dual': 6297, 'hostile': 7302, 'haircut': 7102, 'breezy': 5270, '09061744553': 227, 'polyH': 9044, '1AppleDayNo': 396, 'Doctor': 1699, '1Tulsi': 405, 'LeafDayNo': 2637, 'Cancer': 1448, '1LemonDayNo': 403, 'Fat': 1907, '1Cup': 397, 'MilkdayNo': 2853, 'Bone': 1291, 'Problms': 3327, 'Litres': 2658, 'WatrDayNo': 4354, 'Diseases': 1689, 'Snd': 3760, 'Care': 1453, 'ALSO': 953, 'lavender': 7835, 'manky': 8128, 'scouse': 9699, 'stevelike': 10208, 'travelling': 10756, 'homewot': 7272, 'inmind': 7478, 'recreation': 9392, 'epsilon': 6439, 'mesages': 8238, 'judgementali': 7658, 'fridays': 6818, 'Hidid': 2242, 'waheeda': 11050, 'bot': 5227, 'notes': 8587, 'Rent': 3451, 'deary': 6012, 'Fun': 1970, 'although': 4730, 'eventually': 6476, 'tolerance': 10673, 'fucked': 6848, 'hits': 7245, '0789xxxxxxx': 44, 'HELLOGORGEOUS': 2139, 'CHARGE': 1379, 'LST': 2614, 'NITW': 2953, 'TEXD': 3904, 'HOPEU': 2163, 'AD': 929, 'WKEND': 4299, 'LOOKIN': 2601, '4WARD': 648, 'CIN': 1390, 'JAZ': 2437, '09058091870': 197, 'POBox84': 3191, 'Exorcism': 1836, 'Emily': 1794, 'About': 996, 'gooD': 6993, 'Evry': 1829, 'Emotion': 1795, 'dsnt': 6295, 'WordsEvry': 4429, 'Prayrs': 3312, 'SmileD': 3755, 'uOthrwise': 10830, 'Stay': 3820, 'uSo': 10831, 'Ujhhhhhhh': 4162, 'sandiago': 9649, 'parantella': 8845, 'Wtf': 4440, 'Poop': 3299, 'hugging': 7345, 'sweater': 10379, 'mango': 8126, 'massive': 8152, 'involved': 7526, 'å£600': 11552, 'Complete': 1522, 'landmark': 7802, 'Big': 1265, 'Bob': 1288, 'Barry': 1233, 'Ben': 1257, '83738': 834, 'fineabsolutly': 6670, 'consent': 5777, 'forms': 6778, 'TONEXS': 3947, 'renewed': 9451, 'wwwclubzedcouk': 11373, 'BILLING': 1169, 'wwwtcbiz': 11394, 'Polo': 3294, 'Suite': 3854, '373': 566, 'W1J': 4251, '6HL': 747, 'can‰Û÷t': 5428, 'Mathews': 2825, 'tait': 10415, 'edwards': 6356, 'anderson': 4757, 'haunt': 7147, 'promoting': 9214, 'Joke': 2474, 'crowd': 5890, 'cardiff': 5437, '8000930705': 794, 'snowboarding': 10010, 'goa': 6969, 'Sim': 3722, 'christmassy': 5613, 'RECPT': 3377, '13': 340, 'Baaaaaaaabe': 1215, 'ignoring': 7410, 'Shola': 3705, 'academic': 4568, 'Sagamu': 3623, 'lautech': 7834, 'vital': 11017, 'completes': 5735, 'education': 6352, 'Nigeria': 3008, 'zealand': 11495, 'qet': 9268, 'FRIENDS': 1886, 'CLoSE': 1395, 'UNDERSTaND': 4136, 'TRUE': 3959, 'STaY': 3600, 'dial': 6104, 'browser': 5301, 'surf': 10359, 'subscribers': 10295, 'GB': 1983, 'wellyou': 11159, 'lifeyou': 7901, 'CONVINCED': 1407, 'thati': 10524, 'conversations': 5799, 'usGET': 10919, 'timeYour': 10621, 'sensesrespect': 9764, 'overemphasiseor': 8788, 'Headset': 2212, 'ADP': 932, 'internal': 7506, 'extract': 6539, 'godYou': 6975, 'immed': 7421, 'skint': 9937, 'fancied': 6580, 'bevieswaz': 5122, 'othrs': 8761, 'spoon': 10131, 'watchng': 11103, 'planet': 8997, 'earthsofa': 6333, 'comfey': 5710, 'quitting': 9283, 'least5times': 7849, 'wudnt': 11350, 'coast': 5669, 'ÌÏll': 11505, 'MMM': 2757, 'Ima': 2376, 'frequently': 6813, 'messageit': 8245, 'cupboard': 5911, 'route': 9590, '2mro': 516, 'yellow': 11436, 'floppy': 6721, 'snappy': 10003, 'risk': 9555, 'grasp': 7033, 'flavour': 6706, 'laready': 7812, 'denying': 6062, 'Dom': 1707, 'TAMPA': 3888, 'FFFFUUUUUUU': 1854, 'annie': 4770, 'julianaland': 7662, 'oblivious': 8641, 'upsetits': 10905, 'dehydrated': 6041, 'mapquest': 8132, 'dogwood': 6212, 'suppose': 10353, 'archive': 4848, 'UKmobiledate': 4133, '08719839835': 175, 'Future': 1972, 'mgs': 8256, '89123': 882, 'lengths': 7868, 'behalf': 5091, 'stunning': 10280, 'visa': 11011, 'gucci': 7071, 'shits': 9834, 'CALLIN': 1356, 'BABESOZI': 1131, 'CULDNT': 1419, 'TALKBUT': 3884, 'WANNATELL': 4259, 'DETAILS': 1594, 'LATER': 2574, 'WENWECAN': 4273, 'PROPERLY': 3212, 'smsing': 9998, 'efficient': 6362, 'explicit': 6530, '30': 537, 'secs': 9726, 'Ring': 3462, '02073162414': 12, 'Costs': 1539, '20pmin': 436, '515pm': 682, 'Erutupalam': 1806, 'thandiyachu': 10511, 'invention': 7516, 'flyim': 6731, 'Noits': 3028, 'lyrics': 8070, 'reckon': 9383, 'nevr': 8521, 'unrecognized': 10884, 'somone': 10045, 'valuing': 10958, 'definitly': 6038, 'undrstnd': 10861, 'ger': 6925, 'toking': 10669, 'syd': 10394, 'lehHaha': 7864, 'khelate': 7716, 'kintu': 7735, 'opponenter': 8724, 'dhorte': 6102, 'lage': 7789, 'fried': 6820, 'spares': 10088, 'looovvve': 7994, 'warwick': 11088, 'tmw': 10650, 'canceled': 5416, 'havnt': 7156, 'sometime': 10038, 'tops': 10710, 'grandma': 7029, 'parade': 8841, 'iPOD': 7382, 'proze': 9231, 'Norcorp': 3039, 'Ltdå£150Mtmsgrcvd18': 2695, 'posting': 9086, 'chennaibecause': 5559, '7cfca1a': 786, 'grumble': 7066, 'linear': 7920, 'algebra': 4700, 'decorating': 6025, 'wining': 11236, '946': 905, 'roomate': 9580, 'graduated': 7024, 'adjustable': 4617, 'cooperative': 5813, 'allows': 4714, 'Nottingham': 3046, '63miles': 726, '40mph': 607, 'clearly': 5641, 'mornin': 8362, 'Thanku': 4007, '2MORRO': 487, 'guessed': 7075, 'hubbys': 7341, '89938': 886, 'strings': 10255, 'å£150ea': 11519, 'OTBox': 3084, '731': 769, 'LA1': 2567, '7WS': 783, 'Understand': 4173, 'gain': 6878, 'School': 3647, 'MISSED': 2750, 'HAVENT': 2131, 'BORED': 1181, 'SAD': 3487, 'ISNT': 2352, 'ITxx': 2360, 'beside': 5112, 'brisk': 5284, 'walks': 11064, 'sexiest': 9791, 'dirtiest': 6156, '89070': 879, 'steve': 10207, 'TELLMISS': 3901, 'Normally': 3041, 'Dare': 1635, 'Partys': 3231, 'contribute': 5796, 'greatly': 7043, 'Urgh': 4196, 'coach': 5668, 'smells': 9982, 'duvet': 6318, 'predictive': 9127, 'Ready': 3425, 'chatIm': 5539, 'w8in': 11043, '4uTxt': 669, 'url': 10915, 'Deliver': 1656, '24th': 454, 'sept': 9772, 'cha': 5505, 'lil': 7913, 'beverage': 5121, 'vpist': 11036, 'surrender': 10365, 'SYMPTOMS': 3618, '1U': 406, '3U': 580, 'Gettin': 2058, 'rdy': 9330, 'PISS': 3174, 'TALKING': 3887, 'REALISE': 3370, 'POINT': 3193, 'ITNOW': 2355, 'READ': 3367, 'BACKWARDS': 1135, 'police': 9041, 'abstract': 4561, 'vikkyim': 11000, 'hiya': 7248, 'africa': 4647, 'avin': 4961, 'CHITCHAT': 1388, 'Logon': 2669, '8883': 874, 'CM': 1396, '4217': 613, 'W1A': 4250, '6ZF': 751, '118pmsg': 323, 'CHA': 1377, 'QUITEAMUZING': 3347, 'THATåÕSCOOL': 3919, 'å£1000CALL': 11512, '09071512432': 272, '300603tcsBCM4235WC1N3XXcallcost150ppmmobilesvary': 541, 'Abt': 997, 'rows': 9592, 'Mnths': 2873, 'engagement': 6412, 'fixd': 6695, 'bthmm': 5309, 'njan': 8555, 'vilikkamt': 11001, 'sudn': 10309, 'maths': 8161, 'chapter': 5522, 'chop': 5606, 'Noooooooo': 3037, '09065171142stopsms08718727870150ppm': 248, 'firsg': 6686, 'split': 10121, 'Full': 1969, 'heat': 7177, 'applyed': 4827, 'airtel': 4687, 'virgin': 11008, 'sumfing': 10325, '86888': 855, 'Subscribe6GBPmnth': 3846, '3hrs': 588, 'stoptxtStop': 10231, 'PUTTIN': 3217, 'hiphop': 7238, 'managed': 8121, 'oxygen': 8803, 'resort': 9495, 'roller': 9575, 'recorder': 9388, 'canname': 5421, 'capital': 5430, 'Australia': 1115, 'MQUIZ': 2776, 'SHOWR': 3525, 'Received': 3430, 'acted': 4596, 'upon': 10901, 'ceiling': 5492, 'presnts': 9143, 'bcz': 5053, 'jeevithathile': 7614, 'irulinae': 7541, 'neekunna': 8504, 'prakasamanu': 9115, 'sneham': 10005, 'prakasam': 9114, 'ennal': 6421, 'prabha': 9106, 'mns': 8317, 'isLOVE': 7544, 'blowing': 5191, '7634': 773, '7684': 774, 'Everybody': 1821, 'firmware': 6685, 'vijaykanth': 10998, 'comedy': 5705, 'captain': 5433, 'tvhe': 10809, 'hide': 7223, 'anythiing': 4799, 'ripped': 9554, 'wwwclubmobycom': 11372, '08717509990': 147, 'polytruePixRingtonesGames': 9049, 'keypad': 7710, 'btwn': 5311, 'decades': 6016, 'BEER': 1159, 'PETROL': 3166, 'goverment': 7015, 'expects': 6520, 'DRINK': 1623, 'DRIVE': 1624, 'REWARD': 3387, 'WAITING': 4256, 'loyal': 8037, 'customers': 5923, '09066380611': 267, 'spice': 10112, 'Prasanth': 3309, 'ettans': 6464, '08718738002': 168, '48922': 637, '211104': 438, 'APPY': 966, 'FIZZ': 1867, 'contains': 5788, 'Ladies': 2622, 'genus': 6923, 'robinson': 9565, 'Nottel': 3045, 'print': 9167, 'outs': 8779, 'REALY': 3373, 'SOZ': 3563, 'IMAT': 2328, 'MUMS': 2788, 'IDIOT': 2315, 'msgsometext': 8397, '07099833605': 25, 'Ref9280114': 3435, 'Chloe': 1490, '150ptext': 373, 'Wewa': 4377, '130': 341, 'Iriver': 2406, '255': 457, '128': 334, 'bw': 5356, 'Sry': 3808, 'dajst': 5948, 'Eatin': 1777, 'Hmmmbut': 2258, 'Surly': 3868, '07808726822': 40, '08718729758': 164, 'dumb': 6307, 'dokey': 6219, 'i‰Û÷ll': 7584, 'Mmmmmmm': 2872, 'snuggles': 10012, 'contented': 5790, 'whispers': 11199, 'error': 6444, 'healthy': 7166, 'Wif': 4399, '2bold': 500, 'givits': 6956, 'kanoanyway': 7688, 'brother‰Û÷s': 5296, 'scraped': 9700, 'barrel': 5023, 'misfits': 8295, 'S8': 3485, 'switch': 10390, 'Her': 2232, 'sleepin': 9949, 'sections': 9728, 'clearer': 5639, 'PEACH': 3162, 'CAKE': 1352, 'TASTS': 3890, 'LUSH': 2618, 'GAME': 1980, 'Rayman': 3419, 'Golf': 2079, 'activ8': 4600, 'Termsapply': 3997, 'Therell': 4025, 'minor': 8281, 'shindig': 9824, 'Jason': 2457, 'CameraVideo': 1443, 'minstexts': 8285, 'Career': 1454, 'INDYAROCKSCOM': 2337, 'phonebook': 8952, 'Keng': 2521, 'rocking': 9568, 'ashes': 4891, 'xins': 11410, 'Shijutta': 3699, 'kafter': 7676, 'offense': 8656, 'BBDthts': 1147, 'dvg': 6319, 'coldheard': 5686, 'vinobanagar': 11004, 'conditionand': 5756, 'ovulatewhen': 8792, '3wks': 596, 'woah': 11276, 'realising': 9348, 'Thinking': 4036, 'Orh': 3141, 'beauty': 5064, 'hides': 7224, 'secrets': 9725, 'n8': 8447, 'darlinim': 5969, 'soonxxx': 10054, 'CoolMob': 1533, 'FrogAXEL': 1966, 'AkonLonely': 1038, 'EyedDont': 1844, 'wasted': 11095, 'Cashbincouk': 1461, 'wwwcashbincouk': 11371, 'EVER': 1756, 'canteen': 5426, 'stressfull': 10250, 'Laugh': 2632, 'adds': 4614, 'ni8swt': 8531, 'continued': 5794, 'Name': 2978, 'President': 3317, 'Ì©': 11503, '140': 346, 'ardÌä': 4850, '180': 387, 'leastWhich': 7850, 'bedrm': 5072, 'pleasured': 9016, 'Hitechnical': 2249, 'supportproviding': 10350, 'assistance': 4906, 'BUS': 1210, '1172': 322, 'watever': 11105, 'reLation': 9332, 'built': 5322, 'atlast': 4919, 'lonlines': 7987, 'lotz': 8014, 'memories': 8222, 'LOU': 2607, 'GOODNITE': 2016, 'SHAME': 3516, 'CAME': 1358, 'GAILxx': 1979, 'Hii': 2244, 'complacent': 5727, 'SEEN': 3504, 'BABY': 1132, 'COMMON': 1402, 'ROOM': 3396, 'denis': 6057, 'mina': 8271, 'Sen': 3661, 'miwa': 8313, 'senthil': 9769, 'hsbc': 7324, 'statement': 10184, 'woulda': 11326, 'Indeed': 2386, '09066649731from': 270, 'Holy': 2276, 'mth': 8403, 'opposite': 8729, 'heavily': 7180, 'Saw': 3642, 'Guys': 2117, 'Dolls': 1706, 'Patrick': 3235, 'Swayze': 3870, 'Santa': 3631, '09077818151': 275, 'Calls150ppm': 1437, '30s': 546, 'wwwsantacallingcom': 11391, 'miserable': 8294, 'total': 10720, 'quarter': 9272, 'nervous': 8512, 'fired': 6681, 'limping': 7918, 'aa': 4546, '0784987': 43, '08719180219': 170, '060505': 19, 'oga': 8674, 'poorly': 9058, 'punishment': 9247, 'Brb': 1316, 'kill': 7725, 'Predicte': 3313, 'situations': 9928, 'Before': 1253, 'loosing': 7996, 'smaller': 9974, 'capacity': 5429, 'Out': 3147, 'Videos': 4235, 'smsshsexnetUN': 9999, 'fgkslpoPW': 6637, 'fgkslpo': 6636, '0871277810710pmin': 121, 'Drink': 1724, 'defer': 6035, 'admission': 4621, 'Checkmate': 1481, 'chess': 5564, 'Persian': 3244, 'phrase': 8958, 'Shah': 3682, 'Maat': 2796, 'Po': 3283, 'Rats': 3417, 'themes': 10540, 'pee': 8903, 'burns': 5335, 'BEST': 1163, 'PETE': 3165, '2GEVA': 482, 'LONGER': 2599, 'THAN': 3911, 'photoshop': 8957, 'manageable': 8120, '08715203652': 134, '42810': 615, '29100': 474, 'shoppin': 9843, 'toopray': 10701, 'inshah': 7487, 'allah': 4708, 'Ashley': 1099, 'Sthis': 3825, 'increase': 7450, 'winning': 11238, 'Gain': 2036, 'wifedont': 11216, 'iti': 7564, 'tooLets': 10695, 'north': 8579, 'carolina': 5456, 'texas': 10498, 'gre': 7038, 'bomb': 5204, 'breathing': 5268, 'Response': 3456, 'powerful': 9099, 'weapon': 11119, 'lovly': 8032, 'MESSAGEThanks': 2738, 'Subscription': 3848, '150pMSGRCVD': 356, 'Skip': 3742, 'CustomerCare': 1568, '08718726270': 155, 'playi': 9008, 'clas': 5628, 'lit': 7945, 'Loooooool': 2679, 'couch': 5837, 'Wasnt': 4346, 'celebration': 5496, 'rents': 9457, 'swashbuckling': 10375, 'Waste': 4347, 'Innocent': 2397, '5Terror': 697, '6Cruel': 746, '7Romantic': 782, '8Lovable': 889, '9decent': 915, 'joker': 7642, 'Dips': 1683, 'Texting': 4004, 'gek1510': 6914, 'feelin': 6620, 'Wuld': 4441, 'nuther': 8625, 'lyricalladie21F': 8069, 'YES910': 4476, 'NO910': 2959, 'wwwSMSacuhmmross': 11366, 'happiest': 7132, 'characters': 5524, 'differences': 6130, 'lists': 7944, 'tylers': 10824, 'crisis': 5886, 'Whenwhere': 4388, 'antibiotic': 4790, 'abdomen': 4549, 'gynae': 7091, 'infections': 7460, 'bone': 5205, 'Poor': 3300, 'lmao': 7956, '6times': 760, 'exposed': 6532, 'chastity': 5537, 'device': 6095, 'beatings': 5060, 'uses': 10929, 'Miserable': 2860, 'gut': 7084, 'wrenching': 11333, 'tallahassee': 10428, 'ou': 8763, 'Taka': 3971, 'SUPER': 3607, 'PoBox202': 3287, 'NR31': 2969, '7ZS': 784, '450pw': 630, 'ritten': 9558, 'fold': 6737, 'Warner': 4344, 'Village': 4238, '83118': 825, 'Colin': 1511, 'Farrell': 1906, 'SWAT': 3615, 'PopcornJust': 3301, 'msgticketkioskValid': 8399, '4712': 634, 'kiosk': 7736, 'SONY': 3555, 'mre': 8387, 'solihull': 10023, 'REGRET': 3379, 'INFORM': 2338, 'NHS': 2946, 'MADE': 2716, 'MISTAKEU': 2753, 'ACTUALLY': 928, 'BORNPLEASE': 1183, 'REPORT': 3384, 'YOR': 4482, 'LOCAL': 2594, 'HOSPITAL': 2165, '2B': 476, 'TERMINATEDWE': 3902, 'INCONVENIENCE': 2335, 'dentists': 6061, 'Goal': 2072, 'Arsenal': 1095, 'Henry': 2231, 'yards': 11428, 'Bergkamp': 1259, 'margin': 8137, '78': 776, 'parent': 8848, 'Itsnot': 2417, 'childs': 5590, 'parentnot': 8849, 'Ride': 3459, 'unintentional': 10872, 'nonetheless': 8570, 'hooch': 7280, 'toaday': 10654, 'Splat': 3797, 'Grazed': 2097, 'Re': 3420, 'confirmdeny': 5765, 'hearin': 7170, 'yah': 11423, 'torture': 10715, 'england': 6415, 'hopeing': 7290, 'wasn‰Û÷t': 11093, 'sisters': 9920, 'SEXYCHAT': 3514, 'lips': 7935, 'Match': 2823, 'startedindia': 10176, 'Kkcongratulation': 2543, 'court': 5852, 'chapel': 5520, 'frontierville': 6842, 'mountain': 8375, 'deer': 6032, 'maili': 8104, 'mailed': 8103, 'varma': 10962, 'membershiptake': 8220, 'careinsha': 5446, 'Wrong': 4439, 'secure': 9729, 'Amy': 1066, 'parties': 8862, 'james': 7594, 'farting': 6589, 'ortxt': 8754, 'Select': 3660, 'trained': 10736, 'advisors': 4637, 'dialling': 6105, '402': 602, 'woot': 11291, 'stuffing': 10276, 'Ahhhhjust': 1028, 'uphad': 10898, 'thoso': 10579, 'viveki': 11020, '96': 907, 'dado': 5941, 'holder': 7258, 'dining': 6146, 'experiencehttpwwwvouch4mecometlpdiningasp': 6523, 'kaila': 7677, '09058094507': 200, 'donate': 6224, 'UNICEFs': 4138, 'Asian': 1100, 'Tsunami': 4107, 'disaster': 6162, 'fund': 6862, 'DONATE': 1610, '864233': 853, 'cme': 5664, 'hos': 7298, '2morow': 512, 'xuhui': 11414, 'parking': 8857, 'collapsed': 5688, 'Stuff': 3839, 'DOES': 1605, 'cumming': 5909, 'JADE': 2432, 'PAUL': 3160, 'DIDNåÕT': 1597, 'REMEMBER': 3380, 'BARMED': 1142, 'TALK': 3883, 'Spending': 3792, 'Slept': 3748, 'thinkThis': 10564, 'dangerous': 5958, 'goldviking': 6987, '29M': 475, 'YES762': 4475, 'NO762': 2958, 'wwwSMSacugoldviking': 11365, 'L8r': 2566, 'rushing': 9617, 'channel': 5519, 'coulda': 5841, 'Phony': 3259, 'Eta': 1809, '1230': 332, 'okday': 8681, 'Esplanade': 1808, 'Hmph': 2264, 'baller': 5004, 'punto': 9248, 'ayo': 4976, 'travelled': 10755, 'Looking': 2676, 'å£125': 11514, 'Freeentry': 1956, 'xt': 11413, 'wwwldewcom1win150ppmx3age16': 11382, 'toyota': 10730, 'camry': 5411, 'olayiwolas': 8690, 'Mileage': 2851, 'kits': 7742, 'landing': 7798, 'Holla': 2274, 'clover': 5659, 'numberpls': 8619, 'idconvey': 7396, 'achanammaRakheshQatar': 4588, 'rencontre': 9449, 'Mountains': 2908, '08714712412': 129, 'galsU': 6885, 'nÌÂte': 8633, 'puppy': 9249, 'noise': 8561, 'sarasota': 9655, '150pmeg': 365, 'HGSuite3422lands': 2146, 'RowW1j6HL': 3477, '08715203685': 137, 'Code4xx26': 1508, '131004': 342, 'crossing': 5889, 'deepest': 6031, 'darkest': 5964, 'fantasies': 6584, '09094646631': 279, 'nat': 8471, 'inconvenient': 7449, 'vldo': 11022, 'adsense': 4628, 'approved': 4837, 'dudette': 6303, 'perumbavoor': 8938, 'stage': 10157, 'cherish': 5562, 'clarify': 5627, 'preponed': 9136, 'Natalie': 2981, '20F': 433, 'YES165': 4472, 'NO165': 2955, 'wwwSMSacunatalie2k9': 11368, 'younger': 11471, 'Jamster': 2451, 'wallpaper': 11067, '08701213186': 76, 'liver': 7950, 'stylish': 10285, 'Hmmmstill': 2262, 'opener': 8716, 'guides': 7080, 'watched': 11099, 'loneliness': 7983, 'skyving': 9944, 'Pilates': 3265, 'dads': 5942, 'Afternoon': 1019, 'onwords': 8713, 'mtnl': 8405, 'mumbai': 8418, '83039': 822, '62735å£450': 724, 'AccommodationVouchers': 1000, 'mustprovide': 8434, '15541': 379, 'Rajitha': 3410, 'Ranju': 3415, '5p': 707, 'styles': 10283, 'Starting': 3817, 'TsCs08714740323': 4104, '1Winawk': 409, 'å£150perweeksub': 11522, 'dearslp': 6010, 'welltake': 11158, 'careswt': 5450, 'dreamsMuah': 6263, '09066361921': 257, 'disagreeable': 6159, 'Guy': 2116, 'afterwards': 4653, 'UAWAKEFEELLIKW': 4128, 'SHITJUSTFOUND': 3521, 'VIA': 4211, 'ALETTER': 949, 'THATMUM': 3917, 'GOTMARRIED': 2023, '4thNOVBEHIND': 664, 'OURBACKS': 3087, 'FUCKINNICESELFISH': 1896, 'rearrange': 9356, 'Dormitory': 1714, 'Dirty': 1685, 'Astronomer': 1104, 'Moon': 2894, 'starer': 10169, 'Election': 1789, 'Lies': 2647, 'recount': 9390, 'Motherinlaw': 2905, 'Woman': 4421, 'Hitler': 2250, 'Eleven': 1790, 'Twelve': 4115, 'worms': 11313, 'suffering': 10312, 'dysentry': 6322, 'andre': 4759, 'virgils': 11007, 'lorgoin': 7999, 'Gokila': 2077, 'ShanilRakhesh': 3688, 'herethanksi': 7206, 'exchanged': 6503, 'uncut': 10854, 'diamond': 6107, 'stuffleaving': 10277, 'Dino': 1681, 'Prem': 3314, 'Kkthis': 2549, 'kotees': 7769, 'TheMobHit': 4018, 'Pink': 3267, 'Panther': 3226, 'Sugababes': 3851, 'Zebra': 4542, 'animation': 4766, 'badass': 4994, 'Hoody': 2282, 'wallpaperall': 11068, 'resent': 9484, 'Queries': 3352, 'customersqueriesnetvisionukcom': 5924, 'hassling': 7143, 'andres': 4760, 'HAUGHAIGHGTUJHYGUJ': 2128, 'Ding': 1680, 'fassyole': 6590, 'Blacko': 1277, 'londn': 7981, 'KISS': 2503, '4EVA': 640, 'responsibilities': 9502, '08715205273': 139, 'VCo': 4209, 'humanities': 7350, 'Fills': 1918, 'calm': 5403, 'reassurance': 9360, 'Aslamalaikkuminsha': 1103, 'tohar': 10665, 'beeen': 5075, 'muht': 8413, 'albi': 4691, 'mufti': 8412, 'mahfuuzmeaning': 8101, '078': 36, 'ENUFCREDEIT': 1748, 'TOCALLSHALL': 3940, 'ILEAVE': 2325, 'UNI': 4137, 'Chikku': 1485, 'treats': 10763, 'Okors': 3110, 'ibored': 7386, 'adding': 4611, 'zeros': 11497, 'savings': 9673, 'goigng': 6981, 'perfume': 8923, 'Sday': 3653, 'joinedso': 7639, 'grocers': 7054, 'pubs': 9239, 'Frankie': 1948, 'Bennys': 1258, 'warner': 11085, 'VE': 4210, 'changing': 5518, 'diapers': 6109, 'owed': 8796, 'Unlike': 4179, 'patients': 8883, 'turkeys': 10802, 'helens': 7186, 'princes': 9165, 'dawhere': 5982, 'unintentionally': 10873, 'garden': 6895, 'bulbs': 5323, 'seeds': 9732, 'å£3350': 11535, 'Scotsman': 3652, 'go2': 6967, 'notxtcouk': 8595, 'wenever': 11162, 'familymay': 6577, 'stability': 10152, 'tranquility': 10741, 'vibrant': 10983, 'colourful': 5698, 'bawling': 5043, 'failure': 6560, 'failing': 6559, 'YEARS': 4469, 'BOYFRIEND': 1195, 'SI': 3526, 'Velusamy': 4228, 'sirs': 9917, 'facilities': 6551, 'karnan': 7693, 'bluray': 5196, 'I‰Û÷ve': 2429, 'salt': 9642, 'wounds': 11328, 'Water': 4352, 'logging': 7972, 'Geoenvironmental': 2054, 'implications': 7426, 'gently': 6921, 'Sms': 3759, 'Fuuuuck': 1973, 'salmon': 9640, 'uploaded': 10900, 'WRKIN': 4320, 'ree': 9398, 'compensation': 5725, 'awkward': 4973, 'i‰Û÷m': 7585, 'splash': 10119, 'leg': 7859, 'Musta': 2924, 'overdid': 8787, 'wwwtelediscountcouk': 11395, 'STUDENT': 3596, 'DISCOUNT': 1601, 'BOOKS': 1180, '2StopTxt': 494, 'Hiwhat': 2251, 'gastroenteritis': 6899, 'replace': 9463, 'reduce': 9397, 'limiting': 7916, 'illness': 7414, 'Jane': 2454, 'wrk': 11336, 'lst': 8039, 'Foned': 1935, 'chuck': 5614, 'nightsWe': 8543, 'port': 9066, 'step': 10202, 'liaoToo': 7887, 'stuffs': 10278, 'JUSWOKE': 2447, 'BOATIN': 1177, 'DOCKS': 1604, 'SLEPT': 3541, 'WID': 4287, 'OLD': 3073, 'SPINOUT': 3570, 'GIV': 1998, 'GOSSIP': 2020, 'remet': 9440, 'nichols': 8533, '08715203656': 135, '42049': 612, '261004': 461, 'realise': 9346, 'Started': 3816, 'uworld': 10943, 'qbank': 9267, 'assessment': 4904, 'Someonone': 3770, '09064015307': 239, 'BOX334SK38ch': 1188, 'tke': 10643, 'tease': 10463, 'temales': 10482, 'vidnot': 10995, 'finishd': 6674, '09061213237': 215, '177': 385, 'M227XY': 2708, 'dull': 6306, 'studies': 10268, 'anyones': 4797, 'treadmill': 10758, 'Craigslist': 1549, 'absolutely': 4560, 'South': 3785, 'Park': 3229, 'drmstake': 6279, 'SOMETHIN': 3553, 'CALLED': 1355, 'SWAN': 3613, 'PARENTS': 3153, 'ER': 1749, 'teethif': 10470, 'asapok': 4889, 'HelloHow': 2223, 'doingWhat': 6216, '2When': 499, 'lamp': 7796, 'latebut': 7820, 'kwish': 7775, 'foward': 6791, '09061790126': 231, 'Vikky': 4237, 'misundrstud': 8310, '2u2': 530, 'genes': 6917, 'wwwLdewcom1win150ppmx3age16subscription': 11362, 'resuming': 9519, 'minimum': 8280, 'reapply': 9355, 'london': 7982, 'treatin': 10762, 'treacle': 10757, 'mumHas': 8417, 'beendropping': 5078, 'theplace': 10544, 'adress': 4626, 'Jolly': 2478, 'moneyi': 8348, 'favorite': 6607, 'oyster': 8804, 'sashimi': 9659, 'rumbling': 9608, 'Kothi': 2557, 'marandratha': 8135, 'topic': 10706, 'correctly': 5826, 'bless': 5172, 'SirSalam': 3733, 'AlaikkumPride': 1039, 'Tea': 3980, 'ShopWe': 3707, 'QatarRakhesh': 3349, 'IndianPls': 2390, 'NumberRespectful': 3053, 'Regards': 3440, 'Gal': 2037, 'galcan': 6881, 'boyy': 5249, 'galno': 6883, 'heaven': 7179, 'princeGN': 9164, 'pisces': 8983, 'aquarius': 4845, '2yrs': 535, 'steyn': 10209, 'wicket': 11211, 'Neither': 2989, 'sterm': 10206, 'resolved': 9494, 'Garbage': 2043, 'eggs': 6368, 'jam': 7593, 'hannaford': 7124, 'wheat': 11183, 'chex': 5566, 'pride': 9160, 'grownup': 7064, 'stuffwhy': 10279, 'costume': 5834, 'Jerk': 2465, 'stink': 10216, 'TEXTCOMP': 3907, 'follows': 6743, 'subsequent': 10299, 'charged150pmsg2': 5527, '84128custcare': 839, 'openings': 8719, 'upcharge': 10894, '8hr': 893, 'Guai': 2104, 'Being': 1255, 'bottle': 5231, 'amused': 4750, 'select': 9745, 'astrology': 4913, 'ryans': 9619, 'program': 9203, 'slacking': 9945, 'officestill': 8663, 'filling': 6654, 'formsdon': 6779, 'mentor': 8231, 'percent': 8916, '09095350301': 281, 'erotic': 6443, 'ecstacy': 6346, 'dept': 6070, '13404': 344, '08717507382': 145, 'datingi': 5977, 'coincidence': 5682, 'sane': 9650, 'helping': 7195, 'leading': 7843, '151': 376, 'pause': 8887, 'gr8prizes': 7021, '8800': 865, 'PSP': 3214, 'wkTXT': 11264, 'httpwwwgr8prizescom': 7336, 'spacebucks': 10083, 'weathers': 11125, '02070836089': 10, 'squeezed': 10145, 'tooPray': 10696, 'meRemove': 8185, 'maintaining': 8107, '5IåÕm': 694, 'dreading': 6259, 'thou': 10581, 'suggestion': 10318, 'Lands': 2625, 'helps': 7196, 'forgt': 6772, 'Soon': 3777, 'FIGHTS': 1858, 'ajith': 4688, 'Ooooooh': 3127, 'yoville': 11485, 'mega': 8207, 'asda': 4890, 'counts': 5847, 'officer': 8662, 'respectful': 9497, 'bffs': 5125, 'carly': 5455, 'HARD': 2123, 'express': 6534, 'someonethat': 10032, 'seperatedŽö´‰Ó‹Û¬ud': 9771, 'Babes': 1218, 'brolly': 5290, 'English': 1800, 'Franxx': 1949, 'welli': 11157, 'prometazine': 9209, 'syrup': 10398, '5mls': 706, 'feed': 6618, 'shu': 9874, 'singapore': 9909, 'victoria': 10987, 'island': 7549, 'traffic': 10734, 'whens': 11188, 'pocay': 9030, 'wocay': 11277, '4eva': 651, '2morrowxxxx': 515, 'East': 1773, 'broth': 5292, 'ramen': 9308, 'fowler': 6792, 'ksry': 7771, 'sivatats': 9929, 'flew': 6709, 'Calling': 1435, '09058094583': 202, '1526': 377, 'pubcafe': 9236, 'attention': 4930, 'tix': 10641, 'Mode': 2883, 'biolas': 5145, 'fne': 6735, 'youdoing': 11463, 'Sar': 3633, 'worc': 11294, 'foregate': 6760, 'shrub': 9873, 'get4an18th': 6927, '32000': 553, 'legitimat': 7861, 'efreefone': 6363, 'shopthe': 9845, 'receipts': 9369, 'pendent': 8909, 'toilet': 10666, 'stolen': 10220, 'cops': 5817, 'HU': 2175, 'navigate': 8481, 'choosing': 5605, 'require': 9477, 'guidance': 7078, 'Except': 1834, 'chick': 5572, 'boobs': 5209, 'revealing': 9529, 'sparkling': 10090, 'breaks': 5264, '45': 627, '0121': 3, '2025050': 432, 'wwwshortbreaksorguk': 11392, 'Gyno': 2118, 'belong': 5102, 'wwwgambtv': 11379, 'treasure': 10759, 'wmlid820554ad0a1705572711firsttrueåÁC': 11273, 'RingtoneåÁ': 3466, '09050000332': 181, 'slide': 9957, 'mummys': 8420, 'positive': 9073, 'negative': 8505, 'Hmmmm': 2261, 'Dhoni': 1670, 'titleso': 10639, 'command': 5715, 'stressful': 10249, 'Holby': 2270, '09064017295': 240, 'li': 7884, 'lecturer': 7856, 'repeating': 9461, 'yeovil': 11437, 'motor': 8373, 'max': 8169, 'rhode': 9534, 'bong': 5206, 'Ofcourse': 3095, '2p': 525, '08448350055': 67, 'PlanetTalkInstantcom': 3271, 'loti': 8007, 'Marvel': 2822, 'Ultimate': 4165, 'Spiderman': 3793, 'SPIDER': 3569, '83338': 828, '8Ball': 888, 'tamilnaduthen': 10430, 'tip': 10631, '07808247860': 39, '08719899229': 177, '40411': 604, '061104': 20, 'Apo': 1079, 'Perhaps': 3242, 'identification': 7400, 'limit': 7915, 'boundaries': 5235, 'endless': 6405, 'Machan': 2799, 'reassuring': 9361, 'lorWe': 7998, 'young': 11470, 'referin': 9402, 'meis': 8211, 'liaoSo': 7886, 'Miles': 2852, 'saibaba': 9631, 'colany': 5684, 'chic': 5571, 'Common': 1518, 'Declare': 1652, '49557': 638, '261104': 462, 'disappointment': 6161, 'irritation': 7540, 'tantrums': 10433, 'Compliments': 1523, 'adventuring': 4633, 'chief': 5575, 'Gsex': 2103, '2667': 463, 'WC1N': 4265, '3XX': 584, '3MOBILE': 575, 'CHATLINES': 1382, 'INCLU': 2334, 'MINS': 2747, 'CUST': 1422, 'SERVs': 3512, 'SED': 3500, 'L8ER': 2563, 'MEGA': 2733, 'BILL': 1168, 'BAILIFF': 1137, 'DUE': 1626, 'Armand': 1091, 'mouse': 8376, 'desk': 6078, 'Ic': 2365, 'childporn': 5588, 'jumpers': 7664, 'hat': 7144, 'belt': 5106, 'Cribbs': 1553, 'spiritual': 10117, 'barring': 5024, 'sudden': 10307, 'influx': 7462, 'Yeh': 4503, 'Tho': 4041, 'kane': 7685, 'shud': 9875, 'Mite': 2865, 'Pshewmissing': 3334, 'units': 10876, 'accent': 4570, '4years': 673, 'dental': 6059, 'nmde': 8556, 'dump': 6308, 'heap': 7167, 'lowes': 8035, 'BORING': 1182, 'salesman': 9638, 'REMINDER': 3381, 'å£750': 11554, '087187272008': 160, 'NOW1': 2967, 'Pity': 3269, 'Soany': 3763, 'suggestions': 10319, 'bitching': 5155}\n"
          ]
        }
      ]
    },
    {
      "cell_type": "code",
      "source": [
        "mensaje_3 = mensajes_df.mensaje[3]\n",
        "mensaje_3"
      ],
      "metadata": {
        "colab": {
          "base_uri": "https://localhost:8080/",
          "height": 35
        },
        "id": "WCg43Vh3pnXn",
        "outputId": "e772c803-6b98-4bc3-b111-eda8e2788ab7"
      },
      "execution_count": 117,
      "outputs": [
        {
          "output_type": "execute_result",
          "data": {
            "text/plain": [
              "'U dun say so early hor... U c already then say...'"
            ],
            "application/vnd.google.colaboratory.intrinsic+json": {
              "type": "string"
            }
          },
          "metadata": {},
          "execution_count": 117
        }
      ]
    },
    {
      "cell_type": "code",
      "source": [
        "mensaje_3_vector = transformador.transform([mensaje_3])\n",
        "\n",
        "print(mensaje_3_vector)"
      ],
      "metadata": {
        "colab": {
          "base_uri": "https://localhost:8080/"
        },
        "id": "9Am5dNuZptWb",
        "outputId": "47e2265c-4efc-4e51-ebb1-74dca720be40"
      },
      "execution_count": 121,
      "outputs": [
        {
          "output_type": "stream",
          "name": "stdout",
          "text": [
            "  (0, 4126)\t2\n",
            "  (0, 4720)\t1\n",
            "  (0, 5364)\t1\n",
            "  (0, 6309)\t1\n",
            "  (0, 6328)\t1\n",
            "  (0, 7293)\t1\n",
            "  (0, 9675)\t2\n",
            "  (0, 10013)\t1\n",
            "  (0, 10541)\t1\n"
          ]
        }
      ]
    },
    {
      "cell_type": "code",
      "source": [
        "transformador.get_feature_names_out()[9675]"
      ],
      "metadata": {
        "colab": {
          "base_uri": "https://localhost:8080/",
          "height": 35
        },
        "id": "O3WyC300p-H7",
        "outputId": "24130aef-15c3-4a0d-a6c3-6e7788004a94"
      },
      "execution_count": 124,
      "outputs": [
        {
          "output_type": "execute_result",
          "data": {
            "text/plain": [
              "'say'"
            ],
            "application/vnd.google.colaboratory.intrinsic+json": {
              "type": "string"
            }
          },
          "metadata": {},
          "execution_count": 124
        }
      ]
    },
    {
      "cell_type": "markdown",
      "source": [
        "### Predicciones"
      ],
      "metadata": {
        "id": "dZwAVo8-qqA-"
      }
    },
    {
      "cell_type": "code",
      "source": [
        "from sklearn.feature_extraction.text import TfidfVectorizer\n",
        "from sklearn.ensemble import RandomForestClassifier\n",
        "from sklearn.pipeline import Pipeline\n",
        "from sklearn.model_selection import train_test_split\n",
        "from sklearn.metrics import classification_report"
      ],
      "metadata": {
        "id": "rIgwIVS7q9in"
      },
      "execution_count": 129,
      "outputs": []
    },
    {
      "cell_type": "code",
      "source": [
        "m_ent, m_pru, e_ent, m_pru = train_test_split(mensajes_df.mensaje, mensajes_df.etiqueta, test_size=0.2)"
      ],
      "metadata": {
        "id": "HrboM1bTrBnL"
      },
      "execution_count": 140,
      "outputs": []
    },
    {
      "cell_type": "code",
      "source": [
        "pipeline = Pipeline([\n",
        "    ('vectorizador', CountVectorizer(analyzer=procesar_texto)),\n",
        "    ('clasificador', RandomForestClassifier())\n",
        "])"
      ],
      "metadata": {
        "id": "gVeLVujxrX23"
      },
      "execution_count": 143,
      "outputs": []
    },
    {
      "cell_type": "code",
      "source": [
        "pipeline.fit(m_ent, e_ent)"
      ],
      "metadata": {
        "colab": {
          "base_uri": "https://localhost:8080/",
          "height": 143
        },
        "id": "ANtgok3Kr2v4",
        "outputId": "03d075c8-9947-4a6e-85b5-eacd5ef51908"
      },
      "execution_count": 144,
      "outputs": [
        {
          "output_type": "execute_result",
          "data": {
            "text/plain": [
              "Pipeline(steps=[('vectorizador',\n",
              "                 CountVectorizer(analyzer=<function procesar_texto at 0x7fbb288175b0>)),\n",
              "                ('clasificador', RandomForestClassifier())])"
            ],
            "text/html": [
              "<style>#sk-container-id-1 {\n",
              "  /* Definition of color scheme common for light and dark mode */\n",
              "  --sklearn-color-text: black;\n",
              "  --sklearn-color-line: gray;\n",
              "  /* Definition of color scheme for unfitted estimators */\n",
              "  --sklearn-color-unfitted-level-0: #fff5e6;\n",
              "  --sklearn-color-unfitted-level-1: #f6e4d2;\n",
              "  --sklearn-color-unfitted-level-2: #ffe0b3;\n",
              "  --sklearn-color-unfitted-level-3: chocolate;\n",
              "  /* Definition of color scheme for fitted estimators */\n",
              "  --sklearn-color-fitted-level-0: #f0f8ff;\n",
              "  --sklearn-color-fitted-level-1: #d4ebff;\n",
              "  --sklearn-color-fitted-level-2: #b3dbfd;\n",
              "  --sklearn-color-fitted-level-3: cornflowerblue;\n",
              "\n",
              "  /* Specific color for light theme */\n",
              "  --sklearn-color-text-on-default-background: var(--sg-text-color, var(--theme-code-foreground, var(--jp-content-font-color1, black)));\n",
              "  --sklearn-color-background: var(--sg-background-color, var(--theme-background, var(--jp-layout-color0, white)));\n",
              "  --sklearn-color-border-box: var(--sg-text-color, var(--theme-code-foreground, var(--jp-content-font-color1, black)));\n",
              "  --sklearn-color-icon: #696969;\n",
              "\n",
              "  @media (prefers-color-scheme: dark) {\n",
              "    /* Redefinition of color scheme for dark theme */\n",
              "    --sklearn-color-text-on-default-background: var(--sg-text-color, var(--theme-code-foreground, var(--jp-content-font-color1, white)));\n",
              "    --sklearn-color-background: var(--sg-background-color, var(--theme-background, var(--jp-layout-color0, #111)));\n",
              "    --sklearn-color-border-box: var(--sg-text-color, var(--theme-code-foreground, var(--jp-content-font-color1, white)));\n",
              "    --sklearn-color-icon: #878787;\n",
              "  }\n",
              "}\n",
              "\n",
              "#sk-container-id-1 {\n",
              "  color: var(--sklearn-color-text);\n",
              "}\n",
              "\n",
              "#sk-container-id-1 pre {\n",
              "  padding: 0;\n",
              "}\n",
              "\n",
              "#sk-container-id-1 input.sk-hidden--visually {\n",
              "  border: 0;\n",
              "  clip: rect(1px 1px 1px 1px);\n",
              "  clip: rect(1px, 1px, 1px, 1px);\n",
              "  height: 1px;\n",
              "  margin: -1px;\n",
              "  overflow: hidden;\n",
              "  padding: 0;\n",
              "  position: absolute;\n",
              "  width: 1px;\n",
              "}\n",
              "\n",
              "#sk-container-id-1 div.sk-dashed-wrapped {\n",
              "  border: 1px dashed var(--sklearn-color-line);\n",
              "  margin: 0 0.4em 0.5em 0.4em;\n",
              "  box-sizing: border-box;\n",
              "  padding-bottom: 0.4em;\n",
              "  background-color: var(--sklearn-color-background);\n",
              "}\n",
              "\n",
              "#sk-container-id-1 div.sk-container {\n",
              "  /* jupyter's `normalize.less` sets `[hidden] { display: none; }`\n",
              "     but bootstrap.min.css set `[hidden] { display: none !important; }`\n",
              "     so we also need the `!important` here to be able to override the\n",
              "     default hidden behavior on the sphinx rendered scikit-learn.org.\n",
              "     See: https://github.com/scikit-learn/scikit-learn/issues/21755 */\n",
              "  display: inline-block !important;\n",
              "  position: relative;\n",
              "}\n",
              "\n",
              "#sk-container-id-1 div.sk-text-repr-fallback {\n",
              "  display: none;\n",
              "}\n",
              "\n",
              "div.sk-parallel-item,\n",
              "div.sk-serial,\n",
              "div.sk-item {\n",
              "  /* draw centered vertical line to link estimators */\n",
              "  background-image: linear-gradient(var(--sklearn-color-text-on-default-background), var(--sklearn-color-text-on-default-background));\n",
              "  background-size: 2px 100%;\n",
              "  background-repeat: no-repeat;\n",
              "  background-position: center center;\n",
              "}\n",
              "\n",
              "/* Parallel-specific style estimator block */\n",
              "\n",
              "#sk-container-id-1 div.sk-parallel-item::after {\n",
              "  content: \"\";\n",
              "  width: 100%;\n",
              "  border-bottom: 2px solid var(--sklearn-color-text-on-default-background);\n",
              "  flex-grow: 1;\n",
              "}\n",
              "\n",
              "#sk-container-id-1 div.sk-parallel {\n",
              "  display: flex;\n",
              "  align-items: stretch;\n",
              "  justify-content: center;\n",
              "  background-color: var(--sklearn-color-background);\n",
              "  position: relative;\n",
              "}\n",
              "\n",
              "#sk-container-id-1 div.sk-parallel-item {\n",
              "  display: flex;\n",
              "  flex-direction: column;\n",
              "}\n",
              "\n",
              "#sk-container-id-1 div.sk-parallel-item:first-child::after {\n",
              "  align-self: flex-end;\n",
              "  width: 50%;\n",
              "}\n",
              "\n",
              "#sk-container-id-1 div.sk-parallel-item:last-child::after {\n",
              "  align-self: flex-start;\n",
              "  width: 50%;\n",
              "}\n",
              "\n",
              "#sk-container-id-1 div.sk-parallel-item:only-child::after {\n",
              "  width: 0;\n",
              "}\n",
              "\n",
              "/* Serial-specific style estimator block */\n",
              "\n",
              "#sk-container-id-1 div.sk-serial {\n",
              "  display: flex;\n",
              "  flex-direction: column;\n",
              "  align-items: center;\n",
              "  background-color: var(--sklearn-color-background);\n",
              "  padding-right: 1em;\n",
              "  padding-left: 1em;\n",
              "}\n",
              "\n",
              "\n",
              "/* Toggleable style: style used for estimator/Pipeline/ColumnTransformer box that is\n",
              "clickable and can be expanded/collapsed.\n",
              "- Pipeline and ColumnTransformer use this feature and define the default style\n",
              "- Estimators will overwrite some part of the style using the `sk-estimator` class\n",
              "*/\n",
              "\n",
              "/* Pipeline and ColumnTransformer style (default) */\n",
              "\n",
              "#sk-container-id-1 div.sk-toggleable {\n",
              "  /* Default theme specific background. It is overwritten whether we have a\n",
              "  specific estimator or a Pipeline/ColumnTransformer */\n",
              "  background-color: var(--sklearn-color-background);\n",
              "}\n",
              "\n",
              "/* Toggleable label */\n",
              "#sk-container-id-1 label.sk-toggleable__label {\n",
              "  cursor: pointer;\n",
              "  display: block;\n",
              "  width: 100%;\n",
              "  margin-bottom: 0;\n",
              "  padding: 0.5em;\n",
              "  box-sizing: border-box;\n",
              "  text-align: center;\n",
              "}\n",
              "\n",
              "#sk-container-id-1 label.sk-toggleable__label-arrow:before {\n",
              "  /* Arrow on the left of the label */\n",
              "  content: \"▸\";\n",
              "  float: left;\n",
              "  margin-right: 0.25em;\n",
              "  color: var(--sklearn-color-icon);\n",
              "}\n",
              "\n",
              "#sk-container-id-1 label.sk-toggleable__label-arrow:hover:before {\n",
              "  color: var(--sklearn-color-text);\n",
              "}\n",
              "\n",
              "/* Toggleable content - dropdown */\n",
              "\n",
              "#sk-container-id-1 div.sk-toggleable__content {\n",
              "  max-height: 0;\n",
              "  max-width: 0;\n",
              "  overflow: hidden;\n",
              "  text-align: left;\n",
              "  /* unfitted */\n",
              "  background-color: var(--sklearn-color-unfitted-level-0);\n",
              "}\n",
              "\n",
              "#sk-container-id-1 div.sk-toggleable__content.fitted {\n",
              "  /* fitted */\n",
              "  background-color: var(--sklearn-color-fitted-level-0);\n",
              "}\n",
              "\n",
              "#sk-container-id-1 div.sk-toggleable__content pre {\n",
              "  margin: 0.2em;\n",
              "  border-radius: 0.25em;\n",
              "  color: var(--sklearn-color-text);\n",
              "  /* unfitted */\n",
              "  background-color: var(--sklearn-color-unfitted-level-0);\n",
              "}\n",
              "\n",
              "#sk-container-id-1 div.sk-toggleable__content.fitted pre {\n",
              "  /* unfitted */\n",
              "  background-color: var(--sklearn-color-fitted-level-0);\n",
              "}\n",
              "\n",
              "#sk-container-id-1 input.sk-toggleable__control:checked~div.sk-toggleable__content {\n",
              "  /* Expand drop-down */\n",
              "  max-height: 200px;\n",
              "  max-width: 100%;\n",
              "  overflow: auto;\n",
              "}\n",
              "\n",
              "#sk-container-id-1 input.sk-toggleable__control:checked~label.sk-toggleable__label-arrow:before {\n",
              "  content: \"▾\";\n",
              "}\n",
              "\n",
              "/* Pipeline/ColumnTransformer-specific style */\n",
              "\n",
              "#sk-container-id-1 div.sk-label input.sk-toggleable__control:checked~label.sk-toggleable__label {\n",
              "  color: var(--sklearn-color-text);\n",
              "  background-color: var(--sklearn-color-unfitted-level-2);\n",
              "}\n",
              "\n",
              "#sk-container-id-1 div.sk-label.fitted input.sk-toggleable__control:checked~label.sk-toggleable__label {\n",
              "  background-color: var(--sklearn-color-fitted-level-2);\n",
              "}\n",
              "\n",
              "/* Estimator-specific style */\n",
              "\n",
              "/* Colorize estimator box */\n",
              "#sk-container-id-1 div.sk-estimator input.sk-toggleable__control:checked~label.sk-toggleable__label {\n",
              "  /* unfitted */\n",
              "  background-color: var(--sklearn-color-unfitted-level-2);\n",
              "}\n",
              "\n",
              "#sk-container-id-1 div.sk-estimator.fitted input.sk-toggleable__control:checked~label.sk-toggleable__label {\n",
              "  /* fitted */\n",
              "  background-color: var(--sklearn-color-fitted-level-2);\n",
              "}\n",
              "\n",
              "#sk-container-id-1 div.sk-label label.sk-toggleable__label,\n",
              "#sk-container-id-1 div.sk-label label {\n",
              "  /* The background is the default theme color */\n",
              "  color: var(--sklearn-color-text-on-default-background);\n",
              "}\n",
              "\n",
              "/* On hover, darken the color of the background */\n",
              "#sk-container-id-1 div.sk-label:hover label.sk-toggleable__label {\n",
              "  color: var(--sklearn-color-text);\n",
              "  background-color: var(--sklearn-color-unfitted-level-2);\n",
              "}\n",
              "\n",
              "/* Label box, darken color on hover, fitted */\n",
              "#sk-container-id-1 div.sk-label.fitted:hover label.sk-toggleable__label.fitted {\n",
              "  color: var(--sklearn-color-text);\n",
              "  background-color: var(--sklearn-color-fitted-level-2);\n",
              "}\n",
              "\n",
              "/* Estimator label */\n",
              "\n",
              "#sk-container-id-1 div.sk-label label {\n",
              "  font-family: monospace;\n",
              "  font-weight: bold;\n",
              "  display: inline-block;\n",
              "  line-height: 1.2em;\n",
              "}\n",
              "\n",
              "#sk-container-id-1 div.sk-label-container {\n",
              "  text-align: center;\n",
              "}\n",
              "\n",
              "/* Estimator-specific */\n",
              "#sk-container-id-1 div.sk-estimator {\n",
              "  font-family: monospace;\n",
              "  border: 1px dotted var(--sklearn-color-border-box);\n",
              "  border-radius: 0.25em;\n",
              "  box-sizing: border-box;\n",
              "  margin-bottom: 0.5em;\n",
              "  /* unfitted */\n",
              "  background-color: var(--sklearn-color-unfitted-level-0);\n",
              "}\n",
              "\n",
              "#sk-container-id-1 div.sk-estimator.fitted {\n",
              "  /* fitted */\n",
              "  background-color: var(--sklearn-color-fitted-level-0);\n",
              "}\n",
              "\n",
              "/* on hover */\n",
              "#sk-container-id-1 div.sk-estimator:hover {\n",
              "  /* unfitted */\n",
              "  background-color: var(--sklearn-color-unfitted-level-2);\n",
              "}\n",
              "\n",
              "#sk-container-id-1 div.sk-estimator.fitted:hover {\n",
              "  /* fitted */\n",
              "  background-color: var(--sklearn-color-fitted-level-2);\n",
              "}\n",
              "\n",
              "/* Specification for estimator info (e.g. \"i\" and \"?\") */\n",
              "\n",
              "/* Common style for \"i\" and \"?\" */\n",
              "\n",
              ".sk-estimator-doc-link,\n",
              "a:link.sk-estimator-doc-link,\n",
              "a:visited.sk-estimator-doc-link {\n",
              "  float: right;\n",
              "  font-size: smaller;\n",
              "  line-height: 1em;\n",
              "  font-family: monospace;\n",
              "  background-color: var(--sklearn-color-background);\n",
              "  border-radius: 1em;\n",
              "  height: 1em;\n",
              "  width: 1em;\n",
              "  text-decoration: none !important;\n",
              "  margin-left: 1ex;\n",
              "  /* unfitted */\n",
              "  border: var(--sklearn-color-unfitted-level-1) 1pt solid;\n",
              "  color: var(--sklearn-color-unfitted-level-1);\n",
              "}\n",
              "\n",
              ".sk-estimator-doc-link.fitted,\n",
              "a:link.sk-estimator-doc-link.fitted,\n",
              "a:visited.sk-estimator-doc-link.fitted {\n",
              "  /* fitted */\n",
              "  border: var(--sklearn-color-fitted-level-1) 1pt solid;\n",
              "  color: var(--sklearn-color-fitted-level-1);\n",
              "}\n",
              "\n",
              "/* On hover */\n",
              "div.sk-estimator:hover .sk-estimator-doc-link:hover,\n",
              ".sk-estimator-doc-link:hover,\n",
              "div.sk-label-container:hover .sk-estimator-doc-link:hover,\n",
              ".sk-estimator-doc-link:hover {\n",
              "  /* unfitted */\n",
              "  background-color: var(--sklearn-color-unfitted-level-3);\n",
              "  color: var(--sklearn-color-background);\n",
              "  text-decoration: none;\n",
              "}\n",
              "\n",
              "div.sk-estimator.fitted:hover .sk-estimator-doc-link.fitted:hover,\n",
              ".sk-estimator-doc-link.fitted:hover,\n",
              "div.sk-label-container:hover .sk-estimator-doc-link.fitted:hover,\n",
              ".sk-estimator-doc-link.fitted:hover {\n",
              "  /* fitted */\n",
              "  background-color: var(--sklearn-color-fitted-level-3);\n",
              "  color: var(--sklearn-color-background);\n",
              "  text-decoration: none;\n",
              "}\n",
              "\n",
              "/* Span, style for the box shown on hovering the info icon */\n",
              ".sk-estimator-doc-link span {\n",
              "  display: none;\n",
              "  z-index: 9999;\n",
              "  position: relative;\n",
              "  font-weight: normal;\n",
              "  right: .2ex;\n",
              "  padding: .5ex;\n",
              "  margin: .5ex;\n",
              "  width: min-content;\n",
              "  min-width: 20ex;\n",
              "  max-width: 50ex;\n",
              "  color: var(--sklearn-color-text);\n",
              "  box-shadow: 2pt 2pt 4pt #999;\n",
              "  /* unfitted */\n",
              "  background: var(--sklearn-color-unfitted-level-0);\n",
              "  border: .5pt solid var(--sklearn-color-unfitted-level-3);\n",
              "}\n",
              "\n",
              ".sk-estimator-doc-link.fitted span {\n",
              "  /* fitted */\n",
              "  background: var(--sklearn-color-fitted-level-0);\n",
              "  border: var(--sklearn-color-fitted-level-3);\n",
              "}\n",
              "\n",
              ".sk-estimator-doc-link:hover span {\n",
              "  display: block;\n",
              "}\n",
              "\n",
              "/* \"?\"-specific style due to the `<a>` HTML tag */\n",
              "\n",
              "#sk-container-id-1 a.estimator_doc_link {\n",
              "  float: right;\n",
              "  font-size: 1rem;\n",
              "  line-height: 1em;\n",
              "  font-family: monospace;\n",
              "  background-color: var(--sklearn-color-background);\n",
              "  border-radius: 1rem;\n",
              "  height: 1rem;\n",
              "  width: 1rem;\n",
              "  text-decoration: none;\n",
              "  /* unfitted */\n",
              "  color: var(--sklearn-color-unfitted-level-1);\n",
              "  border: var(--sklearn-color-unfitted-level-1) 1pt solid;\n",
              "}\n",
              "\n",
              "#sk-container-id-1 a.estimator_doc_link.fitted {\n",
              "  /* fitted */\n",
              "  border: var(--sklearn-color-fitted-level-1) 1pt solid;\n",
              "  color: var(--sklearn-color-fitted-level-1);\n",
              "}\n",
              "\n",
              "/* On hover */\n",
              "#sk-container-id-1 a.estimator_doc_link:hover {\n",
              "  /* unfitted */\n",
              "  background-color: var(--sklearn-color-unfitted-level-3);\n",
              "  color: var(--sklearn-color-background);\n",
              "  text-decoration: none;\n",
              "}\n",
              "\n",
              "#sk-container-id-1 a.estimator_doc_link.fitted:hover {\n",
              "  /* fitted */\n",
              "  background-color: var(--sklearn-color-fitted-level-3);\n",
              "}\n",
              "</style><div id=\"sk-container-id-1\" class=\"sk-top-container\"><div class=\"sk-text-repr-fallback\"><pre>Pipeline(steps=[(&#x27;vectorizador&#x27;,\n",
              "                 CountVectorizer(analyzer=&lt;function procesar_texto at 0x7fbb288175b0&gt;)),\n",
              "                (&#x27;clasificador&#x27;, RandomForestClassifier())])</pre><b>In a Jupyter environment, please rerun this cell to show the HTML representation or trust the notebook. <br />On GitHub, the HTML representation is unable to render, please try loading this page with nbviewer.org.</b></div><div class=\"sk-container\" hidden><div class=\"sk-item sk-dashed-wrapped\"><div class=\"sk-label-container\"><div class=\"sk-label fitted sk-toggleable\"><input class=\"sk-toggleable__control sk-hidden--visually\" id=\"sk-estimator-id-1\" type=\"checkbox\" ><label for=\"sk-estimator-id-1\" class=\"sk-toggleable__label fitted sk-toggleable__label-arrow fitted\">&nbsp;&nbsp;Pipeline<a class=\"sk-estimator-doc-link fitted\" rel=\"noreferrer\" target=\"_blank\" href=\"https://scikit-learn.org/1.5/modules/generated/sklearn.pipeline.Pipeline.html\">?<span>Documentation for Pipeline</span></a><span class=\"sk-estimator-doc-link fitted\">i<span>Fitted</span></span></label><div class=\"sk-toggleable__content fitted\"><pre>Pipeline(steps=[(&#x27;vectorizador&#x27;,\n",
              "                 CountVectorizer(analyzer=&lt;function procesar_texto at 0x7fbb288175b0&gt;)),\n",
              "                (&#x27;clasificador&#x27;, RandomForestClassifier())])</pre></div> </div></div><div class=\"sk-serial\"><div class=\"sk-item\"><div class=\"sk-estimator fitted sk-toggleable\"><input class=\"sk-toggleable__control sk-hidden--visually\" id=\"sk-estimator-id-2\" type=\"checkbox\" ><label for=\"sk-estimator-id-2\" class=\"sk-toggleable__label fitted sk-toggleable__label-arrow fitted\">&nbsp;CountVectorizer<a class=\"sk-estimator-doc-link fitted\" rel=\"noreferrer\" target=\"_blank\" href=\"https://scikit-learn.org/1.5/modules/generated/sklearn.feature_extraction.text.CountVectorizer.html\">?<span>Documentation for CountVectorizer</span></a></label><div class=\"sk-toggleable__content fitted\"><pre>CountVectorizer(analyzer=&lt;function procesar_texto at 0x7fbb288175b0&gt;)</pre></div> </div></div><div class=\"sk-item\"><div class=\"sk-estimator fitted sk-toggleable\"><input class=\"sk-toggleable__control sk-hidden--visually\" id=\"sk-estimator-id-3\" type=\"checkbox\" ><label for=\"sk-estimator-id-3\" class=\"sk-toggleable__label fitted sk-toggleable__label-arrow fitted\">&nbsp;RandomForestClassifier<a class=\"sk-estimator-doc-link fitted\" rel=\"noreferrer\" target=\"_blank\" href=\"https://scikit-learn.org/1.5/modules/generated/sklearn.ensemble.RandomForestClassifier.html\">?<span>Documentation for RandomForestClassifier</span></a></label><div class=\"sk-toggleable__content fitted\"><pre>RandomForestClassifier()</pre></div> </div></div></div></div></div></div>"
            ]
          },
          "metadata": {},
          "execution_count": 144
        }
      ]
    },
    {
      "cell_type": "code",
      "source": [
        "print(classification_report(e_ent, pipeline.predict(m_ent)))"
      ],
      "metadata": {
        "colab": {
          "base_uri": "https://localhost:8080/"
        },
        "id": "0Y6HNckiskfs",
        "outputId": "8468acce-1874-4f4b-f9f1-ebe6a0fffa61"
      },
      "execution_count": 145,
      "outputs": [
        {
          "output_type": "stream",
          "name": "stdout",
          "text": [
            "              precision    recall  f1-score   support\n",
            "\n",
            "         ham       1.00      1.00      1.00      3842\n",
            "        spam       1.00      1.00      1.00       615\n",
            "\n",
            "    accuracy                           1.00      4457\n",
            "   macro avg       1.00      1.00      1.00      4457\n",
            "weighted avg       1.00      1.00      1.00      4457\n",
            "\n"
          ]
        }
      ]
    }
  ]
}